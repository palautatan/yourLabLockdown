{
 "cells": [
  {
   "cell_type": "markdown",
   "metadata": {},
   "source": [
    "# Acceptance Probabilities\n",
    "First, of course, libraries."
   ]
  },
  {
   "cell_type": "code",
   "execution_count": 11,
   "metadata": {
    "collapsed": true,
    "scrolled": true
   },
   "outputs": [],
   "source": [
    "# LIBRARIES\n",
    "library(stringr)"
   ]
  },
  {
   "cell_type": "markdown",
   "metadata": {},
   "source": [
    "### Check for file existence and matrix existence\n",
    "In the following block, I'm going to find where the log text file exists. If it exists, then I'm going to see if a matrix exists in the file. I am saving this information in the dataframe called ```df```."
   ]
  },
  {
   "cell_type": "code",
   "execution_count": 2,
   "metadata": {
    "scrolled": true
   },
   "outputs": [],
   "source": [
    "# DATA\n",
    "# ds_folder = \"D:/Dropbox/MCMC_diagnosis/1_data/\"\n",
    "ds_folder = \"/Users/treehouse3/Dropbox/MCMC_diagnosis/1_data/\"\n",
    "datasets = list.files(ds_folder)\n",
    "\n",
    "log_exists = rep(0,223)\n",
    "search_exists = rep(0,223)\n",
    "\n",
    "i=1\n",
    "for (ds in datasets){\n",
    "  # CHECK FOR FILE\n",
    "    if (file.exists(paste0(ds_folder,ds,\"/original_run/\",ds,\"_log.txt\"))) {\n",
    "      log_exists[i] = log_exists[i] + 1\n",
    "      \n",
    "      this_scan = scan(paste0(ds_folder,ds,\"/original_run/\",ds,\"_log.txt\"), what=\"character\", sep=\"\\n\")\n",
    "      search_query = \"Chain swap information for run\"\n",
    "      # CHECK FOR SEARCH\n",
    "      if (any(grepl(search_query, this_scan))) {\n",
    "        search_exists[i] = search_exists[i] + 1\n",
    "      }\n",
    "    }\n",
    "  i = i+1\n",
    "}\n",
    "\n",
    "df = data.frame(cbind(datasets, log_exists, search_exists))"
   ]
  },
  {
   "cell_type": "code",
   "execution_count": 3,
   "metadata": {
    "scrolled": true
   },
   "outputs": [
    {
     "data": {
      "text/html": [
       "223"
      ],
      "text/latex": [
       "223"
      ],
      "text/markdown": [
       "223"
      ],
      "text/plain": [
       "[1] 223"
      ]
     },
     "metadata": {},
     "output_type": "display_data"
    }
   ],
   "source": [
    "# NUMBER OF STUDIES\n",
    "length(datasets)"
   ]
  },
  {
   "cell_type": "code",
   "execution_count": 4,
   "metadata": {
    "scrolled": false
   },
   "outputs": [
    {
     "data": {
      "text/html": [
       "<table>\n",
       "<thead><tr><th scope=col>datasets</th><th scope=col>log_exists</th><th scope=col>search_exists</th></tr></thead>\n",
       "<tbody>\n",
       "\t<tr><td>S10036</td><td>0     </td><td>0     </td></tr>\n",
       "\t<tr><td>S10096</td><td>0     </td><td>0     </td></tr>\n",
       "\t<tr><td>S10116</td><td>0     </td><td>0     </td></tr>\n",
       "\t<tr><td>S10167</td><td>0     </td><td>0     </td></tr>\n",
       "\t<tr><td>S10178</td><td>0     </td><td>0     </td></tr>\n",
       "\t<tr><td>S10254</td><td>0     </td><td>0     </td></tr>\n",
       "\t<tr><td>S1070 </td><td>1     </td><td>1     </td></tr>\n",
       "\t<tr><td>S10908</td><td>0     </td><td>0     </td></tr>\n",
       "\t<tr><td>S1115 </td><td>1     </td><td>0     </td></tr>\n",
       "\t<tr><td>S11161</td><td>0     </td><td>0     </td></tr>\n",
       "\t<tr><td>S11174</td><td>0     </td><td>0     </td></tr>\n",
       "\t<tr><td>S11291</td><td>0     </td><td>0     </td></tr>\n",
       "\t<tr><td>S1134 </td><td>0     </td><td>0     </td></tr>\n",
       "\t<tr><td>S11362</td><td>0     </td><td>0     </td></tr>\n",
       "\t<tr><td>S1137 </td><td>0     </td><td>0     </td></tr>\n",
       "</tbody>\n",
       "</table>\n"
      ],
      "text/latex": [
       "\\begin{tabular}{r|lll}\n",
       " datasets & log\\_exists & search\\_exists\\\\\n",
       "\\hline\n",
       "\t S10036 & 0      & 0     \\\\\n",
       "\t S10096 & 0      & 0     \\\\\n",
       "\t S10116 & 0      & 0     \\\\\n",
       "\t S10167 & 0      & 0     \\\\\n",
       "\t S10178 & 0      & 0     \\\\\n",
       "\t S10254 & 0      & 0     \\\\\n",
       "\t S1070  & 1      & 1     \\\\\n",
       "\t S10908 & 0      & 0     \\\\\n",
       "\t S1115  & 1      & 0     \\\\\n",
       "\t S11161 & 0      & 0     \\\\\n",
       "\t S11174 & 0      & 0     \\\\\n",
       "\t S11291 & 0      & 0     \\\\\n",
       "\t S1134  & 0      & 0     \\\\\n",
       "\t S11362 & 0      & 0     \\\\\n",
       "\t S1137  & 0      & 0     \\\\\n",
       "\\end{tabular}\n"
      ],
      "text/markdown": [
       "\n",
       "datasets | log_exists | search_exists | \n",
       "|---|---|---|---|---|---|---|---|---|---|---|---|---|---|---|\n",
       "| S10036 | 0      | 0      | \n",
       "| S10096 | 0      | 0      | \n",
       "| S10116 | 0      | 0      | \n",
       "| S10167 | 0      | 0      | \n",
       "| S10178 | 0      | 0      | \n",
       "| S10254 | 0      | 0      | \n",
       "| S1070  | 1      | 1      | \n",
       "| S10908 | 0      | 0      | \n",
       "| S1115  | 1      | 0      | \n",
       "| S11161 | 0      | 0      | \n",
       "| S11174 | 0      | 0      | \n",
       "| S11291 | 0      | 0      | \n",
       "| S1134  | 0      | 0      | \n",
       "| S11362 | 0      | 0      | \n",
       "| S1137  | 0      | 0      | \n",
       "\n",
       "\n"
      ],
      "text/plain": [
       "   datasets log_exists search_exists\n",
       "1  S10036   0          0            \n",
       "2  S10096   0          0            \n",
       "3  S10116   0          0            \n",
       "4  S10167   0          0            \n",
       "5  S10178   0          0            \n",
       "6  S10254   0          0            \n",
       "7  S1070    1          1            \n",
       "8  S10908   0          0            \n",
       "9  S1115    1          0            \n",
       "10 S11161   0          0            \n",
       "11 S11174   0          0            \n",
       "12 S11291   0          0            \n",
       "13 S1134    0          0            \n",
       "14 S11362   0          0            \n",
       "15 S1137    0          0            "
      ]
     },
     "metadata": {},
     "output_type": "display_data"
    }
   ],
   "source": [
    "# PREVIEW\n",
    "head(df, 15)"
   ]
  },
  {
   "cell_type": "code",
   "execution_count": 6,
   "metadata": {
    "scrolled": true
   },
   "outputs": [
    {
     "name": "stdout",
     "output_type": "stream",
     "text": [
      "1.345291 and 0.4484305"
     ]
    }
   ],
   "source": [
    "cat(100*length(which(df[,2]==1)) / 223, \"and\", 100*length(which(df[,3]==1)) / 223)"
   ]
  },
  {
   "cell_type": "markdown",
   "metadata": {},
   "source": [
    "We have found that 1% of all the studies have the log file, and 0.44% of all the studies have matrices in those log files.\n",
    "\n",
    "### Collect acceptance probabilities from matrices\n",
    "In the next code block, I am going to collect the acceptances probabilities in a loop. I'm saving the information to list, then I'm going to convert the list into a dataframe."
   ]
  },
  {
   "cell_type": "code",
   "execution_count": 12,
   "metadata": {
    "scrolled": true
   },
   "outputs": [],
   "source": [
    "# FOR ONLY THE ONES THAT HAVE THE FILE\n",
    "save_data = list()\n",
    "for (ds in datasets[which(df[,3]==1)]) {\n",
    "  # SCAN IN THE TEXT\n",
    "  this = scan(paste0(ds_folder,ds,\"/original_run/\",ds,\"_log.txt\"), what=\"character\", sep=\"\\n\")\n",
    "  start_lines = which(grepl(\"Chain swap information\", this))\n",
    "  \n",
    "  i = 1\n",
    "  for (starting_point in start_lines) {\n",
    "    m = this[(starting_point+3):(starting_point+6)]\n",
    "    acceptances = unlist(lapply(str_extract_all(m, \"\\\\.[0-9]{2}\"), as.double))\n",
    "    save_data[[paste0(ds,\"-\",i)]] = acceptances\n",
    "    i = i + 1\n",
    "  }\n",
    "}"
   ]
  },
  {
   "cell_type": "code",
   "execution_count": 13,
   "metadata": {
    "scrolled": true
   },
   "outputs": [
    {
     "data": {
      "text/html": [
       "<dl>\n",
       "\t<dt>$`S1070-1`</dt>\n",
       "\t\t<dd><ol class=list-inline>\n",
       "\t<li>0.28</li>\n",
       "\t<li>0.04</li>\n",
       "\t<li>0</li>\n",
       "\t<li>0.34</li>\n",
       "\t<li>0.06</li>\n",
       "\t<li>0.37</li>\n",
       "</ol>\n",
       "</dd>\n",
       "\t<dt>$`S1070-2`</dt>\n",
       "\t\t<dd><ol class=list-inline>\n",
       "\t<li>0.28</li>\n",
       "\t<li>0.05</li>\n",
       "\t<li>0</li>\n",
       "\t<li>0.35</li>\n",
       "\t<li>0.08</li>\n",
       "\t<li>0.4</li>\n",
       "</ol>\n",
       "</dd>\n",
       "\t<dt>$`S1070-3`</dt>\n",
       "\t\t<dd><ol class=list-inline>\n",
       "\t<li>0.27</li>\n",
       "\t<li>0.04</li>\n",
       "\t<li>0</li>\n",
       "\t<li>0.34</li>\n",
       "\t<li>0.07</li>\n",
       "\t<li>0.39</li>\n",
       "</ol>\n",
       "</dd>\n",
       "\t<dt>$`S1070-4`</dt>\n",
       "\t\t<dd><ol class=list-inline>\n",
       "\t<li>0.28</li>\n",
       "\t<li>0.04</li>\n",
       "\t<li>0</li>\n",
       "\t<li>0.35</li>\n",
       "\t<li>0.08</li>\n",
       "\t<li>0.4</li>\n",
       "</ol>\n",
       "</dd>\n",
       "</dl>\n"
      ],
      "text/latex": [
       "\\begin{description}\n",
       "\\item[\\$`S1070-1`] \\begin{enumerate*}\n",
       "\\item 0.28\n",
       "\\item 0.04\n",
       "\\item 0\n",
       "\\item 0.34\n",
       "\\item 0.06\n",
       "\\item 0.37\n",
       "\\end{enumerate*}\n",
       "\n",
       "\\item[\\$`S1070-2`] \\begin{enumerate*}\n",
       "\\item 0.28\n",
       "\\item 0.05\n",
       "\\item 0\n",
       "\\item 0.35\n",
       "\\item 0.08\n",
       "\\item 0.4\n",
       "\\end{enumerate*}\n",
       "\n",
       "\\item[\\$`S1070-3`] \\begin{enumerate*}\n",
       "\\item 0.27\n",
       "\\item 0.04\n",
       "\\item 0\n",
       "\\item 0.34\n",
       "\\item 0.07\n",
       "\\item 0.39\n",
       "\\end{enumerate*}\n",
       "\n",
       "\\item[\\$`S1070-4`] \\begin{enumerate*}\n",
       "\\item 0.28\n",
       "\\item 0.04\n",
       "\\item 0\n",
       "\\item 0.35\n",
       "\\item 0.08\n",
       "\\item 0.4\n",
       "\\end{enumerate*}\n",
       "\n",
       "\\end{description}\n"
      ],
      "text/markdown": [
       "$`S1070-1`\n",
       ":   1. 0.28\n",
       "2. 0.04\n",
       "3. 0\n",
       "4. 0.34\n",
       "5. 0.06\n",
       "6. 0.37\n",
       "\n",
       "\n",
       "\n",
       "$`S1070-2`\n",
       ":   1. 0.28\n",
       "2. 0.05\n",
       "3. 0\n",
       "4. 0.35\n",
       "5. 0.08\n",
       "6. 0.4\n",
       "\n",
       "\n",
       "\n",
       "$`S1070-3`\n",
       ":   1. 0.27\n",
       "2. 0.04\n",
       "3. 0\n",
       "4. 0.34\n",
       "5. 0.07\n",
       "6. 0.39\n",
       "\n",
       "\n",
       "\n",
       "$`S1070-4`\n",
       ":   1. 0.28\n",
       "2. 0.04\n",
       "3. 0\n",
       "4. 0.35\n",
       "5. 0.08\n",
       "6. 0.4\n",
       "\n",
       "\n",
       "\n",
       "\n",
       "\n"
      ],
      "text/plain": [
       "$`S1070-1`\n",
       "[1] 0.28 0.04 0.00 0.34 0.06 0.37\n",
       "\n",
       "$`S1070-2`\n",
       "[1] 0.28 0.05 0.00 0.35 0.08 0.40\n",
       "\n",
       "$`S1070-3`\n",
       "[1] 0.27 0.04 0.00 0.34 0.07 0.39\n",
       "\n",
       "$`S1070-4`\n",
       "[1] 0.28 0.04 0.00 0.35 0.08 0.40\n"
      ]
     },
     "metadata": {},
     "output_type": "display_data"
    }
   ],
   "source": [
    "# PREVIEW\n",
    "save_data"
   ]
  },
  {
   "cell_type": "code",
   "execution_count": 14,
   "metadata": {
    "collapsed": true,
    "scrolled": true
   },
   "outputs": [],
   "source": [
    "# WRITE THE CSV\n",
    "acceptance_rate_df = data.frame(t(data.frame(save_data)))\n",
    "# write.csv(acceptance_rate_df, file=\"/Users/treehouse3/Dropbox/acceptance_rates.csv\")"
   ]
  },
  {
   "cell_type": "code",
   "execution_count": 15,
   "metadata": {
    "scrolled": false
   },
   "outputs": [
    {
     "data": {
      "text/html": [
       "<table>\n",
       "<thead><tr><th></th><th scope=col>X1</th><th scope=col>X2</th><th scope=col>X3</th><th scope=col>X4</th><th scope=col>X5</th><th scope=col>X6</th></tr></thead>\n",
       "<tbody>\n",
       "\t<tr><th scope=row>S1070.1</th><td>0.28</td><td>0.04</td><td>0   </td><td>0.34</td><td>0.06</td><td>0.37</td></tr>\n",
       "\t<tr><th scope=row>S1070.2</th><td>0.28</td><td>0.05</td><td>0   </td><td>0.35</td><td>0.08</td><td>0.40</td></tr>\n",
       "\t<tr><th scope=row>S1070.3</th><td>0.27</td><td>0.04</td><td>0   </td><td>0.34</td><td>0.07</td><td>0.39</td></tr>\n",
       "\t<tr><th scope=row>S1070.4</th><td>0.28</td><td>0.04</td><td>0   </td><td>0.35</td><td>0.08</td><td>0.40</td></tr>\n",
       "</tbody>\n",
       "</table>\n"
      ],
      "text/latex": [
       "\\begin{tabular}{r|llllll}\n",
       "  & X1 & X2 & X3 & X4 & X5 & X6\\\\\n",
       "\\hline\n",
       "\tS1070.1 & 0.28 & 0.04 & 0    & 0.34 & 0.06 & 0.37\\\\\n",
       "\tS1070.2 & 0.28 & 0.05 & 0    & 0.35 & 0.08 & 0.40\\\\\n",
       "\tS1070.3 & 0.27 & 0.04 & 0    & 0.34 & 0.07 & 0.39\\\\\n",
       "\tS1070.4 & 0.28 & 0.04 & 0    & 0.35 & 0.08 & 0.40\\\\\n",
       "\\end{tabular}\n"
      ],
      "text/markdown": [
       "\n",
       "| <!--/--> | X1 | X2 | X3 | X4 | X5 | X6 | \n",
       "|---|---|---|---|\n",
       "| S1070.1 | 0.28 | 0.04 | 0    | 0.34 | 0.06 | 0.37 | \n",
       "| S1070.2 | 0.28 | 0.05 | 0    | 0.35 | 0.08 | 0.40 | \n",
       "| S1070.3 | 0.27 | 0.04 | 0    | 0.34 | 0.07 | 0.39 | \n",
       "| S1070.4 | 0.28 | 0.04 | 0    | 0.35 | 0.08 | 0.40 | \n",
       "\n",
       "\n"
      ],
      "text/plain": [
       "        X1   X2   X3 X4   X5   X6  \n",
       "S1070.1 0.28 0.04 0  0.34 0.06 0.37\n",
       "S1070.2 0.28 0.05 0  0.35 0.08 0.40\n",
       "S1070.3 0.27 0.04 0  0.34 0.07 0.39\n",
       "S1070.4 0.28 0.04 0  0.35 0.08 0.40"
      ]
     },
     "metadata": {},
     "output_type": "display_data"
    }
   ],
   "source": [
    "# PREVIEW\n",
    "head(acceptance_rate_df, 15)"
   ]
  },
  {
   "cell_type": "markdown",
   "metadata": {},
   "source": [
    "### Histogram and summary statistics\n",
    "We have that 5.81% of all acceptance probabilities within these datasets fall below 20% and 44.67% of them fall above 60%."
   ]
  },
  {
   "cell_type": "code",
   "execution_count": 16,
   "metadata": {
    "scrolled": true
   },
   "outputs": [
    {
     "data": {
      "text/plain": [
       "   Min. 1st Qu.  Median    Mean 3rd Qu.    Max. \n",
       " 0.0000  0.0400  0.1750  0.1879  0.3425  0.4000 "
      ]
     },
     "metadata": {},
     "output_type": "display_data"
    },
    {
     "name": "stdout",
     "output_type": "stream",
     "text": [
      "50 and 0"
     ]
    }
   ],
   "source": [
    "summary(unlist(save_data))\n",
    "cat(100*(length(which(unlist(save_data)<0.2)) / length(unlist(save_data))), \"and\", 100*(length(which(unlist(save_data)>0.6)) / length(unlist(save_data))))"
   ]
  },
  {
   "cell_type": "code",
   "execution_count": 17,
   "metadata": {
    "collapsed": true
   },
   "outputs": [],
   "source": [
    "# GET VIOLATING STUDIES\n",
    "violating_studies = c()\n",
    "for (i in 1:length(acceptance_rate_df[,1])) {\n",
    "  if(any((acceptance_rate_df[i,]<0.2) | (acceptance_rate_df[i,]>0.6))) {\n",
    "    violating_studies = c(violating_studies, rownames(acceptance_rate_df)[i])\n",
    "  }\n",
    "}\n",
    "violating_studies = unique(unlist(lapply(violating_studies, function(x) gsub(\"\\\\.[0-9]{1}\", \"\", x))))"
   ]
  },
  {
   "cell_type": "code",
   "execution_count": 18,
   "metadata": {},
   "outputs": [
    {
     "data": {
      "text/html": [
       "<ol class=list-inline>\n",
       "\t<li>'S1070'</li>\n",
       "\t<li>NA</li>\n",
       "\t<li>NA</li>\n",
       "\t<li>NA</li>\n",
       "\t<li>NA</li>\n",
       "\t<li>NA</li>\n",
       "\t<li>NA</li>\n",
       "\t<li>NA</li>\n",
       "\t<li>NA</li>\n",
       "\t<li>NA</li>\n",
       "\t<li>NA</li>\n",
       "\t<li>NA</li>\n",
       "\t<li>NA</li>\n",
       "\t<li>NA</li>\n",
       "\t<li>NA</li>\n",
       "</ol>\n"
      ],
      "text/latex": [
       "\\begin{enumerate*}\n",
       "\\item 'S1070'\n",
       "\\item NA\n",
       "\\item NA\n",
       "\\item NA\n",
       "\\item NA\n",
       "\\item NA\n",
       "\\item NA\n",
       "\\item NA\n",
       "\\item NA\n",
       "\\item NA\n",
       "\\item NA\n",
       "\\item NA\n",
       "\\item NA\n",
       "\\item NA\n",
       "\\item NA\n",
       "\\end{enumerate*}\n"
      ],
      "text/markdown": [
       "1. 'S1070'\n",
       "2. NA\n",
       "3. NA\n",
       "4. NA\n",
       "5. NA\n",
       "6. NA\n",
       "7. NA\n",
       "8. NA\n",
       "9. NA\n",
       "10. NA\n",
       "11. NA\n",
       "12. NA\n",
       "13. NA\n",
       "14. NA\n",
       "15. NA\n",
       "\n",
       "\n"
      ],
      "text/plain": [
       " [1] \"S1070\" NA      NA      NA      NA      NA      NA      NA      NA     \n",
       "[10] NA      NA      NA      NA      NA      NA     "
      ]
     },
     "metadata": {},
     "output_type": "display_data"
    }
   ],
   "source": [
    "# PREVIEW\n",
    "violating_studies[1:15]"
   ]
  },
  {
   "cell_type": "code",
   "execution_count": 24,
   "metadata": {
    "scrolled": true
   },
   "outputs": [
    {
     "data": {
      "text/html": [
       "0.448430493273543"
      ],
      "text/latex": [
       "0.448430493273543"
      ],
      "text/markdown": [
       "0.448430493273543"
      ],
      "text/plain": [
       "[1] 0.4484305"
      ]
     },
     "metadata": {},
     "output_type": "display_data"
    }
   ],
   "source": [
    "100*length(violating_studies) / 223"
   ]
  },
  {
   "cell_type": "markdown",
   "metadata": {},
   "source": [
    "0.448% of all of these included studies have acceptance ratios outside of the range of 20-60%."
   ]
  },
  {
   "cell_type": "code",
   "execution_count": 22,
   "metadata": {},
   "outputs": [
    {
     "data": {
      "image/png": "[encoded data removed]",
      "text/plain": [
       "Plot with title “Histogram of unlist(save_data)”"
      ]
     },
     "metadata": {},
     "output_type": "display_data"
    }
   ],
   "source": [
    "# # VISUALS .. UNCOMMENT THIS IF RERUNNING\n",
    "# h = hist(unlist(save_data),\n",
    "#      breaks = 20)"
   ]
  },
  {
   "cell_type": "code",
   "execution_count": 23,
   "metadata": {
    "scrolled": false
   },
   "outputs": [
    {
     "data": {
      "image/png": "[encoded data removed]",
      "text/plain": [
       "Plot with title “Acceptance Probabilities in Datasets”"
      ]
     },
     "metadata": {},
     "output_type": "display_data"
    }
   ],
   "source": [
    "kulay = ifelse((h$breaks < 0.2) | (h$breaks > 0.6), \"snow4\", \"lightseagreen\")[-length(h$breaks)]\n",
    "plot(h, \n",
    "     col=kulay, \n",
    "     xlab=\"Acceptance Probabilities\", \n",
    "     main=\"Acceptance Probabilities in Datasets\")"
   ]
  }
 ],
 "metadata": {
  "kernelspec": {
   "display_name": "R",
   "language": "R",
   "name": "ir"
  },
  "language_info": {
   "codemirror_mode": "r",
   "file_extension": ".r",
   "mimetype": "text/x-r-source",
   "name": "R",
   "pygments_lexer": "r",
   "version": "3.4.2"
  }
 },
 "nbformat": 4,
 "nbformat_minor": 2
}
