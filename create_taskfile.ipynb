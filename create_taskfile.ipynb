{
 "cells": [
  {
   "cell_type": "markdown",
   "metadata": {},
   "source": [
    "# Creating Taskfile for Step 2 (Shakedown Runs)"
   ]
  },
  {
   "cell_type": "markdown",
   "metadata": {},
   "source": [
    "### 1. Importing Libraries and Function\n",
    "I am importing the os library and a function that ignores hidden files."
   ]
  },
  {
   "cell_type": "code",
   "execution_count": 1,
   "metadata": {
    "collapsed": false
   },
   "outputs": [],
   "source": [
    "# LIBRARIES\n",
    "from os import listdir\n",
    "from os import path"
   ]
  },
  {
   "cell_type": "code",
   "execution_count": 2,
   "metadata": {
    "collapsed": true
   },
   "outputs": [],
   "source": [
    "# MY LISTDIR_NOHIDDEN FUNCTION\n",
    "def listdir_nohidden(path):\n",
    "    files = listdir(path)\n",
    "    files_parsed = []\n",
    "    for file in files:\n",
    "        if not file.startswith('.'):\n",
    "            files_parsed.append(file)\n",
    "    return files_parsed"
   ]
  },
  {
   "cell_type": "markdown",
   "metadata": {},
   "source": [
    "### 2. Acquiring Folders and Files\n",
    "I will choose home to be where my scripts are located. Then apply the listdir_nohidden function."
   ]
  },
  {
   "cell_type": "code",
   "execution_count": 13,
   "metadata": {
    "collapsed": false,
    "scrolled": true
   },
   "outputs": [
    {
     "data": {
      "text/plain": [
       "['117', '196_8', '21', '28', '45']"
      ]
     },
     "execution_count": 13,
     "metadata": {},
     "output_type": "execute_result"
    }
   ],
   "source": [
    "# GET ALL FOLDERS\n",
    "# home = \"/Users/EDIE/Dropbox/Effect_of_partitioning/step_2_shakedown_runs/scripts/RevBayes/\"\n",
    "home = \"/Users/treehouse5/Dropbox/effect_of_partitioning/step_2_shakedown_runs/scripts/RevBayes/\"\n",
    "all_folders = listdir_nohidden(home)\n",
    "all_folders[0:5]"
   ]
  },
  {
   "cell_type": "code",
   "execution_count": 14,
   "metadata": {
    "collapsed": false
   },
   "outputs": [
    {
     "data": {
      "text/plain": [
       "[['117_aic.Rev',\n",
       "  '117_all_apart.Rev',\n",
       "  '117_bic.Rev',\n",
       "  '117_gene.Rev',\n",
       "  '117_together.Rev'],\n",
       " ['196_8_aic.Rev',\n",
       "  '196_8_all_apart.Rev',\n",
       "  '196_8_bic.Rev',\n",
       "  '196_8_gene.Rev',\n",
       "  '196_8_together.Rev']]"
      ]
     },
     "execution_count": 14,
     "metadata": {},
     "output_type": "execute_result"
    }
   ],
   "source": [
    "# GET ALL FILES WITHIN FOLDERS\n",
    "files_in_folders = [listdir_nohidden(folder) for folder in [home+folder for folder in all_folders]]\n",
    "\n",
    "# VIEW SAMPLE\n",
    "files_in_folders[0:2]"
   ]
  },
  {
   "cell_type": "code",
   "execution_count": 15,
   "metadata": {
    "collapsed": false
   },
   "outputs": [
    {
     "data": {
      "text/plain": [
       "['117_aic.Rev',\n",
       " '117_all_apart.Rev',\n",
       " '117_bic.Rev',\n",
       " '117_gene.Rev',\n",
       " '117_together.Rev']"
      ]
     },
     "execution_count": 15,
     "metadata": {},
     "output_type": "execute_result"
    }
   ],
   "source": [
    "# FLATTEN THE LIST\n",
    "flat_files = [inner for outer in files_in_folders for inner in outer]\n",
    "\n",
    "# VIEW SAMPLE\n",
    "flat_files[0:5]"
   ]
  },
  {
   "cell_type": "code",
   "execution_count": 16,
   "metadata": {
    "collapsed": false
   },
   "outputs": [],
   "source": [
    "def folderName(this_file):\n",
    "    if \"aic\" in this_file:\n",
    "        return(this_file.split(\"_aic.Rev\")[0])\n",
    "    \n",
    "    if \"all_apart\" in this_file:\n",
    "        return(this_file.split(\"_all_apart.Rev\")[0])\n",
    "    \n",
    "    if \"bic\" in this_file:\n",
    "        return(this_file.split(\"_bic.Rev\")[0])\n",
    "    \n",
    "    if \"gene\" in this_file:\n",
    "        return(this_file.split(\"_gene.Rev\")[0])\n",
    "    \n",
    "    if \"together\" in this_file:\n",
    "        return(this_file.split(\"_together.Rev\")[0])"
   ]
  },
  {
   "cell_type": "code",
   "execution_count": 17,
   "metadata": {
    "collapsed": false
   },
   "outputs": [
    {
     "name": "stdout",
     "output_type": "stream",
     "text": [
      "scripts/RevBayes/117/117_aic.Rev\n",
      "scripts/RevBayes/117/117_all_apart.Rev\n",
      "scripts/RevBayes/117/117_bic.Rev\n",
      "scripts/RevBayes/117/117_gene.Rev\n",
      "scripts/RevBayes/117/117_together.Rev\n",
      "scripts/RevBayes/196_8/196_8_aic.Rev\n",
      "scripts/RevBayes/196_8/196_8_all_apart.Rev\n",
      "scripts/RevBayes/196_8/196_8_bic.Rev\n",
      "scripts/RevBayes/196_8/196_8_gene.Rev\n",
      "scripts/RevBayes/196_8/196_8_together.Rev\n",
      "scripts/RevBayes/21/21_aic.Rev\n",
      "scripts/RevBayes/21/21_all_apart.Rev\n",
      "scripts/RevBayes/21/21_bic.Rev\n",
      "scripts/RevBayes/21/21_gene.Rev\n",
      "scripts/RevBayes/21/21_together.Rev\n",
      "scripts/RevBayes/28/28_aic.Rev\n",
      "scripts/RevBayes/28/28_all_apart.Rev\n",
      "scripts/RevBayes/28/28_bic.Rev\n",
      "scripts/RevBayes/28/28_gene.Rev\n",
      "scripts/RevBayes/28/28_together.Rev\n",
      "scripts/RevBayes/45/45_aic.Rev\n",
      "scripts/RevBayes/45/45_all_apart.Rev\n",
      "scripts/RevBayes/45/45_bic.Rev\n",
      "scripts/RevBayes/45/45_gene.Rev\n",
      "scripts/RevBayes/45/45_together.Rev\n",
      "scripts/RevBayes/4_6/4_6_aic.Rev\n",
      "scripts/RevBayes/4_6/4_6_all_apart.Rev\n",
      "scripts/RevBayes/4_6/4_6_bic.Rev\n",
      "scripts/RevBayes/4_6/4_6_gene.Rev\n",
      "scripts/RevBayes/4_6/4_6_together.Rev\n",
      "scripts/RevBayes/Bloom_2013_fishes/Bloom_2013_fishes_aic.Rev\n",
      "scripts/RevBayes/Bloom_2013_fishes/Bloom_2013_fishes_all_apart.Rev\n",
      "scripts/RevBayes/Bloom_2013_fishes/Bloom_2013_fishes_bic.Rev\n",
      "scripts/RevBayes/Bloom_2013_fishes/Bloom_2013_fishes_gene.Rev\n",
      "scripts/RevBayes/Bloom_2013_fishes/Bloom_2013_fishes_together.Rev\n",
      "scripts/RevBayes/Brown_2012/Brown_2012_aic.Rev\n",
      "scripts/RevBayes/Brown_2012/Brown_2012_all_apart.Rev\n",
      "scripts/RevBayes/Brown_2012/Brown_2012_bic.Rev\n",
      "scripts/RevBayes/Brown_2012/Brown_2012_gene.Rev\n",
      "scripts/RevBayes/Brown_2012/Brown_2012_together.Rev\n",
      "scripts/RevBayes/Cibois_2013_birds/Cibois_2013_birds_aic.Rev\n",
      "scripts/RevBayes/Cibois_2013_birds/Cibois_2013_birds_all_apart.Rev\n",
      "scripts/RevBayes/Cibois_2013_birds/Cibois_2013_birds_bic.Rev\n",
      "scripts/RevBayes/Cibois_2013_birds/Cibois_2013_birds_gene.Rev\n",
      "scripts/RevBayes/Cibois_2013_birds/Cibois_2013_birds_together.Rev\n",
      "scripts/RevBayes/Cognato_2001/Cognato_2001_aic.Rev\n",
      "scripts/RevBayes/Cognato_2001/Cognato_2001_all_apart.Rev\n",
      "scripts/RevBayes/Cognato_2001/Cognato_2001_bic.Rev\n",
      "scripts/RevBayes/Cognato_2001/Cognato_2001_gene.Rev\n",
      "scripts/RevBayes/Cognato_2001/Cognato_2001_together.Rev\n",
      "scripts/RevBayes/Condamine_2012_butterflies/Condamine_2012_butterflies_aic.Rev\n",
      "scripts/RevBayes/Condamine_2012_butterflies/Condamine_2012_butterflies_all_apart.Rev\n",
      "scripts/RevBayes/Condamine_2012_butterflies/Condamine_2012_butterflies_bic.Rev\n",
      "scripts/RevBayes/Condamine_2012_butterflies/Condamine_2012_butterflies_gene.Rev\n",
      "scripts/RevBayes/Condamine_2012_butterflies/Condamine_2012_butterflies_together.Rev\n",
      "scripts/RevBayes/Daniels_2015_crabs/Daniels_2015_crabs_aic.Rev\n",
      "scripts/RevBayes/Daniels_2015_crabs/Daniels_2015_crabs_all_apart.Rev\n",
      "scripts/RevBayes/Daniels_2015_crabs/Daniels_2015_crabs_bic.Rev\n",
      "scripts/RevBayes/Daniels_2015_crabs/Daniels_2015_crabs_gene.Rev\n",
      "scripts/RevBayes/Daniels_2015_crabs/Daniels_2015_crabs_together.Rev\n",
      "scripts/RevBayes/Day_2013/Day_2013_aic.Rev\n",
      "scripts/RevBayes/Day_2013/Day_2013_all_apart.Rev\n",
      "scripts/RevBayes/Day_2013/Day_2013_bic.Rev\n",
      "scripts/RevBayes/Day_2013/Day_2013_gene.Rev\n",
      "scripts/RevBayes/Day_2013/Day_2013_together.Rev\n",
      "scripts/RevBayes/DORNBURG_2012/DORNBURG_2012_aic.Rev\n",
      "scripts/RevBayes/DORNBURG_2012/DORNBURG_2012_all_apart.Rev\n",
      "scripts/RevBayes/DORNBURG_2012/DORNBURG_2012_bic.Rev\n",
      "scripts/RevBayes/DORNBURG_2012/DORNBURG_2012_gene.Rev\n",
      "scripts/RevBayes/DORNBURG_2012/DORNBURG_2012_together.Rev\n",
      "scripts/RevBayes/Ekrem_2010/Ekrem_2010_aic.Rev\n",
      "scripts/RevBayes/Ekrem_2010/Ekrem_2010_all_apart.Rev\n",
      "scripts/RevBayes/Ekrem_2010/Ekrem_2010_bic.Rev\n",
      "scripts/RevBayes/Ekrem_2010/Ekrem_2010_gene.Rev\n",
      "scripts/RevBayes/Ekrem_2010/Ekrem_2010_together.Rev\n",
      "scripts/RevBayes/Fishbein_2001/Fishbein_2001_aic.Rev\n",
      "scripts/RevBayes/Fishbein_2001/Fishbein_2001_all_apart.Rev\n",
      "scripts/RevBayes/Fishbein_2001/Fishbein_2001_bic.Rev\n",
      "scripts/RevBayes/Fishbein_2001/Fishbein_2001_gene.Rev\n",
      "scripts/RevBayes/Fishbein_2001/Fishbein_2001_together.Rev\n",
      "scripts/RevBayes/Garcia-Sandoval_2011_fungus/Garcia-Sandoval_2011_fungus_aic.Rev\n",
      "scripts/RevBayes/Garcia-Sandoval_2011_fungus/Garcia-Sandoval_2011_fungus_all_apart.Rev\n",
      "scripts/RevBayes/Garcia-Sandoval_2011_fungus/Garcia-Sandoval_2011_fungus_bic.Rev\n",
      "scripts/RevBayes/Garcia-Sandoval_2011_fungus/Garcia-Sandoval_2011_fungus_gene.Rev\n",
      "scripts/RevBayes/Garcia-Sandoval_2011_fungus/Garcia-Sandoval_2011_fungus_together.Rev\n",
      "scripts/RevBayes/Grande_2013/Grande_2013_aic.Rev\n",
      "scripts/RevBayes/Grande_2013/Grande_2013_all_apart.Rev\n",
      "scripts/RevBayes/Grande_2013/Grande_2013_bic.Rev\n",
      "scripts/RevBayes/Grande_2013/Grande_2013_gene.Rev\n",
      "scripts/RevBayes/Grande_2013/Grande_2013_together.Rev\n",
      "scripts/RevBayes/Hyde_2007_rockfishes/Hyde_2007_rockfishes_aic.Rev\n",
      "scripts/RevBayes/Hyde_2007_rockfishes/Hyde_2007_rockfishes_all_apart.Rev\n",
      "scripts/RevBayes/Hyde_2007_rockfishes/Hyde_2007_rockfishes_bic.Rev\n",
      "scripts/RevBayes/Hyde_2007_rockfishes/Hyde_2007_rockfishes_gene.Rev\n",
      "scripts/RevBayes/Hyde_2007_rockfishes/Hyde_2007_rockfishes_together.Rev\n",
      "scripts/RevBayes/Kaffenberger_2011/Kaffenberger_2011_aic.Rev\n",
      "scripts/RevBayes/Kaffenberger_2011/Kaffenberger_2011_all_apart.Rev\n",
      "scripts/RevBayes/Kaffenberger_2011/Kaffenberger_2011_bic.Rev\n",
      "scripts/RevBayes/Kaffenberger_2011/Kaffenberger_2011_gene.Rev\n",
      "scripts/RevBayes/Kaffenberger_2011/Kaffenberger_2011_together.Rev\n",
      "scripts/RevBayes/Kang_2013a/Kang_2013a_aic.Rev\n",
      "scripts/RevBayes/Kang_2013a/Kang_2013a_all_apart.Rev\n",
      "scripts/RevBayes/Kang_2013a/Kang_2013a_bic.Rev\n",
      "scripts/RevBayes/Kang_2013a/Kang_2013a_gene.Rev\n",
      "scripts/RevBayes/Kang_2013a/Kang_2013a_together.Rev\n",
      "scripts/RevBayes/Korall_2006_tree_ferns/Korall_2006_tree_ferns_aic.Rev\n",
      "scripts/RevBayes/Korall_2006_tree_ferns/Korall_2006_tree_ferns_all_apart.Rev\n",
      "scripts/RevBayes/Korall_2006_tree_ferns/Korall_2006_tree_ferns_bic.Rev\n",
      "scripts/RevBayes/Korall_2006_tree_ferns/Korall_2006_tree_ferns_gene.Rev\n",
      "scripts/RevBayes/Korall_2006_tree_ferns/Korall_2006_tree_ferns_together.Rev\n",
      "scripts/RevBayes/Lane_2006_kelp/Lane_2006_kelp_aic.Rev\n",
      "scripts/RevBayes/Lane_2006_kelp/Lane_2006_kelp_all_apart.Rev\n",
      "scripts/RevBayes/Lane_2006_kelp/Lane_2006_kelp_bic.Rev\n",
      "scripts/RevBayes/Lane_2006_kelp/Lane_2006_kelp_gene.Rev\n",
      "scripts/RevBayes/Lane_2006_kelp/Lane_2006_kelp_together.Rev\n",
      "scripts/RevBayes/Leache_2009_lizards_nuclear/Leache_2009_lizards_nuclear_aic.Rev\n",
      "scripts/RevBayes/Leache_2009_lizards_nuclear/Leache_2009_lizards_nuclear_all_apart.Rev\n",
      "scripts/RevBayes/Leache_2009_lizards_nuclear/Leache_2009_lizards_nuclear_bic.Rev\n",
      "scripts/RevBayes/Leache_2009_lizards_nuclear/Leache_2009_lizards_nuclear_gene.Rev\n",
      "scripts/RevBayes/Leache_2009_lizards_nuclear/Leache_2009_lizards_nuclear_together.Rev\n",
      "scripts/RevBayes/Li_2008/Li_2008_aic.Rev\n",
      "scripts/RevBayes/Li_2008/Li_2008_all_apart.Rev\n",
      "scripts/RevBayes/Li_2008/Li_2008_bic.Rev\n",
      "scripts/RevBayes/Li_2008/Li_2008_gene.Rev\n",
      "scripts/RevBayes/Li_2008/Li_2008_together.Rev\n",
      "scripts/RevBayes/Magallon_2010_angiosperms/Magallon_2010_angiosperms_aic.Rev\n",
      "scripts/RevBayes/Magallon_2010_angiosperms/Magallon_2010_angiosperms_all_apart.Rev\n",
      "scripts/RevBayes/Magallon_2010_angiosperms/Magallon_2010_angiosperms_bic.Rev\n",
      "scripts/RevBayes/Magallon_2010_angiosperms/Magallon_2010_angiosperms_gene.Rev\n",
      "scripts/RevBayes/Magallon_2010_angiosperms/Magallon_2010_angiosperms_together.Rev\n",
      "scripts/RevBayes/Martinkova_2012_rodents/Martinkova_2012_rodents_aic.Rev\n",
      "scripts/RevBayes/Martinkova_2012_rodents/Martinkova_2012_rodents_all_apart.Rev\n",
      "scripts/RevBayes/Martinkova_2012_rodents/Martinkova_2012_rodents_bic.Rev\n",
      "scripts/RevBayes/Martinkova_2012_rodents/Martinkova_2012_rodents_gene.Rev\n",
      "scripts/RevBayes/Martinkova_2012_rodents/Martinkova_2012_rodents_together.Rev\n",
      "scripts/RevBayes/Matheny_2009_fungus/Matheny_2009_fungus_aic.Rev\n",
      "scripts/RevBayes/Matheny_2009_fungus/Matheny_2009_fungus_all_apart.Rev\n",
      "scripts/RevBayes/Matheny_2009_fungus/Matheny_2009_fungus_bic.Rev\n",
      "scripts/RevBayes/Matheny_2009_fungus/Matheny_2009_fungus_gene.Rev\n",
      "scripts/RevBayes/Matheny_2009_fungus/Matheny_2009_fungus_together.Rev\n",
      "scripts/RevBayes/Murienne_2010_arachnids/Murienne_2010_arachnids_aic.Rev\n",
      "scripts/RevBayes/Murienne_2010_arachnids/Murienne_2010_arachnids_all_apart.Rev\n",
      "scripts/RevBayes/Murienne_2010_arachnids/Murienne_2010_arachnids_bic.Rev\n",
      "scripts/RevBayes/Murienne_2010_arachnids/Murienne_2010_arachnids_gene.Rev\n",
      "scripts/RevBayes/Murienne_2010_arachnids/Murienne_2010_arachnids_together.Rev\n",
      "scripts/RevBayes/Price_2014_ants/Price_2014_ants_aic.Rev\n",
      "scripts/RevBayes/Price_2014_ants/Price_2014_ants_all_apart.Rev\n",
      "scripts/RevBayes/Price_2014_ants/Price_2014_ants_bic.Rev\n",
      "scripts/RevBayes/Price_2014_ants/Price_2014_ants_gene.Rev\n",
      "scripts/RevBayes/Price_2014_ants/Price_2014_ants_together.Rev\n",
      "scripts/RevBayes/RIGHTMYER_2013/RIGHTMYER_2013_aic.Rev\n",
      "scripts/RevBayes/RIGHTMYER_2013/RIGHTMYER_2013_all_apart.Rev\n",
      "scripts/RevBayes/RIGHTMYER_2013/RIGHTMYER_2013_bic.Rev\n",
      "scripts/RevBayes/RIGHTMYER_2013/RIGHTMYER_2013_gene.Rev\n",
      "scripts/RevBayes/RIGHTMYER_2013/RIGHTMYER_2013_together.Rev\n",
      "scripts/RevBayes/Ronquist_2012_hymenoptera/Ronquist_2012_hymenoptera_aic.Rev\n",
      "scripts/RevBayes/Ronquist_2012_hymenoptera/Ronquist_2012_hymenoptera_all_apart.Rev\n",
      "scripts/RevBayes/Ronquist_2012_hymenoptera/Ronquist_2012_hymenoptera_bic.Rev\n",
      "scripts/RevBayes/Ronquist_2012_hymenoptera/Ronquist_2012_hymenoptera_gene.Rev\n",
      "scripts/RevBayes/Ronquist_2012_hymenoptera/Ronquist_2012_hymenoptera_together.Rev\n",
      "scripts/RevBayes/Rota_2011_moths/Rota_2011_moths_aic.Rev\n",
      "scripts/RevBayes/Rota_2011_moths/Rota_2011_moths_all_apart.Rev\n",
      "scripts/RevBayes/Rota_2011_moths/Rota_2011_moths_bic.Rev\n",
      "scripts/RevBayes/Rota_2011_moths/Rota_2011_moths_gene.Rev\n",
      "scripts/RevBayes/Rota_2011_moths/Rota_2011_moths_together.Rev\n",
      "scripts/RevBayes/Ryberg_2011_fungus/Ryberg_2011_fungus_aic.Rev\n",
      "scripts/RevBayes/Ryberg_2011_fungus/Ryberg_2011_fungus_all_apart.Rev\n",
      "scripts/RevBayes/Ryberg_2011_fungus/Ryberg_2011_fungus_bic.Rev\n",
      "scripts/RevBayes/Ryberg_2011_fungus/Ryberg_2011_fungus_gene.Rev\n",
      "scripts/RevBayes/Ryberg_2011_fungus/Ryberg_2011_fungus_together.Rev\n",
      "scripts/RevBayes/S10012/S10012_aic.Rev\n",
      "scripts/RevBayes/S10012/S10012_all_apart.Rev\n",
      "scripts/RevBayes/S10012/S10012_bic.Rev\n",
      "scripts/RevBayes/S10012/S10012_gene.Rev\n",
      "scripts/RevBayes/S10012/S10012_together.Rev\n",
      "scripts/RevBayes/S10163/S10163_aic.Rev\n",
      "scripts/RevBayes/S10163/S10163_all_apart.Rev\n",
      "scripts/RevBayes/S10163/S10163_bic.Rev\n",
      "scripts/RevBayes/S10163/S10163_gene.Rev\n",
      "scripts/RevBayes/S10163/S10163_together.Rev\n",
      "scripts/RevBayes/S10620/S10620_aic.Rev\n",
      "scripts/RevBayes/S10620/S10620_all_apart.Rev\n",
      "scripts/RevBayes/S10620/S10620_bic.Rev\n",
      "scripts/RevBayes/S10620/S10620_gene.Rev\n",
      "scripts/RevBayes/S10620/S10620_together.Rev\n",
      "scripts/RevBayes/S1070/S1070_aic.Rev\n",
      "scripts/RevBayes/S1070/S1070_all_apart.Rev\n",
      "scripts/RevBayes/S1070/S1070_bic.Rev\n",
      "scripts/RevBayes/S1070/S1070_gene.Rev\n",
      "scripts/RevBayes/S1070/S1070_together.Rev\n",
      "scripts/RevBayes/S1115/S1115_aic.Rev\n",
      "scripts/RevBayes/S1115/S1115_all_apart.Rev\n",
      "scripts/RevBayes/S1115/S1115_bic.Rev\n",
      "scripts/RevBayes/S1115/S1115_gene.Rev\n",
      "scripts/RevBayes/S1115/S1115_together.Rev\n",
      "scripts/RevBayes/S11291/S11291_aic.Rev\n",
      "scripts/RevBayes/S11291/S11291_all_apart.Rev\n",
      "scripts/RevBayes/S11291/S11291_bic.Rev\n",
      "scripts/RevBayes/S11291/S11291_gene.Rev\n",
      "scripts/RevBayes/S11291/S11291_together.Rev\n",
      "scripts/RevBayes/S1137/S1137_aic.Rev\n",
      "scripts/RevBayes/S1137/S1137_all_apart.Rev\n",
      "scripts/RevBayes/S1137/S1137_bic.Rev\n",
      "scripts/RevBayes/S1137/S1137_gene.Rev\n",
      "scripts/RevBayes/S1137/S1137_together.Rev\n",
      "scripts/RevBayes/S11410/S11410_aic.Rev\n",
      "scripts/RevBayes/S11410/S11410_all_apart.Rev\n",
      "scripts/RevBayes/S11410/S11410_bic.Rev\n",
      "scripts/RevBayes/S11410/S11410_gene.Rev\n",
      "scripts/RevBayes/S11410/S11410_together.Rev\n",
      "scripts/RevBayes/S11849/S11849_aic.Rev\n",
      "scripts/RevBayes/S11849/S11849_all_apart.Rev\n",
      "scripts/RevBayes/S11849/S11849_bic.Rev\n",
      "scripts/RevBayes/S11849/S11849_gene.Rev\n",
      "scripts/RevBayes/S11849/S11849_together.Rev\n",
      "scripts/RevBayes/S12213/S12213_aic.Rev\n",
      "scripts/RevBayes/S12213/S12213_all_apart.Rev\n",
      "scripts/RevBayes/S12213/S12213_bic.Rev\n",
      "scripts/RevBayes/S12213/S12213_gene.Rev\n",
      "scripts/RevBayes/S12213/S12213_together.Rev\n",
      "scripts/RevBayes/S12836/S12836_aic.Rev\n",
      "scripts/RevBayes/S12836/S12836_all_apart.Rev\n",
      "scripts/RevBayes/S12836/S12836_bic.Rev\n",
      "scripts/RevBayes/S12836/S12836_gene.Rev\n",
      "scripts/RevBayes/S12836/S12836_together.Rev\n",
      "scripts/RevBayes/S1349/S1349_aic.Rev\n",
      "scripts/RevBayes/S1349/S1349_all_apart.Rev\n",
      "scripts/RevBayes/S1349/S1349_bic.Rev\n",
      "scripts/RevBayes/S1349/S1349_gene.Rev\n",
      "scripts/RevBayes/S1349/S1349_together.Rev\n",
      "scripts/RevBayes/S13927/S13927_aic.Rev\n",
      "scripts/RevBayes/S13927/S13927_all_apart.Rev\n",
      "scripts/RevBayes/S13927/S13927_bic.Rev\n",
      "scripts/RevBayes/S13927/S13927_gene.Rev\n",
      "scripts/RevBayes/S13927/S13927_together.Rev\n",
      "scripts/RevBayes/S1572/S1572_aic.Rev\n",
      "scripts/RevBayes/S1572/S1572_all_apart.Rev\n",
      "scripts/RevBayes/S1572/S1572_bic.Rev\n",
      "scripts/RevBayes/S1572/S1572_gene.Rev\n",
      "scripts/RevBayes/S1572/S1572_together.Rev\n",
      "scripts/RevBayes/S1802/S1802_aic.Rev\n",
      "scripts/RevBayes/S1802/S1802_all_apart.Rev\n",
      "scripts/RevBayes/S1802/S1802_bic.Rev\n",
      "scripts/RevBayes/S1802/S1802_gene.Rev\n",
      "scripts/RevBayes/S1802/S1802_together.Rev\n",
      "scripts/RevBayes/S1987/S1987_aic.Rev\n",
      "scripts/RevBayes/S1987/S1987_all_apart.Rev\n",
      "scripts/RevBayes/S1987/S1987_bic.Rev\n",
      "scripts/RevBayes/S1987/S1987_gene.Rev\n",
      "scripts/RevBayes/S1987/S1987_together.Rev\n",
      "scripts/RevBayes/S2061/S2061_aic.Rev\n",
      "scripts/RevBayes/S2061/S2061_all_apart.Rev\n",
      "scripts/RevBayes/S2061/S2061_bic.Rev\n",
      "scripts/RevBayes/S2061/S2061_gene.Rev\n",
      "scripts/RevBayes/S2061/S2061_together.Rev\n",
      "scripts/RevBayes/SEAGO_2011/SEAGO_2011_aic.Rev\n",
      "scripts/RevBayes/SEAGO_2011/SEAGO_2011_all_apart.Rev\n",
      "scripts/RevBayes/SEAGO_2011/SEAGO_2011_bic.Rev\n",
      "scripts/RevBayes/SEAGO_2011/SEAGO_2011_gene.Rev\n",
      "scripts/RevBayes/SEAGO_2011/SEAGO_2011_together.Rev\n",
      "scripts/RevBayes/Voss_2008_marsupials/Voss_2008_marsupials_aic.Rev\n",
      "scripts/RevBayes/Voss_2008_marsupials/Voss_2008_marsupials_all_apart.Rev\n",
      "scripts/RevBayes/Voss_2008_marsupials/Voss_2008_marsupials_bic.Rev\n",
      "scripts/RevBayes/Voss_2008_marsupials/Voss_2008_marsupials_gene.Rev\n",
      "scripts/RevBayes/Voss_2008_marsupials/Voss_2008_marsupials_together.Rev\n"
     ]
    }
   ],
   "source": [
    "# CREATES FILE PATHS RELATIVE TO DIRECTORY OF CHOICE\n",
    "all_paths = [\"scripts/RevBayes/\" + folderName(this_file) + \"/\" + this_file for this_file in flat_files]\n",
    "# print all_paths\n",
    "\n",
    "# VIEW SAMPLE\n",
    "all_paths[0:5]\n",
    "\n",
    "# CREATES COMMANDS FOR TERMINAL\n",
    "# all_commands = [\"rb \"+ path for path in all_paths]\n",
    "all_commands = [path for path in all_paths]\n",
    "\n",
    "# CREATES THE TASKFILE WITH NECESSARY LINE BREAKS\n",
    "with_line_breaks = \"\\n\".join(all_commands)\n",
    "print with_line_breaks"
   ]
  },
  {
   "cell_type": "markdown",
   "metadata": {},
   "source": [
    "### 3. Writing to Text File\n",
    "Now, we'll just write the string as joined above to a text file on the computer."
   ]
  },
  {
   "cell_type": "code",
   "execution_count": 18,
   "metadata": {
    "collapsed": true
   },
   "outputs": [],
   "source": [
    "with open(\"taskfile.txt\", \"w\") as text_file:\n",
    "    text_file.write(with_line_breaks)"
   ]
  },
  {
   "cell_type": "code",
   "execution_count": null,
   "metadata": {
    "collapsed": true
   },
   "outputs": [],
   "source": []
  }
 ],
 "metadata": {
  "kernelspec": {
   "display_name": "Python 2",
   "language": "python",
   "name": "python2"
  },
  "language_info": {
   "codemirror_mode": {
    "name": "ipython",
    "version": 2
   },
   "file_extension": ".py",
   "mimetype": "text/x-python",
   "name": "python",
   "nbconvert_exporter": "python",
   "pygments_lexer": "ipython2",
   "version": "2.7.13"
  }
 },
 "nbformat": 4,
 "nbformat_minor": 2
}
