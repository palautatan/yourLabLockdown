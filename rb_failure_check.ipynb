{
 "cells": [
  {
   "cell_type": "markdown",
   "metadata": {},
   "source": [
    "# Checking for Failure"
   ]
  },
  {
   "cell_type": "markdown",
   "metadata": {},
   "source": [
    "#### biohazardCleanUp Function"
   ]
  },
  {
   "cell_type": "code",
   "execution_count": 2,
   "metadata": {
    "collapsed": true
   },
   "outputs": [],
   "source": [
    "# REQUIREMENTS\n",
    "from os import listdir\n",
    "\n",
    "# LISTDIR_NH FUNCTION\n",
    "def listdir_nh(path):\n",
    "    '''\n",
    "    Input: Path of directory (string)\n",
    "    Output: Non-hidden files within given directory (list of strings)\n",
    "    '''\n",
    "    files = listdir(path)\n",
    "    parsed = [file for file in files if not file.startswith(\".\")]\n",
    "    return parsed"
   ]
  },
  {
   "cell_type": "markdown",
   "metadata": {},
   "source": [
    "## 1. Set Parent Directory"
   ]
  },
  {
   "cell_type": "code",
   "execution_count": 6,
   "metadata": {
    "collapsed": true
   },
   "outputs": [],
   "source": [
    "# MY PARENT DIRECTORY\n",
    "padre = \"/Volumes/EDIE ESPEJO/job_log_20171003/\""
   ]
  },
  {
   "cell_type": "markdown",
   "metadata": {},
   "source": [
    "## 2. Run the Rest"
   ]
  },
  {
   "cell_type": "code",
   "execution_count": 8,
   "metadata": {
    "collapsed": false,
    "scrolled": true
   },
   "outputs": [],
   "source": [
    "file_paths = [padre+x for x in listdir_nh(padre)]"
   ]
  },
  {
   "cell_type": "code",
   "execution_count": 15,
   "metadata": {
    "collapsed": false
   },
   "outputs": [
    {
     "data": {
      "text/plain": [
       "['/Volumes/EDIE ESPEJO/job_log_20171003/scripts_RevBayes_117_117_aic_Rev',\n",
       " '/Volumes/EDIE ESPEJO/job_log_20171003/scripts_RevBayes_196_8_196_8_aic_Rev',\n",
       " '/Volumes/EDIE ESPEJO/job_log_20171003/scripts_RevBayes_21_21_aic_Rev',\n",
       " '/Volumes/EDIE ESPEJO/job_log_20171003/scripts_RevBayes_28_28_aic_Rev',\n",
       " '/Volumes/EDIE ESPEJO/job_log_20171003/scripts_RevBayes_45_45_aic_Rev',\n",
       " '/Volumes/EDIE ESPEJO/job_log_20171003/scripts_RevBayes_4_6_4_6_aic_Rev']"
      ]
     },
     "execution_count": 15,
     "metadata": {},
     "output_type": "execute_result"
    }
   ],
   "source": [
    "# PREVIEW OF FILE PATHS\n",
    "file_paths[0:30:5]"
   ]
  },
  {
   "cell_type": "code",
   "execution_count": 100,
   "metadata": {
    "collapsed": true
   },
   "outputs": [],
   "source": [
    "def checkFailures(script_path):\n",
    "    # READ FILE AS STRING\n",
    "    with open (script_path, \"r\") as this_file:\n",
    "        data = this_file.read()\n",
    "        \n",
    "    # CHECK IF PARTICULAR STRINGS IN IT\n",
    "    if \"FAILURE\" in data:\n",
    "        return(\"Failure\")\n",
    "    if \"Error:\" in data:\n",
    "        return(\"Error\")\n",
    "    \n",
    "    return(\"\")"
   ]
  },
  {
   "cell_type": "code",
   "execution_count": 101,
   "metadata": {
    "collapsed": false
   },
   "outputs": [],
   "source": [
    "outcomes = [checkFailures(x) for x in file_paths]"
   ]
  },
  {
   "cell_type": "code",
   "execution_count": 107,
   "metadata": {
    "collapsed": true
   },
   "outputs": [],
   "source": [
    "# GETTING THE DATASET NAMES\n",
    "import pandas as pd\n",
    "\n",
    "def getAnalysisName(script_path):\n",
    "    return(script_path.split(\"_\", 5)[-1])"
   ]
  },
  {
   "cell_type": "code",
   "execution_count": 108,
   "metadata": {
    "collapsed": true
   },
   "outputs": [],
   "source": [
    "names = [getAnalysisName(x) for x in file_paths]"
   ]
  },
  {
   "cell_type": "code",
   "execution_count": 109,
   "metadata": {
    "collapsed": false
   },
   "outputs": [],
   "source": [
    "outcome_table = pd.DataFrame([names, outcomes], [\"names\", \"outcomes\"]).T"
   ]
  },
  {
   "cell_type": "code",
   "execution_count": 110,
   "metadata": {
    "collapsed": false
   },
   "outputs": [],
   "source": [
    "outcome_table_sorted = outcome_table.sort_values(\"outcomes\", ascending=False)"
   ]
  },
  {
   "cell_type": "code",
   "execution_count": 111,
   "metadata": {
    "collapsed": false
   },
   "outputs": [
    {
     "data": {
      "text/html": [
       "<div>\n",
       "<table border=\"1\" class=\"dataframe\">\n",
       "  <thead>\n",
       "    <tr style=\"text-align: right;\">\n",
       "      <th></th>\n",
       "      <th>names</th>\n",
       "      <th>outcomes</th>\n",
       "    </tr>\n",
       "  </thead>\n",
       "  <tbody>\n",
       "    <tr>\n",
       "      <th>0</th>\n",
       "      <td>117_aic_Rev</td>\n",
       "      <td></td>\n",
       "    </tr>\n",
       "    <tr>\n",
       "      <th>1</th>\n",
       "      <td>117_all_apart_Rev</td>\n",
       "      <td></td>\n",
       "    </tr>\n",
       "    <tr>\n",
       "      <th>2</th>\n",
       "      <td>117_bic_Rev</td>\n",
       "      <td></td>\n",
       "    </tr>\n",
       "    <tr>\n",
       "      <th>3</th>\n",
       "      <td>117_gene_Rev</td>\n",
       "      <td></td>\n",
       "    </tr>\n",
       "    <tr>\n",
       "      <th>4</th>\n",
       "      <td>117_together_Rev</td>\n",
       "      <td></td>\n",
       "    </tr>\n",
       "    <tr>\n",
       "      <th>5</th>\n",
       "      <td>8_196_8_aic_Rev</td>\n",
       "      <td></td>\n",
       "    </tr>\n",
       "    <tr>\n",
       "      <th>6</th>\n",
       "      <td>8_196_8_all_apart_Rev</td>\n",
       "      <td></td>\n",
       "    </tr>\n",
       "    <tr>\n",
       "      <th>7</th>\n",
       "      <td>8_196_8_bic_Rev</td>\n",
       "      <td>Failure</td>\n",
       "    </tr>\n",
       "    <tr>\n",
       "      <th>8</th>\n",
       "      <td>8_196_8_gene_Rev</td>\n",
       "      <td></td>\n",
       "    </tr>\n",
       "    <tr>\n",
       "      <th>9</th>\n",
       "      <td>8_196_8_together_Rev</td>\n",
       "      <td></td>\n",
       "    </tr>\n",
       "    <tr>\n",
       "      <th>10</th>\n",
       "      <td>21_aic_Rev</td>\n",
       "      <td></td>\n",
       "    </tr>\n",
       "    <tr>\n",
       "      <th>11</th>\n",
       "      <td>21_all_apart_Rev</td>\n",
       "      <td></td>\n",
       "    </tr>\n",
       "    <tr>\n",
       "      <th>12</th>\n",
       "      <td>21_bic_Rev</td>\n",
       "      <td>Failure</td>\n",
       "    </tr>\n",
       "    <tr>\n",
       "      <th>13</th>\n",
       "      <td>21_gene_Rev</td>\n",
       "      <td></td>\n",
       "    </tr>\n",
       "    <tr>\n",
       "      <th>14</th>\n",
       "      <td>21_together_Rev</td>\n",
       "      <td></td>\n",
       "    </tr>\n",
       "    <tr>\n",
       "      <th>15</th>\n",
       "      <td>28_aic_Rev</td>\n",
       "      <td></td>\n",
       "    </tr>\n",
       "    <tr>\n",
       "      <th>16</th>\n",
       "      <td>28_all_apart_Rev</td>\n",
       "      <td></td>\n",
       "    </tr>\n",
       "    <tr>\n",
       "      <th>17</th>\n",
       "      <td>28_bic_Rev</td>\n",
       "      <td>Failure</td>\n",
       "    </tr>\n",
       "    <tr>\n",
       "      <th>18</th>\n",
       "      <td>28_gene_Rev</td>\n",
       "      <td></td>\n",
       "    </tr>\n",
       "    <tr>\n",
       "      <th>19</th>\n",
       "      <td>28_together_Rev</td>\n",
       "      <td></td>\n",
       "    </tr>\n",
       "    <tr>\n",
       "      <th>20</th>\n",
       "      <td>45_aic_Rev</td>\n",
       "      <td></td>\n",
       "    </tr>\n",
       "    <tr>\n",
       "      <th>21</th>\n",
       "      <td>45_all_apart_Rev</td>\n",
       "      <td></td>\n",
       "    </tr>\n",
       "    <tr>\n",
       "      <th>22</th>\n",
       "      <td>45_bic_Rev</td>\n",
       "      <td>Failure</td>\n",
       "    </tr>\n",
       "    <tr>\n",
       "      <th>23</th>\n",
       "      <td>45_gene_Rev</td>\n",
       "      <td></td>\n",
       "    </tr>\n",
       "    <tr>\n",
       "      <th>24</th>\n",
       "      <td>45_together_Rev</td>\n",
       "      <td></td>\n",
       "    </tr>\n",
       "    <tr>\n",
       "      <th>25</th>\n",
       "      <td>6_4_6_aic_Rev</td>\n",
       "      <td></td>\n",
       "    </tr>\n",
       "    <tr>\n",
       "      <th>26</th>\n",
       "      <td>6_4_6_all_apart_Rev</td>\n",
       "      <td></td>\n",
       "    </tr>\n",
       "    <tr>\n",
       "      <th>27</th>\n",
       "      <td>6_4_6_bic_Rev</td>\n",
       "      <td></td>\n",
       "    </tr>\n",
       "    <tr>\n",
       "      <th>28</th>\n",
       "      <td>6_4_6_gene_Rev</td>\n",
       "      <td></td>\n",
       "    </tr>\n",
       "    <tr>\n",
       "      <th>29</th>\n",
       "      <td>6_4_6_together_Rev</td>\n",
       "      <td></td>\n",
       "    </tr>\n",
       "  </tbody>\n",
       "</table>\n",
       "</div>"
      ],
      "text/plain": [
       "                    names outcomes\n",
       "0             117_aic_Rev         \n",
       "1       117_all_apart_Rev         \n",
       "2             117_bic_Rev         \n",
       "3            117_gene_Rev         \n",
       "4        117_together_Rev         \n",
       "5         8_196_8_aic_Rev         \n",
       "6   8_196_8_all_apart_Rev         \n",
       "7         8_196_8_bic_Rev  Failure\n",
       "8        8_196_8_gene_Rev         \n",
       "9    8_196_8_together_Rev         \n",
       "10             21_aic_Rev         \n",
       "11       21_all_apart_Rev         \n",
       "12             21_bic_Rev  Failure\n",
       "13            21_gene_Rev         \n",
       "14        21_together_Rev         \n",
       "15             28_aic_Rev         \n",
       "16       28_all_apart_Rev         \n",
       "17             28_bic_Rev  Failure\n",
       "18            28_gene_Rev         \n",
       "19        28_together_Rev         \n",
       "20             45_aic_Rev         \n",
       "21       45_all_apart_Rev         \n",
       "22             45_bic_Rev  Failure\n",
       "23            45_gene_Rev         \n",
       "24        45_together_Rev         \n",
       "25          6_4_6_aic_Rev         \n",
       "26    6_4_6_all_apart_Rev         \n",
       "27          6_4_6_bic_Rev         \n",
       "28         6_4_6_gene_Rev         \n",
       "29     6_4_6_together_Rev         "
      ]
     },
     "execution_count": 111,
     "metadata": {},
     "output_type": "execute_result"
    }
   ],
   "source": [
    "outcome_table.head(30)"
   ]
  },
  {
   "cell_type": "code",
   "execution_count": 119,
   "metadata": {
    "collapsed": false
   },
   "outputs": [],
   "source": [
    "issues = list(outcome_table[\"names\"][outcome_table[\"outcomes\"]!=\"\"])"
   ]
  },
  {
   "cell_type": "code",
   "execution_count": 121,
   "metadata": {
    "collapsed": false
   },
   "outputs": [
    {
     "data": {
      "text/plain": [
       "['8_196_8_bic_Rev',\n",
       " '21_bic_Rev',\n",
       " '28_bic_Rev',\n",
       " '45_bic_Rev',\n",
       " '2013_fishes_Bloom_2013_fishes_bic_Rev',\n",
       " '2012_Brown_2012_aic_Rev',\n",
       " '2012_Brown_2012_all_apart_Rev',\n",
       " '2012_Brown_2012_bic_Rev',\n",
       " '2012_Brown_2012_gene_Rev',\n",
       " '2012_Brown_2012_together_Rev',\n",
       " '2013_birds_Cibois_2013_birds_bic_Rev',\n",
       " '2001_Cognato_2001_bic_Rev',\n",
       " '2012_butterflies_Condamine_2012_butterflies_bic_Rev',\n",
       " '2015_crabs_Daniels_2015_crabs_bic_Rev',\n",
       " '2013_Day_2013_bic_Rev',\n",
       " '2012_DORNBURG_2012_bic_Rev',\n",
       " '2010_Ekrem_2010_bic_Rev',\n",
       " '2001_Fishbein_2001_bic_Rev']"
      ]
     },
     "execution_count": 121,
     "metadata": {},
     "output_type": "execute_result"
    }
   ],
   "source": [
    "issues"
   ]
  },
  {
   "cell_type": "code",
   "execution_count": 125,
   "metadata": {
    "collapsed": false
   },
   "outputs": [
    {
     "name": "stdout",
     "output_type": "stream",
     "text": [
      "There were 18 issues that either had FAILURE or an ERROR.\n"
     ]
    }
   ],
   "source": [
    "print(\"There were \" + str(len(issues)) + \" issues that either had FAILURE or an ERROR.\")"
   ]
  }
 ],
 "metadata": {
  "kernelspec": {
   "display_name": "Python 2",
   "language": "python",
   "name": "python2"
  },
  "language_info": {
   "codemirror_mode": {
    "name": "ipython",
    "version": 2
   },
   "file_extension": ".py",
   "mimetype": "text/x-python",
   "name": "python",
   "nbconvert_exporter": "python",
   "pygments_lexer": "ipython2",
   "version": "2.7.13"
  }
 },
 "nbformat": 4,
 "nbformat_minor": 2
}
