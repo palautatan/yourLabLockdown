{
 "cells": [
  {
   "cell_type": "markdown",
   "metadata": {},
   "source": [
    "# Fixing the \"er_[0-9]{1}_params\" Simplex-Index Problem\n",
    "To get the Rev scripts working to correspond with how the Simplex class cannot be indexed element-wise, we will write a few functions, then voila! Excuse all my variable names... The ones that I have named otherwise cartoonishly were simply not important enough to be named, but important enough to be saved as their own variable."
   ]
  },
  {
   "cell_type": "code",
   "execution_count": 1,
   "metadata": {
    "collapsed": true
   },
   "outputs": [],
   "source": [
    "# LIBRARIES\n",
    "import re"
   ]
  },
  {
   "cell_type": "markdown",
   "metadata": {},
   "source": [
    "I need regex to handle finding the variable names."
   ]
  },
  {
   "cell_type": "markdown",
   "metadata": {},
   "source": [
    "# 1. For A Single Script\n",
    "Like always, start with any old script as a model to explore how the functions should be written. I chose one of the honky-tonk datasets that gives me a problem all the time."
   ]
  },
  {
   "cell_type": "code",
   "execution_count": 13,
   "metadata": {
    "collapsed": true
   },
   "outputs": [],
   "source": [
    "# LOAD IN SCRIPT\n",
    "aic_45 = \"/Users/treehouse5/Edie/RevBayes (9:29)/45/45_aic.Rev\""
   ]
  },
  {
   "cell_type": "code",
   "execution_count": 14,
   "metadata": {
    "collapsed": true
   },
   "outputs": [],
   "source": [
    "with open (aic_45, \"r\") as this_file:\n",
    "    data = this_file.read()"
   ]
  },
  {
   "cell_type": "code",
   "execution_count": 16,
   "metadata": {},
   "outputs": [
    {
     "name": "stdout",
     "output_type": "stream",
     "text": [
      "##########################\n",
      "# Read the sequence data #\n",
      "##########################\n",
      "\n",
      "data_ND2_codon_1 = readDiscreteCharacterData(\"data/subsets_no_outgroups/45/ND2_codon_1.nex\")\n",
      "data_ND2_codon_2 = readDiscreteCharacterData(\"data/subsets_no_outgroups/45/ND2_codon_2.nex\")\n",
      "data_ND2_codon_3 = readDiscreteCharacterData(\"data/subsets_no_outgroups/45/ND2_codon_3.nex\")\n",
      "data_ND3_codon_1 = readDiscreteCharacterData(\"data/subsets_no_outgroups/45/ND3_codon_1.nex\")\n",
      "data_ND3_codon_2 = readDiscreteCharacterData(\"data/subsets_no_outgroups/45/ND3_codon_2.nex\")\n",
      "data_ND3_codon_3 = readDiscreteCharacterData(\"data/subsets_no_outgroups/45/ND3_codon_3.nex\")\n",
      "data_TGFB2 = readDiscreteCharacterData(\"data/subsets_no_outgroups/45/TGFB2.nex\")\n",
      "taxa = data_ND2_codon_1.taxa()\n",
      "num_species = data_ND2_codon_1.ntaxa()\n",
      "num_branches = 2 * num_species - 2\n",
      "\n",
      "move_index = 1\n",
      "\n",
      "#############################################\n",
      "# Define the tree and associated parameters #\n",
      "#############################################\n",
      "\n",
      "root_height <- 1\n",
      "diversification_logmean <- ln(ln(num_species/2)/root_height)\n",
      "diversification_logsd <- 0.587405\n",
      "\n",
      "diversification ~ dnLognormal(diversification_logmean - (diversification_logsd^2) / 2, diversification_logsd)\n",
      "turnover ~ dnLognormal(diversification_logmean - (diversification_logsd^2) / 2, diversification_logsd)\n",
      "speciation := diversification + turnover\n",
      "extinction := turnover\n",
      "moves[move_index++] = mvSlide(diversification,delta=1,tune=true,weight=1.5)\n",
      "moves[move_index++] = mvSlide(turnover,delta=1,tune=true,weight=1.5)\n",
      "\n",
      "sampling_fraction <- 0.709090909\n",
      "\n",
      "psi ~ dnBDP(lambda=speciation,mu=extinction,rootAge=abs(root_height),rho=sampling_fraction,taxa=taxa)\n",
      "moves[move_index++] = mvNarrow(psi, weight=10.0)\n",
      "moves[move_index++] = mvNNI(psi, weight=10.0)\n",
      "moves[move_index++] = mvFNPR(psi, weight=8.0)\n",
      "moves[move_index++] = mvGPR(psi, weight=6.0)\n",
      "moves[move_index++] = mvSubtreeScale(psi, weight=10.0)\n",
      "moves[move_index++] = mvNodeTimeSlideUniform(psi, weight=25.0)\n",
      "\n",
      "############################################\n",
      "# Define the substitution model parameters #\n",
      "############################################\n",
      "\n",
      "# Relative rates.\n",
      "\n",
      "er_1_params ~ dnDirichlet(v(1,1,1,1,1))\n",
      "moves[move_index++] = mvSimplexElementScale(er_1_params,alpha=10.0,weight=0.5)\n",
      "er_1 := simplex(er_1_params[1],er_1_params[2],er_1_params[3],er_1_params[4],er_1_params[2],er_1_params[5])\n",
      "\n",
      "er_2 ~ dnDirichlet(v(1,1,1,1,1,1))\n",
      "moves[move_index++] = mvSimplexElementScale(er_2,alpha=10.0,weight=0.5)\n",
      "\n",
      "er_3 ~ dnDirichlet(v(1,1,1,1,1,1))\n",
      "moves[move_index++] = mvSimplexElementScale(er_3,alpha=10.0,weight=0.5)\n",
      "\n",
      "er_4_params ~ dnDirichlet(v(1,1,1,1))\n",
      "moves[move_index++] = mvSimplexElementScale(er_4_params,alpha=10.0,weight=0.5)\n",
      "er_4 := simplex(er_4_params[1],er_4_params[2],er_4_params[3],er_4_params[3],er_4_params[4],er_4_params[1])\n",
      "\n",
      "er_5_params ~ dnDirichlet(v(1,1,1))\n",
      "moves[move_index++] = mvSimplexElementScale(er_5_params,alpha=10.0,weight=0.5)\n",
      "er_5 := simplex(er_5_params[1],er_5_params[2],er_5_params[1],er_5_params[1],er_5_params[3],er_5_params[1])\n",
      "\n",
      "# Stationary frequencies.\n",
      "\n",
      "pi_1 ~ dnDirichlet(v(1,1,1,1))\n",
      "moves[move_index++] = mvSimplexElementScale(pi_1,alpha=10.0,weight=0.5)\n",
      "\n",
      "pi_2 ~ dnDirichlet(v(1,1,1,1))\n",
      "moves[move_index++] = mvSimplexElementScale(pi_2,alpha=10.0,weight=0.5)\n",
      "\n",
      "pi_3 ~ dnDirichlet(v(1,1,1,1))\n",
      "moves[move_index++] = mvSimplexElementScale(pi_3,alpha=10.0,weight=0.5)\n",
      "\n",
      "pi_4 ~ dnDirichlet(v(1,1,1,1))\n",
      "moves[move_index++] = mvSimplexElementScale(pi_4,alpha=10.0,weight=0.5)\n",
      "\n",
      "pi_5 ~ dnDirichlet(v(1,1,1,1))\n",
      "moves[move_index++] = mvSimplexElementScale(pi_5,alpha=10.0,weight=0.5)\n",
      "\n",
      "# Discrete-gamma among-site rate variation.\n",
      "\n",
      "alpha_1 ~ dnGamma(2.0, 1.0)\n",
      "gamma_cats_1 := fnDiscretizeGamma(alpha_1,alpha_1,4)\n",
      "moves[move_index++] = mvScale(alpha_1,lambda=0.1,weight=0.5)\n",
      "\n",
      "alpha_2 ~ dnGamma(2.0, 1.0)\n",
      "gamma_cats_2 := fnDiscretizeGamma(alpha_2,alpha_2,4)\n",
      "moves[move_index++] = mvScale(alpha_2,lambda=0.1,weight=0.5)\n",
      "\n",
      "alpha_3 ~ dnGamma(2.0, 1.0)\n",
      "gamma_cats_3 := fnDiscretizeGamma(alpha_3,alpha_3,4)\n",
      "moves[move_index++] = mvScale(alpha_3,lambda=0.1,weight=0.5)\n",
      "\n",
      "alpha_4 ~ dnGamma(2.0, 1.0)\n",
      "gamma_cats_4 := fnDiscretizeGamma(alpha_4,alpha_4,4)\n",
      "moves[move_index++] = mvScale(alpha_4,lambda=0.1,weight=0.5)\n",
      "\n",
      "alpha_5 ~ dnGamma(2.0, 1.0)\n",
      "gamma_cats_5 := fnDiscretizeGamma(alpha_5,alpha_5,4)\n",
      "moves[move_index++] = mvScale(alpha_5,lambda=0.1,weight=0.5)\n",
      "\n",
      "# Proportion of invariable sites.\n",
      "\n",
      "pinv_1 ~ dnBeta(1.0,1.0)\n",
      "pinv_1.setValue(0.01)\n",
      "moves[move_index++] = mvSlide(pinv_1,delta=0.1,weight=0.5)\n",
      "\n",
      "for (i in 1:num_branches) {\n",
      "  br_lens[i] := psi.branchLength(i)\n",
      "}\n",
      "TL := sum(br_lens)\n",
      "\n",
      "proportional_clock_rates ~ dnDirichlet(v(1,1,1,1,1))\n",
      "moves[move_index++] = mvBetaSimplex(proportional_clock_rates, weight=5.0)\n",
      "relative_clock_rates := proportional_clock_rates * 5\n",
      "\n",
      "# clock_rate_1 ~ dnGamma(0.001,0.001)\n",
      "# clock_rate_1.setValue(0.01)\n",
      "# moves[move_index++] = mvScale(clock_rate_1,lambda=0.1,weight=1.0)\n",
      "# \n",
      "# clock_rate_2 ~ dnGamma(0.001,0.001)\n",
      "# clock_rate_2.setValue(0.01)\n",
      "# moves[move_index++] = mvScale(clock_rate_2,lambda=0.1,weight=1.0)\n",
      "# \n",
      "# clock_rate_3 ~ dnGamma(0.001,0.001)\n",
      "# clock_rate_3.setValue(0.01)\n",
      "# moves[move_index++] = mvScale(clock_rate_3,lambda=0.1,weight=1.0)\n",
      "# \n",
      "# clock_rate_4 ~ dnGamma(0.001,0.001)\n",
      "# clock_rate_4.setValue(0.01)\n",
      "# moves[move_index++] = mvScale(clock_rate_4,lambda=0.1,weight=1.0)\n",
      "# \n",
      "# clock_rate_5 ~ dnGamma(0.001,0.001)\n",
      "# clock_rate_5.setValue(0.01)\n",
      "# moves[move_index++] = mvScale(clock_rate_5,lambda=0.1,weight=1.0)\n",
      "# \n",
      "# clock_rate_avg := (clock_rate_1 * 347 + clock_rate_2 * 347 + clock_rate_3 * 347 + clock_rate_1 * 117 + clock_rate_2 * 117 + clock_rate_4 * 117 + clock_rate_5 * 597) / 1989\n",
      "\n",
      "# Proportional branch lengths.\n",
      "branch_rate_mean ~ dnGamma(0.001,0.001)\n",
      "branch_rate_mean.setValue(0.01)\n",
      "moves[move_index++] = mvScale(branch_rate_mean,lambda=0.1,weight=5.0)\n",
      "\n",
      "# branch_rate_mean <- 1\n",
      "# branch_rate_sd_mean <- 1\n",
      "# branch_rate_sd_sd <- 0.587405\n",
      "# branch_rate_sd_1 ~ dnLognormal(ln(branch_rate_sd_mean) - (branch_rate_sd_sd^2)/2, branch_rate_sd_sd)\n",
      "branch_rate_sd_1 ~ dnExponential(1 / 0.587405)\n",
      "moves[move_index++] = mvScale(branch_rate_sd_1, lambda=0.1, weight=1.0)\n",
      "for(i in 1:num_branches) {\n",
      "  branch_rates_1[i] ~ dnLognormal(ln(branch_rate_mean) - (branch_rate_sd_1^2)/2, branch_rate_sd_1)\n",
      "  moves[move_index++] = mvScale(branch_rates_1[i], lambda=0.1, weight=2.0)\n",
      "}\n",
      "moves[move_index++] = mvVectorScale(branch_rates_1, lambda=0.1, weight=10.0)\n",
      "# constrained_branch_rates_1 := abs(branch_rates_1 / mean(branch_rates_1))\n",
      "\n",
      "############################################\n",
      "# Define the continuous-time Markov chains #\n",
      "############################################\n",
      "\n",
      "Q_ND2_codon_1 := fnGTR(er_1,pi_1)\n",
      "ctmc_ND2_codon_1 ~ dnPhyloCTMC(tree=psi, Q=Q_ND2_codon_1, branchRates=relative_clock_rates[1] * branch_rates_1, siteRates=gamma_cats_1)\n",
      "ctmc_ND2_codon_1.clamp(data_ND2_codon_1)\n",
      "\n",
      "Q_ND2_codon_2 := fnGTR(er_2,pi_2)\n",
      "ctmc_ND2_codon_2 ~ dnPhyloCTMC(tree=psi, Q=Q_ND2_codon_2, branchRates=relative_clock_rates[2] * branch_rates_1, siteRates=gamma_cats_2)\n",
      "ctmc_ND2_codon_2.clamp(data_ND2_codon_2)\n",
      "\n",
      "Q_ND2_codon_3 := fnGTR(er_3,pi_3)\n",
      "ctmc_ND2_codon_3 ~ dnPhyloCTMC(tree=psi, Q=Q_ND2_codon_3, branchRates=relative_clock_rates[3] * branch_rates_1, siteRates=gamma_cats_3)\n",
      "ctmc_ND2_codon_3.clamp(data_ND2_codon_3)\n",
      "\n",
      "Q_ND3_codon_1 := fnGTR(er_1,pi_1)\n",
      "ctmc_ND3_codon_1 ~ dnPhyloCTMC(tree=psi, Q=Q_ND3_codon_1, branchRates=relative_clock_rates[1] * branch_rates_1, siteRates=gamma_cats_1)\n",
      "ctmc_ND3_codon_1.clamp(data_ND3_codon_1)\n",
      "\n",
      "Q_ND3_codon_2 := fnGTR(er_2,pi_2)\n",
      "ctmc_ND3_codon_2 ~ dnPhyloCTMC(tree=psi, Q=Q_ND3_codon_2, branchRates=relative_clock_rates[2] * branch_rates_1, siteRates=gamma_cats_2)\n",
      "ctmc_ND3_codon_2.clamp(data_ND3_codon_2)\n",
      "\n",
      "Q_ND3_codon_3 := fnGTR(er_4,pi_4)\n",
      "ctmc_ND3_codon_3 ~ dnPhyloCTMC(tree=psi, Q=Q_ND3_codon_3, branchRates=relative_clock_rates[4] * branch_rates_1, siteRates=gamma_cats_4, pInv=pinv_1)\n",
      "ctmc_ND3_codon_3.clamp(data_ND3_codon_3)\n",
      "\n",
      "Q_TGFB2 := fnGTR(er_5,pi_5)\n",
      "ctmc_TGFB2 ~ dnPhyloCTMC(tree=psi, Q=Q_TGFB2, branchRates=relative_clock_rates[5] * branch_rates_1, siteRates=gamma_cats_5)\n",
      "ctmc_TGFB2.clamp(data_TGFB2)\n",
      "\n",
      "my_model = model(psi)\n",
      "\n",
      "#######################\n",
      "# Define the monitors #\n",
      "#######################\n",
      "\n",
      "monitors[1] = mnModel(filename=\"output/RevBayes/45/45_aic.log\",printgen=20, separator = TAB)\n",
      "monitors[2] = mnFile(filename=\"output/RevBayes/45/45_aic.trees\",printgen=20, separator = TAB, psi)\n",
      "monitors[3] = mnScreen(printgen=100)\n",
      "\n",
      "##########################\n",
      "# Define the MCMC object #\n",
      "##########################\n",
      "\n",
      "analysis = mcmc(my_model, monitors, moves)\n",
      "\n",
      "################\n",
      "# Run the MCMC #\n",
      "################\n",
      "\n",
      "analysis.burnin(generations=5000,tuningInterval=1000)\n",
      "analysis.run(generations=10000)\n",
      "\n",
      "###############################\n",
      "# Summarize the tree topology #\n",
      "###############################\n",
      "\n",
      "treetrace = readTreeTrace(\"output/RevBayes/45/45_aic.trees\", treetype=\"clock\")\n",
      "map_tree = mapTree(treetrace,\"output/RevBayes/45/45_aic.tre\")\n",
      "\n",
      "q()\n",
      "\n"
     ]
    }
   ],
   "source": [
    "print data"
   ]
  },
  {
   "cell_type": "markdown",
   "metadata": {},
   "source": [
    "### 1a. Exploring Script Pieces\n",
    "I'm going to cut up the script line by line to make a generalisable function that can find where the er_[0-9]{1}_params are."
   ]
  },
  {
   "cell_type": "code",
   "execution_count": 76,
   "metadata": {},
   "outputs": [],
   "source": [
    "pieces = data.split(\"\\n\")"
   ]
  },
  {
   "cell_type": "code",
   "execution_count": 77,
   "metadata": {},
   "outputs": [
    {
     "data": {
      "text/plain": [
       "224"
      ]
     },
     "execution_count": 77,
     "metadata": {},
     "output_type": "execute_result"
    }
   ],
   "source": [
    "len(pieces)"
   ]
  },
  {
   "cell_type": "code",
   "execution_count": 82,
   "metadata": {},
   "outputs": [],
   "source": [
    "for this_line in range(len(pieces)):\n",
    "    if \"# Relative rates.\" in pieces[this_line]:\n",
    "        start_ind = this_line\n",
    "    if \"# Stationary frequencies.\" in pieces[this_line]:\n",
    "        end_ind = this_line"
   ]
  },
  {
   "cell_type": "code",
   "execution_count": 83,
   "metadata": {},
   "outputs": [
    {
     "data": {
      "text/plain": [
       "(46, 66)"
      ]
     },
     "execution_count": 83,
     "metadata": {},
     "output_type": "execute_result"
    }
   ],
   "source": [
    "start_ind, end_ind"
   ]
  },
  {
   "cell_type": "markdown",
   "metadata": {},
   "source": [
    "I plan to replace this entire area (the area spanning from line 46 to line 66) with new text. Since I cut these pieces up, I am going to put them back together because I found the section lines that I want to work with."
   ]
  },
  {
   "cell_type": "code",
   "execution_count": 90,
   "metadata": {},
   "outputs": [],
   "source": [
    "blah = \"\\n\".join(pieces[48:66])"
   ]
  },
  {
   "cell_type": "code",
   "execution_count": 91,
   "metadata": {},
   "outputs": [
    {
     "name": "stdout",
     "output_type": "stream",
     "text": [
      "er_1_params ~ dnDirichlet(v(1,1,1,1,1))\n",
      "moves[move_index++] = mvSimplexElementScale(er_1_params,alpha=10.0,weight=0.5)\n",
      "er_1 := simplex(er_1_params[1],er_1_params[2],er_1_params[3],er_1_params[4],er_1_params[2],er_1_params[5])\n",
      "\n",
      "er_2 ~ dnDirichlet(v(1,1,1,1,1,1))\n",
      "moves[move_index++] = mvSimplexElementScale(er_2,alpha=10.0,weight=0.5)\n",
      "\n",
      "er_3 ~ dnDirichlet(v(1,1,1,1,1,1))\n",
      "moves[move_index++] = mvSimplexElementScale(er_3,alpha=10.0,weight=0.5)\n",
      "\n",
      "er_4_params ~ dnDirichlet(v(1,1,1,1))\n",
      "moves[move_index++] = mvSimplexElementScale(er_4_params,alpha=10.0,weight=0.5)\n",
      "er_4 := simplex(er_4_params[1],er_4_params[2],er_4_params[3],er_4_params[3],er_4_params[4],er_4_params[1])\n",
      "\n",
      "er_5_params ~ dnDirichlet(v(1,1,1))\n",
      "moves[move_index++] = mvSimplexElementScale(er_5_params,alpha=10.0,weight=0.5)\n",
      "er_5 := simplex(er_5_params[1],er_5_params[2],er_5_params[1],er_5_params[1],er_5_params[3],er_5_params[1])\n",
      "\n"
     ]
    }
   ],
   "source": [
    "print blah"
   ]
  },
  {
   "cell_type": "markdown",
   "metadata": {},
   "source": [
    "Now, I'm going to buckle down on just the area that I wanted to fix. I'm going to split it on two spaces instead of just one space because I know the format of the text file. This will allow me to look at each of the er_[0-9]{1}_params and edit the text as necessary."
   ]
  },
  {
   "cell_type": "code",
   "execution_count": 96,
   "metadata": {},
   "outputs": [],
   "source": [
    "rawr = blah.split(\"\\n\\n\")"
   ]
  },
  {
   "cell_type": "code",
   "execution_count": 97,
   "metadata": {
    "scrolled": true
   },
   "outputs": [
    {
     "data": {
      "text/plain": [
       "5"
      ]
     },
     "execution_count": 97,
     "metadata": {},
     "output_type": "execute_result"
    }
   ],
   "source": [
    "len(rawr)"
   ]
  },
  {
   "cell_type": "markdown",
   "metadata": {},
   "source": [
    "This is what one of those \"rawr\" elements looks like."
   ]
  },
  {
   "cell_type": "code",
   "execution_count": 108,
   "metadata": {},
   "outputs": [
    {
     "name": "stdout",
     "output_type": "stream",
     "text": [
      "er_5_params ~ dnDirichlet(v(1,1,1))\n",
      "moves[move_index++] = mvSimplexElementScale(er_5_params,alpha=10.0,weight=0.5)\n",
      "er_5 := simplex(er_5_params[1],er_5_params[2],er_5_params[1],er_5_params[1],er_5_params[3],er_5_params[1])\n",
      "\n"
     ]
    }
   ],
   "source": [
    "print rawr[4]"
   ]
  },
  {
   "cell_type": "markdown",
   "metadata": {},
   "source": [
    "Now, I'm going to write a for loop which will identify which elements of \"rawr\" need a-fixin'."
   ]
  },
  {
   "cell_type": "code",
   "execution_count": 109,
   "metadata": {},
   "outputs": [],
   "source": [
    "need_indices = []\n",
    "for this_line in range(len(rawr)):\n",
    "    if \"simplex\" in rawr[this_line]:\n",
    "        need_indices.append(this_line)"
   ]
  },
  {
   "cell_type": "code",
   "execution_count": 110,
   "metadata": {},
   "outputs": [
    {
     "data": {
      "text/plain": [
       "[0, 3, 4]"
      ]
     },
     "execution_count": 110,
     "metadata": {},
     "output_type": "execute_result"
    }
   ],
   "source": [
    "need_indices"
   ]
  },
  {
   "cell_type": "markdown",
   "metadata": {},
   "source": [
    "I'm going to check that the 0th element of rawr actually does need a-fixin'. And it does."
   ]
  },
  {
   "cell_type": "code",
   "execution_count": 128,
   "metadata": {},
   "outputs": [
    {
     "name": "stdout",
     "output_type": "stream",
     "text": [
      "er_1_params ~ dnDirichlet(v(1,1,1,1,1))\n",
      "moves[move_index++] = mvSimplexElementScale(er_1_params,alpha=10.0,weight=0.5)\n",
      "er_1 := simplex(er_1_params[1],er_1_params[2],er_1_params[3],er_1_params[4],er_1_params[2],er_1_params[5])\n"
     ]
    }
   ],
   "source": [
    "print rawr[0]"
   ]
  },
  {
   "cell_type": "markdown",
   "metadata": {},
   "source": [
    "So now I'm going to split tis 0th element (and all the rest of the elements, later on) by line in order to do the hacky thing to take care of the simplex-index problem."
   ]
  },
  {
   "cell_type": "code",
   "execution_count": 129,
   "metadata": {},
   "outputs": [],
   "source": [
    "listed_rawr_0 = rawr[0].split(\"\\n\")"
   ]
  },
  {
   "cell_type": "markdown",
   "metadata": {},
   "source": [
    "Here, I'm going to put that regex into use... I want to do the renames that Mike did but automagically."
   ]
  },
  {
   "cell_type": "code",
   "execution_count": 151,
   "metadata": {},
   "outputs": [],
   "source": [
    "m = re.search(\"er_[0-9]{1}_params\", listed_rawr_0[0])"
   ]
  },
  {
   "cell_type": "code",
   "execution_count": 152,
   "metadata": {},
   "outputs": [
    {
     "data": {
      "text/plain": [
       "'er_1_p'"
      ]
     },
     "execution_count": 152,
     "metadata": {},
     "output_type": "execute_result"
    }
   ],
   "source": [
    "m.group(0)[:-5]"
   ]
  },
  {
   "cell_type": "code",
   "execution_count": 132,
   "metadata": {},
   "outputs": [
    {
     "data": {
      "text/plain": [
       "'er_1_params'"
      ]
     },
     "execution_count": 132,
     "metadata": {},
     "output_type": "execute_result"
    }
   ],
   "source": [
    "m.group(0)"
   ]
  },
  {
   "cell_type": "markdown",
   "metadata": {},
   "source": [
    "And now I'm going to fix the first two instances of the variable name of er_1_params to change them to er_1_p, but on the full 0th element of \"rawr\" -- if you remember what that is still."
   ]
  },
  {
   "cell_type": "code",
   "execution_count": 133,
   "metadata": {},
   "outputs": [],
   "source": [
    "# CHANGE THE FIRST TWO \"PARAMS\" ONLY\n",
    "fix1 = rawr[0].replace(m.group(0), m.group(0)[:-5], 2)"
   ]
  },
  {
   "cell_type": "code",
   "execution_count": 134,
   "metadata": {},
   "outputs": [
    {
     "name": "stdout",
     "output_type": "stream",
     "text": [
      "er_1_p ~ dnDirichlet(v(1,1,1,1,1))\n",
      "moves[move_index++] = mvSimplexElementScale(er_1_p,alpha=10.0,weight=0.5)\n",
      "er_1 := simplex(er_1_params[1],er_1_params[2],er_1_params[3],er_1_params[4],er_1_params[2],er_1_params[5])\n"
     ]
    }
   ],
   "source": [
    "print fix1"
   ]
  },
  {
   "cell_type": "markdown",
   "metadata": {},
   "source": [
    "Now, I'm going to split the lines up again in order to add that new line to convert the simplex into the real-positive-value class."
   ]
  },
  {
   "cell_type": "code",
   "execution_count": 141,
   "metadata": {
    "collapsed": true
   },
   "outputs": [],
   "source": [
    "fix1lines = fix1.split(\"\\n\")"
   ]
  },
  {
   "cell_type": "code",
   "execution_count": 144,
   "metadata": {
    "collapsed": true
   },
   "outputs": [],
   "source": [
    "new_line = m.group(0)+\" := abs(\"+m.group(0)[:-5]+\")\""
   ]
  },
  {
   "cell_type": "code",
   "execution_count": 145,
   "metadata": {},
   "outputs": [
    {
     "name": "stdout",
     "output_type": "stream",
     "text": [
      "er_1_params := abs(er_1_p)\n"
     ]
    }
   ],
   "source": [
    "print new_line"
   ]
  },
  {
   "cell_type": "markdown",
   "metadata": {},
   "source": [
    "Lastly, I'm going to piece them together. Luckily for us in this case, we know that all of the \"error\" lines are in the same structure so we can do a lot of yummy hard coding."
   ]
  },
  {
   "cell_type": "code",
   "execution_count": 147,
   "metadata": {},
   "outputs": [],
   "source": [
    "new_block = \"\\n\".join([fix1lines[0], fix1lines[1], new_line, fix1lines[2]])"
   ]
  },
  {
   "cell_type": "code",
   "execution_count": 148,
   "metadata": {},
   "outputs": [
    {
     "name": "stdout",
     "output_type": "stream",
     "text": [
      "er_1_p ~ dnDirichlet(v(1,1,1,1,1))\n",
      "moves[move_index++] = mvSimplexElementScale(er_1_p,alpha=10.0,weight=0.5)\n",
      "er_1_params := abs(er_1_p)\n",
      "er_1 := simplex(er_1_params[1],er_1_params[2],er_1_params[3],er_1_params[4],er_1_params[2],er_1_params[5])\n"
     ]
    }
   ],
   "source": [
    "print new_block"
   ]
  },
  {
   "cell_type": "markdown",
   "metadata": {},
   "source": [
    "### 1b. Abstraction to Go Through Code\n",
    "In the following functions, I am taking the code from above in \"1a\" to generalize it into several small functions. I'll put these in a main function later."
   ]
  },
  {
   "cell_type": "code",
   "execution_count": 2,
   "metadata": {},
   "outputs": [],
   "source": [
    "def find_fix_area(script_path, ind=False):\n",
    "    with open (script_path, \"r\") as this_file:\n",
    "        data = this_file.read()\n",
    "    \n",
    "    # NARROW DOWN TEXT\n",
    "    pieces = data.split(\"\\n\")\n",
    "    \n",
    "    for this_line in range(len(pieces)):\n",
    "        if \"# Relative rates.\" in pieces[this_line]:\n",
    "            start_ind = this_line\n",
    "        if \"# Stationary frequencies.\" in pieces[this_line]:\n",
    "            end_ind = this_line\n",
    "    \n",
    "    fix_area = \"\\n\".join(pieces[start_ind+2:end_ind])\n",
    "    \n",
    "    if ind==True:\n",
    "        return([start_ind+2, end_ind])\n",
    "    else:\n",
    "        return(fix_area)"
   ]
  },
  {
   "cell_type": "code",
   "execution_count": 3,
   "metadata": {},
   "outputs": [
    {
     "ename": "NameError",
     "evalue": "name 'aic_45' is not defined",
     "output_type": "error",
     "traceback": [
      "\u001b[0;31m---------------------------------------------------------------------------\u001b[0m",
      "\u001b[0;31mNameError\u001b[0m                                 Traceback (most recent call last)",
      "\u001b[0;32m<ipython-input-3-19103973346c>\u001b[0m in \u001b[0;36m<module>\u001b[0;34m()\u001b[0m\n\u001b[0;32m----> 1\u001b[0;31m \u001b[0;32mwith\u001b[0m \u001b[0mopen\u001b[0m \u001b[0;34m(\u001b[0m\u001b[0maic_45\u001b[0m\u001b[0;34m,\u001b[0m \u001b[0;34m\"r\"\u001b[0m\u001b[0;34m)\u001b[0m \u001b[0;32mas\u001b[0m \u001b[0mthis_file\u001b[0m\u001b[0;34m:\u001b[0m\u001b[0;34m\u001b[0m\u001b[0m\n\u001b[0m\u001b[1;32m      2\u001b[0m     \u001b[0mdata\u001b[0m \u001b[0;34m=\u001b[0m \u001b[0mthis_file\u001b[0m\u001b[0;34m.\u001b[0m\u001b[0mread\u001b[0m\u001b[0;34m(\u001b[0m\u001b[0;34m)\u001b[0m\u001b[0;34m\u001b[0m\u001b[0m\n\u001b[1;32m      3\u001b[0m \u001b[0;34m\u001b[0m\u001b[0m\n\u001b[1;32m      4\u001b[0m \u001b[0;31m# NARROW DOWN TEXT\u001b[0m\u001b[0;34m\u001b[0m\u001b[0;34m\u001b[0m\u001b[0m\n\u001b[1;32m      5\u001b[0m \u001b[0mpieces\u001b[0m \u001b[0;34m=\u001b[0m \u001b[0mdata\u001b[0m\u001b[0;34m.\u001b[0m\u001b[0msplit\u001b[0m\u001b[0;34m(\u001b[0m\u001b[0;34m\"\\n\"\u001b[0m\u001b[0;34m)\u001b[0m\u001b[0;34m\u001b[0m\u001b[0m\n",
      "\u001b[0;31mNameError\u001b[0m: name 'aic_45' is not defined"
     ]
    }
   ],
   "source": [
    "with open (aic_45, \"r\") as this_file:\n",
    "    data = this_file.read()\n",
    "\n",
    "# NARROW DOWN TEXT\n",
    "pieces = data.split(\"\\n\")\n",
    "\n",
    "for this_line in range(len(pieces)):\n",
    "    if \"# Relative rates.\" in pieces[this_line]:\n",
    "        start_ind = this_line\n",
    "    if \"# Stationary frequencies.\" in pieces[this_line]:\n",
    "        end_ind = this_line    "
   ]
  },
  {
   "cell_type": "code",
   "execution_count": 399,
   "metadata": {},
   "outputs": [
    {
     "data": {
      "text/plain": [
       "'/Users/treehouse5/Edie/RevBayes (9:29)/45/45_aic.Rev'"
      ]
     },
     "execution_count": 399,
     "metadata": {},
     "output_type": "execute_result"
    }
   ],
   "source": [
    "aic_45"
   ]
  },
  {
   "cell_type": "code",
   "execution_count": 400,
   "metadata": {
    "scrolled": true
   },
   "outputs": [
    {
     "data": {
      "text/plain": [
       "['##########################',\n",
       " '# Read the sequence data #',\n",
       " '##########################',\n",
       " '',\n",
       " 'data_ND2_codon_1 = readDiscreteCharacterData(\"data/subsets_no_outgroups/45/ND2_codon_1.nex\")',\n",
       " 'data_ND2_codon_2 = readDiscreteCharacterData(\"data/subsets_no_outgroups/45/ND2_codon_2.nex\")',\n",
       " 'data_ND2_codon_3 = readDiscreteCharacterData(\"data/subsets_no_outgroups/45/ND2_codon_3.nex\")',\n",
       " 'data_ND3_codon_1 = readDiscreteCharacterData(\"data/subsets_no_outgroups/45/ND3_codon_1.nex\")',\n",
       " 'data_ND3_codon_2 = readDiscreteCharacterData(\"data/subsets_no_outgroups/45/ND3_codon_2.nex\")',\n",
       " 'data_ND3_codon_3 = readDiscreteCharacterData(\"data/subsets_no_outgroups/45/ND3_codon_3.nex\")',\n",
       " 'data_TGFB2 = readDiscreteCharacterData(\"data/subsets_no_outgroups/45/TGFB2.nex\")',\n",
       " 'taxa = data_ND2_codon_1.taxa()',\n",
       " 'num_species = data_ND2_codon_1.ntaxa()',\n",
       " 'num_branches = 2 * num_species - 2',\n",
       " '',\n",
       " 'move_index = 1',\n",
       " '',\n",
       " '#############################################',\n",
       " '# Define the tree and associated parameters #',\n",
       " '#############################################',\n",
       " '',\n",
       " 'root_height <- 1',\n",
       " 'diversification_logmean <- ln(ln(num_species/2)/root_height)',\n",
       " 'diversification_logsd <- 0.587405',\n",
       " '',\n",
       " 'diversification ~ dnLognormal(diversification_logmean - (diversification_logsd^2) / 2, diversification_logsd)',\n",
       " 'turnover ~ dnLognormal(diversification_logmean - (diversification_logsd^2) / 2, diversification_logsd)',\n",
       " 'speciation := diversification + turnover',\n",
       " 'extinction := turnover',\n",
       " 'moves[move_index++] = mvSlide(diversification,delta=1,tune=true,weight=1.5)',\n",
       " 'moves[move_index++] = mvSlide(turnover,delta=1,tune=true,weight=1.5)',\n",
       " '',\n",
       " 'sampling_fraction <- 0.709090909',\n",
       " '',\n",
       " 'psi ~ dnBDP(lambda=speciation,mu=extinction,rootAge=abs(root_height),rho=sampling_fraction,taxa=taxa)',\n",
       " 'moves[move_index++] = mvNarrow(psi, weight=10.0)',\n",
       " 'moves[move_index++] = mvNNI(psi, weight=10.0)',\n",
       " 'moves[move_index++] = mvFNPR(psi, weight=8.0)',\n",
       " 'moves[move_index++] = mvGPR(psi, weight=6.0)',\n",
       " 'moves[move_index++] = mvSubtreeScale(psi, weight=10.0)',\n",
       " 'moves[move_index++] = mvNodeTimeSlideUniform(psi, weight=25.0)',\n",
       " '',\n",
       " '############################################',\n",
       " '# Define the substitution model parameters #',\n",
       " '############################################',\n",
       " '',\n",
       " '# Relative rates.',\n",
       " '',\n",
       " 'er_1_params ~ dnDirichlet(v(1,1,1,1,1))',\n",
       " 'moves[move_index++] = mvSimplexElementScale(er_1_params,alpha=10.0,weight=0.5)',\n",
       " 'er_1 := simplex(er_1_params[1],er_1_params[2],er_1_params[3],er_1_params[4],er_1_params[2],er_1_params[5])',\n",
       " '',\n",
       " 'er_2 ~ dnDirichlet(v(1,1,1,1,1,1))',\n",
       " 'moves[move_index++] = mvSimplexElementScale(er_2,alpha=10.0,weight=0.5)',\n",
       " '',\n",
       " 'er_3 ~ dnDirichlet(v(1,1,1,1,1,1))',\n",
       " 'moves[move_index++] = mvSimplexElementScale(er_3,alpha=10.0,weight=0.5)',\n",
       " '',\n",
       " 'er_4_params ~ dnDirichlet(v(1,1,1,1))',\n",
       " 'moves[move_index++] = mvSimplexElementScale(er_4_params,alpha=10.0,weight=0.5)',\n",
       " 'er_4 := simplex(er_4_params[1],er_4_params[2],er_4_params[3],er_4_params[3],er_4_params[4],er_4_params[1])',\n",
       " '',\n",
       " 'er_5_params ~ dnDirichlet(v(1,1,1))',\n",
       " 'moves[move_index++] = mvSimplexElementScale(er_5_params,alpha=10.0,weight=0.5)',\n",
       " 'er_5 := simplex(er_5_params[1],er_5_params[2],er_5_params[1],er_5_params[1],er_5_params[3],er_5_params[1])',\n",
       " '',\n",
       " '# Stationary frequencies.',\n",
       " '',\n",
       " 'pi_1 ~ dnDirichlet(v(1,1,1,1))',\n",
       " 'moves[move_index++] = mvSimplexElementScale(pi_1,alpha=10.0,weight=0.5)',\n",
       " '',\n",
       " 'pi_2 ~ dnDirichlet(v(1,1,1,1))',\n",
       " 'moves[move_index++] = mvSimplexElementScale(pi_2,alpha=10.0,weight=0.5)',\n",
       " '',\n",
       " 'pi_3 ~ dnDirichlet(v(1,1,1,1))',\n",
       " 'moves[move_index++] = mvSimplexElementScale(pi_3,alpha=10.0,weight=0.5)',\n",
       " '',\n",
       " 'pi_4 ~ dnDirichlet(v(1,1,1,1))',\n",
       " 'moves[move_index++] = mvSimplexElementScale(pi_4,alpha=10.0,weight=0.5)',\n",
       " '',\n",
       " 'pi_5 ~ dnDirichlet(v(1,1,1,1))',\n",
       " 'moves[move_index++] = mvSimplexElementScale(pi_5,alpha=10.0,weight=0.5)',\n",
       " '',\n",
       " '# Discrete-gamma among-site rate variation.',\n",
       " '',\n",
       " 'alpha_1 ~ dnGamma(2.0, 1.0)',\n",
       " 'gamma_cats_1 := fnDiscretizeGamma(alpha_1,alpha_1,4)',\n",
       " 'moves[move_index++] = mvScale(alpha_1,lambda=0.1,weight=0.5)',\n",
       " '',\n",
       " 'alpha_2 ~ dnGamma(2.0, 1.0)',\n",
       " 'gamma_cats_2 := fnDiscretizeGamma(alpha_2,alpha_2,4)',\n",
       " 'moves[move_index++] = mvScale(alpha_2,lambda=0.1,weight=0.5)',\n",
       " '',\n",
       " 'alpha_3 ~ dnGamma(2.0, 1.0)',\n",
       " 'gamma_cats_3 := fnDiscretizeGamma(alpha_3,alpha_3,4)',\n",
       " 'moves[move_index++] = mvScale(alpha_3,lambda=0.1,weight=0.5)',\n",
       " '',\n",
       " 'alpha_4 ~ dnGamma(2.0, 1.0)',\n",
       " 'gamma_cats_4 := fnDiscretizeGamma(alpha_4,alpha_4,4)',\n",
       " 'moves[move_index++] = mvScale(alpha_4,lambda=0.1,weight=0.5)',\n",
       " '',\n",
       " 'alpha_5 ~ dnGamma(2.0, 1.0)',\n",
       " 'gamma_cats_5 := fnDiscretizeGamma(alpha_5,alpha_5,4)',\n",
       " 'moves[move_index++] = mvScale(alpha_5,lambda=0.1,weight=0.5)',\n",
       " '',\n",
       " '# Proportion of invariable sites.',\n",
       " '',\n",
       " 'pinv_1 ~ dnBeta(1.0,1.0)',\n",
       " 'pinv_1.setValue(0.01)',\n",
       " 'moves[move_index++] = mvSlide(pinv_1,delta=0.1,weight=0.5)',\n",
       " '',\n",
       " 'for (i in 1:num_branches) {',\n",
       " '  br_lens[i] := psi.branchLength(i)',\n",
       " '}',\n",
       " 'TL := sum(br_lens)',\n",
       " '',\n",
       " 'proportional_clock_rates ~ dnDirichlet(v(1,1,1,1,1))',\n",
       " 'moves[move_index++] = mvBetaSimplex(proportional_clock_rates, weight=5.0)',\n",
       " 'relative_clock_rates := proportional_clock_rates * 5',\n",
       " '',\n",
       " '# clock_rate_1 ~ dnGamma(0.001,0.001)',\n",
       " '# clock_rate_1.setValue(0.01)',\n",
       " '# moves[move_index++] = mvScale(clock_rate_1,lambda=0.1,weight=1.0)',\n",
       " '# ',\n",
       " '# clock_rate_2 ~ dnGamma(0.001,0.001)',\n",
       " '# clock_rate_2.setValue(0.01)',\n",
       " '# moves[move_index++] = mvScale(clock_rate_2,lambda=0.1,weight=1.0)',\n",
       " '# ',\n",
       " '# clock_rate_3 ~ dnGamma(0.001,0.001)',\n",
       " '# clock_rate_3.setValue(0.01)',\n",
       " '# moves[move_index++] = mvScale(clock_rate_3,lambda=0.1,weight=1.0)',\n",
       " '# ',\n",
       " '# clock_rate_4 ~ dnGamma(0.001,0.001)',\n",
       " '# clock_rate_4.setValue(0.01)',\n",
       " '# moves[move_index++] = mvScale(clock_rate_4,lambda=0.1,weight=1.0)',\n",
       " '# ',\n",
       " '# clock_rate_5 ~ dnGamma(0.001,0.001)',\n",
       " '# clock_rate_5.setValue(0.01)',\n",
       " '# moves[move_index++] = mvScale(clock_rate_5,lambda=0.1,weight=1.0)',\n",
       " '# ',\n",
       " '# clock_rate_avg := (clock_rate_1 * 347 + clock_rate_2 * 347 + clock_rate_3 * 347 + clock_rate_1 * 117 + clock_rate_2 * 117 + clock_rate_4 * 117 + clock_rate_5 * 597) / 1989',\n",
       " '',\n",
       " '# Proportional branch lengths.',\n",
       " 'branch_rate_mean ~ dnGamma(0.001,0.001)',\n",
       " 'branch_rate_mean.setValue(0.01)',\n",
       " 'moves[move_index++] = mvScale(branch_rate_mean,lambda=0.1,weight=5.0)',\n",
       " '',\n",
       " '# branch_rate_mean <- 1',\n",
       " '# branch_rate_sd_mean <- 1',\n",
       " '# branch_rate_sd_sd <- 0.587405',\n",
       " '# branch_rate_sd_1 ~ dnLognormal(ln(branch_rate_sd_mean) - (branch_rate_sd_sd^2)/2, branch_rate_sd_sd)',\n",
       " 'branch_rate_sd_1 ~ dnExponential(1 / 0.587405)',\n",
       " 'moves[move_index++] = mvScale(branch_rate_sd_1, lambda=0.1, weight=1.0)',\n",
       " 'for(i in 1:num_branches) {',\n",
       " '  branch_rates_1[i] ~ dnLognormal(ln(branch_rate_mean) - (branch_rate_sd_1^2)/2, branch_rate_sd_1)',\n",
       " '  moves[move_index++] = mvScale(branch_rates_1[i], lambda=0.1, weight=2.0)',\n",
       " '}',\n",
       " 'moves[move_index++] = mvVectorScale(branch_rates_1, lambda=0.1, weight=10.0)',\n",
       " '# constrained_branch_rates_1 := abs(branch_rates_1 / mean(branch_rates_1))',\n",
       " '',\n",
       " '############################################',\n",
       " '# Define the continuous-time Markov chains #',\n",
       " '############################################',\n",
       " '',\n",
       " 'Q_ND2_codon_1 := fnGTR(er_1,pi_1)',\n",
       " 'ctmc_ND2_codon_1 ~ dnPhyloCTMC(tree=psi, Q=Q_ND2_codon_1, branchRates=relative_clock_rates[1] * branch_rates_1, siteRates=gamma_cats_1)',\n",
       " 'ctmc_ND2_codon_1.clamp(data_ND2_codon_1)',\n",
       " '',\n",
       " 'Q_ND2_codon_2 := fnGTR(er_2,pi_2)',\n",
       " 'ctmc_ND2_codon_2 ~ dnPhyloCTMC(tree=psi, Q=Q_ND2_codon_2, branchRates=relative_clock_rates[2] * branch_rates_1, siteRates=gamma_cats_2)',\n",
       " 'ctmc_ND2_codon_2.clamp(data_ND2_codon_2)',\n",
       " '',\n",
       " 'Q_ND2_codon_3 := fnGTR(er_3,pi_3)',\n",
       " 'ctmc_ND2_codon_3 ~ dnPhyloCTMC(tree=psi, Q=Q_ND2_codon_3, branchRates=relative_clock_rates[3] * branch_rates_1, siteRates=gamma_cats_3)',\n",
       " 'ctmc_ND2_codon_3.clamp(data_ND2_codon_3)',\n",
       " '',\n",
       " 'Q_ND3_codon_1 := fnGTR(er_1,pi_1)',\n",
       " 'ctmc_ND3_codon_1 ~ dnPhyloCTMC(tree=psi, Q=Q_ND3_codon_1, branchRates=relative_clock_rates[1] * branch_rates_1, siteRates=gamma_cats_1)',\n",
       " 'ctmc_ND3_codon_1.clamp(data_ND3_codon_1)',\n",
       " '',\n",
       " 'Q_ND3_codon_2 := fnGTR(er_2,pi_2)',\n",
       " 'ctmc_ND3_codon_2 ~ dnPhyloCTMC(tree=psi, Q=Q_ND3_codon_2, branchRates=relative_clock_rates[2] * branch_rates_1, siteRates=gamma_cats_2)',\n",
       " 'ctmc_ND3_codon_2.clamp(data_ND3_codon_2)',\n",
       " '',\n",
       " 'Q_ND3_codon_3 := fnGTR(er_4,pi_4)',\n",
       " 'ctmc_ND3_codon_3 ~ dnPhyloCTMC(tree=psi, Q=Q_ND3_codon_3, branchRates=relative_clock_rates[4] * branch_rates_1, siteRates=gamma_cats_4, pInv=pinv_1)',\n",
       " 'ctmc_ND3_codon_3.clamp(data_ND3_codon_3)',\n",
       " '',\n",
       " 'Q_TGFB2 := fnGTR(er_5,pi_5)',\n",
       " 'ctmc_TGFB2 ~ dnPhyloCTMC(tree=psi, Q=Q_TGFB2, branchRates=relative_clock_rates[5] * branch_rates_1, siteRates=gamma_cats_5)',\n",
       " 'ctmc_TGFB2.clamp(data_TGFB2)',\n",
       " '',\n",
       " 'my_model = model(psi)',\n",
       " '',\n",
       " '#######################',\n",
       " '# Define the monitors #',\n",
       " '#######################',\n",
       " '',\n",
       " 'monitors[1] = mnModel(filename=\"output/RevBayes/45/45_aic.log\",printgen=20, separator = TAB)',\n",
       " 'monitors[2] = mnFile(filename=\"output/RevBayes/45/45_aic.trees\",printgen=20, separator = TAB, psi)',\n",
       " 'monitors[3] = mnScreen(printgen=100)',\n",
       " '',\n",
       " '##########################',\n",
       " '# Define the MCMC object #',\n",
       " '##########################',\n",
       " '',\n",
       " 'analysis = mcmc(my_model, monitors, moves)',\n",
       " '',\n",
       " '################',\n",
       " '# Run the MCMC #',\n",
       " '################',\n",
       " '',\n",
       " 'analysis.burnin(generations=5000,tuningInterval=1000)',\n",
       " 'analysis.run(generations=10000)',\n",
       " '',\n",
       " '###############################',\n",
       " '# Summarize the tree topology #',\n",
       " '###############################',\n",
       " '',\n",
       " 'treetrace = readTreeTrace(\"output/RevBayes/45/45_aic.trees\", treetype=\"clock\")',\n",
       " 'map_tree = mapTree(treetrace,\"output/RevBayes/45/45_aic.tre\")',\n",
       " '',\n",
       " 'q()',\n",
       " '']"
      ]
     },
     "execution_count": 400,
     "metadata": {},
     "output_type": "execute_result"
    }
   ],
   "source": [
    "pieces"
   ]
  },
  {
   "cell_type": "code",
   "execution_count": 401,
   "metadata": {
    "scrolled": true
   },
   "outputs": [
    {
     "data": {
      "text/plain": [
       "46"
      ]
     },
     "execution_count": 401,
     "metadata": {},
     "output_type": "execute_result"
    }
   ],
   "source": [
    "start_ind"
   ]
  },
  {
   "cell_type": "code",
   "execution_count": 402,
   "metadata": {},
   "outputs": [
    {
     "data": {
      "text/plain": [
       "66"
      ]
     },
     "execution_count": 402,
     "metadata": {},
     "output_type": "execute_result"
    }
   ],
   "source": [
    "end_ind"
   ]
  },
  {
   "cell_type": "code",
   "execution_count": 394,
   "metadata": {
    "collapsed": true
   },
   "outputs": [],
   "source": [
    "fix_area = \"\\n\".join(pieces[start_ind+2:end_ind])"
   ]
  },
  {
   "cell_type": "code",
   "execution_count": 395,
   "metadata": {},
   "outputs": [
    {
     "data": {
      "text/plain": [
       "''"
      ]
     },
     "execution_count": 395,
     "metadata": {},
     "output_type": "execute_result"
    }
   ],
   "source": [
    "fix_area"
   ]
  },
  {
   "cell_type": "code",
   "execution_count": 389,
   "metadata": {
    "scrolled": true
   },
   "outputs": [
    {
     "ename": "UnboundLocalError",
     "evalue": "local variable 'start_ind' referenced before assignment",
     "output_type": "error",
     "traceback": [
      "\u001b[0;31m---------------------------------------------------------------------------\u001b[0m",
      "\u001b[0;31mUnboundLocalError\u001b[0m                         Traceback (most recent call last)",
      "\u001b[0;32m<ipython-input-389-75831abfafda>\u001b[0m in \u001b[0;36m<module>\u001b[0;34m()\u001b[0m\n\u001b[0;32m----> 1\u001b[0;31m \u001b[0;32mprint\u001b[0m \u001b[0mfind_fix_area\u001b[0m\u001b[0;34m(\u001b[0m\u001b[0maic_45\u001b[0m\u001b[0;34m)\u001b[0m\u001b[0;34m\u001b[0m\u001b[0m\n\u001b[0m",
      "\u001b[0;32m<ipython-input-388-a7fb8b587336>\u001b[0m in \u001b[0;36mfind_fix_area\u001b[0;34m(script_path, ind)\u001b[0m\n\u001b[1;32m     12\u001b[0m             \u001b[0mend_ind\u001b[0m \u001b[0;34m=\u001b[0m \u001b[0mthis_line\u001b[0m\u001b[0;34m\u001b[0m\u001b[0m\n\u001b[1;32m     13\u001b[0m \u001b[0;34m\u001b[0m\u001b[0m\n\u001b[0;32m---> 14\u001b[0;31m     \u001b[0mfix_area\u001b[0m \u001b[0;34m=\u001b[0m \u001b[0;34m\"\\n\"\u001b[0m\u001b[0;34m.\u001b[0m\u001b[0mjoin\u001b[0m\u001b[0;34m(\u001b[0m\u001b[0mpieces\u001b[0m\u001b[0;34m[\u001b[0m\u001b[0mstart_ind\u001b[0m\u001b[0;34m+\u001b[0m\u001b[0;36m2\u001b[0m\u001b[0;34m:\u001b[0m\u001b[0mend_ind\u001b[0m\u001b[0;34m]\u001b[0m\u001b[0;34m)\u001b[0m\u001b[0;34m\u001b[0m\u001b[0m\n\u001b[0m\u001b[1;32m     15\u001b[0m \u001b[0;34m\u001b[0m\u001b[0m\n\u001b[1;32m     16\u001b[0m     \u001b[0;32mif\u001b[0m \u001b[0mind\u001b[0m\u001b[0;34m==\u001b[0m\u001b[0mTrue\u001b[0m\u001b[0;34m:\u001b[0m\u001b[0;34m\u001b[0m\u001b[0m\n",
      "\u001b[0;31mUnboundLocalError\u001b[0m: local variable 'start_ind' referenced before assignment"
     ]
    }
   ],
   "source": [
    "print find_fix_area(aic_45)"
   ]
  },
  {
   "cell_type": "code",
   "execution_count": 4,
   "metadata": {
    "collapsed": true
   },
   "outputs": [],
   "source": [
    "def fix_single_param(param_area):\n",
    "#     # SPLIT ON RETURNS\n",
    "#     param_area_lines = param_area.split(\"\\n\")\n",
    "    \n",
    "    # GET VARIABLE NAMES\n",
    "    m = re.search(\"er_[0-9]{1,2}_params\", param_area) # FIRST LINE HAS NAME DESIRED\n",
    "    first_name = m.group(0)[:-5]\n",
    "    last_name = m.group(0)\n",
    "    \n",
    "    # CHANGE THE FIRST TWO \"PARAMS\" ONLY\n",
    "    fix1 = param_area.replace(m.group(0), m.group(0)[:-5], 2)\n",
    "    \n",
    "    # SPLIT TO PREPARE TO ADD NEW LINE\n",
    "    fix1lines = fix1.split(\"\\n\")\n",
    "    \n",
    "    # CREATE NEW LINE\n",
    "    new_line = m.group(0)+\" := abs(\"+m.group(0)[:-5]+\")\"\n",
    "    \n",
    "    # CREATE NEW CODE BLOCK\n",
    "    new_block = \"\\n\".join([fix1lines[0], fix1lines[1], new_line, fix1lines[2]])\n",
    "    \n",
    "    return(new_block)"
   ]
  },
  {
   "cell_type": "code",
   "execution_count": 156,
   "metadata": {
    "scrolled": true
   },
   "outputs": [
    {
     "name": "stdout",
     "output_type": "stream",
     "text": [
      "er_1_p ~ dnDirichlet(v(1,1,1,1,1))\n",
      "moves[move_index++] = mvSimplexElementScale(er_1_p,alpha=10.0,weight=0.5)\n",
      "er_1_params := abs(er_1_p)\n",
      "er_1 := simplex(er_1_params[1],er_1_params[2],er_1_params[3],er_1_params[4],er_1_params[2],er_1_params[5])\n"
     ]
    }
   ],
   "source": [
    "# print fix_single_param(rawr[0])"
   ]
  },
  {
   "cell_type": "code",
   "execution_count": 353,
   "metadata": {},
   "outputs": [
    {
     "name": "stdout",
     "output_type": "stream",
     "text": [
      "er_4_p ~ dnDirichlet(v(1,1,1,1))\n",
      "moves[move_index++] = mvSimplexElementScale(er_4_p,alpha=10.0,weight=0.5)\n",
      "er_4_params := abs(er_4_p)\n",
      "er_4 := simplex(er_4_params[1],er_4_params[2],er_4_params[3],er_4_params[3],er_4_params[4],er_4_params[1])\n"
     ]
    }
   ],
   "source": [
    "print fix_single_param(rawr[3])"
   ]
  },
  {
   "cell_type": "code",
   "execution_count": 354,
   "metadata": {},
   "outputs": [
    {
     "name": "stdout",
     "output_type": "stream",
     "text": [
      "er_5_p ~ dnDirichlet(v(1,1,1))\n",
      "moves[move_index++] = mvSimplexElementScale(er_5_p,alpha=10.0,weight=0.5)\n",
      "er_5_params := abs(er_5_p)\n",
      "er_5 := simplex(er_5_params[1],er_5_params[2],er_5_params[1],er_5_params[1],er_5_params[3],er_5_params[1])\n"
     ]
    }
   ],
   "source": [
    "print fix_single_param(rawr[4])"
   ]
  },
  {
   "cell_type": "code",
   "execution_count": 5,
   "metadata": {},
   "outputs": [],
   "source": [
    "def fix_the_area(code_string):\n",
    "    # SPLIT ON DOUBLE RETURNS\n",
    "    param_pieces = code_string.split(\"\\n\\n\")\n",
    "    \n",
    "    # FIND LINE INDICES WHERE CHANGE NEEDED\n",
    "    need_indices = []\n",
    "    for this_line in range(len(param_pieces)):\n",
    "        if \"simplex\" in param_pieces[this_line]:\n",
    "            need_indices.append(this_line)\n",
    "    \n",
    "    # FIX THOSE LINES\n",
    "    fixes = [fix_single_param(param_pieces[i]) for i in need_indices]\n",
    "    \n",
    "    # RENOVATE OLD FIX AREA\n",
    "    change_or_not = [0]*len(param_pieces)\n",
    "    for i in range(len(param_pieces)):\n",
    "        if i in need_indices:\n",
    "            change_or_not[i] += 1\n",
    "    \n",
    "    new_block = []\n",
    "    change_ind = 0\n",
    "    for i in range(len(change_or_not)):\n",
    "        if change_or_not[i] == 1:\n",
    "            new_block.append(fixes[change_ind])\n",
    "            change_ind += 1\n",
    "        if change_or_not[i] == 0:\n",
    "            new_block.append(param_pieces[i])\n",
    "    \n",
    "    return(\"\\n\\n\".join(new_block))"
   ]
  },
  {
   "cell_type": "code",
   "execution_count": 378,
   "metadata": {},
   "outputs": [
    {
     "name": "stdout",
     "output_type": "stream",
     "text": [
      "er_1_p ~ dnDirichlet(v(1,1,1,1,1))\n",
      "moves[move_index++] = mvSimplexElementScale(er_1_p,alpha=10.0,weight=0.5)\n",
      "er_1_params := abs(er_1_p)\n",
      "er_1 := simplex(er_1_params[1],er_1_params[2],er_1_params[3],er_1_params[4],er_1_params[2],er_1_params[5])\n",
      "\n",
      "er_2 ~ dnDirichlet(v(1,1,1,1,1,1))\n",
      "moves[move_index++] = mvSimplexElementScale(er_2,alpha=10.0,weight=0.5)\n",
      "\n",
      "er_3 ~ dnDirichlet(v(1,1,1,1,1,1))\n",
      "moves[move_index++] = mvSimplexElementScale(er_3,alpha=10.0,weight=0.5)\n",
      "\n",
      "er_4_p ~ dnDirichlet(v(1,1,1,1))\n",
      "moves[move_index++] = mvSimplexElementScale(er_4_p,alpha=10.0,weight=0.5)\n",
      "er_4_params := abs(er_4_p)\n",
      "er_4 := simplex(er_4_params[1],er_4_params[2],er_4_params[3],er_4_params[3],er_4_params[4],er_4_params[1])\n",
      "\n",
      "er_5_p ~ dnDirichlet(v(1,1,1))\n",
      "moves[move_index++] = mvSimplexElementScale(er_5_p,alpha=10.0,weight=0.5)\n",
      "er_5_params := abs(er_5_p)\n",
      "er_5 := simplex(er_5_params[1],er_5_params[2],er_5_params[1],er_5_params[1],er_5_params[3],er_5_params[1])\n"
     ]
    }
   ],
   "source": [
    "print fix_the_area(find_fix_area(aic_45))"
   ]
  },
  {
   "cell_type": "markdown",
   "metadata": {},
   "source": [
    "### 1c. Main Function\n",
    "This will put all of the above functions together to create one wrap-around function that will do the whole job."
   ]
  },
  {
   "cell_type": "code",
   "execution_count": 6,
   "metadata": {
    "collapsed": true
   },
   "outputs": [],
   "source": [
    "def main(script_path, write=False):\n",
    "    # READ FILE AS STRING\n",
    "    with open (script_path, \"r\") as this_file:\n",
    "        data = this_file.read()\n",
    "    \n",
    "    # CUT IT UP\n",
    "    data_lines = data.split(\"\\n\")\n",
    "    indices = find_fix_area(script_path, ind=True)\n",
    "    start_ind, end_ind = indices[0], indices[1]\n",
    "    \n",
    "    # SUBFIXES\n",
    "    fix_area = find_fix_area(script_path)\n",
    "    updated_area = fix_the_area(fix_area)\n",
    "    \n",
    "    # PUT TOGETHER AGAIN\n",
    "    humpty_dumpty = \"\\n\".join(data_lines[:start_ind]) + \"\\n\" + updated_area + \"\\n\\n\" + \"\\n\".join(data_lines[end_ind:])\n",
    "    \n",
    "    if write==True:\n",
    "        f = open(script_path, \"w\")\n",
    "        f.write(humpty_dumpty)\n",
    "        f.close()\n",
    "        return(\"File written to disk for: \"+str(script_path.split(\"/\")[-1]))\n",
    "    \n",
    "    else:\n",
    "        return(humpy_dumpty)"
   ]
  },
  {
   "cell_type": "code",
   "execution_count": 379,
   "metadata": {},
   "outputs": [
    {
     "name": "stdout",
     "output_type": "stream",
     "text": [
      "##########################\n",
      "# Read the sequence data #\n",
      "##########################\n",
      "\n",
      "data_ND2_codon_1 = readDiscreteCharacterData(\"data/subsets_no_outgroups/45/ND2_codon_1.nex\")\n",
      "data_ND2_codon_2 = readDiscreteCharacterData(\"data/subsets_no_outgroups/45/ND2_codon_2.nex\")\n",
      "data_ND2_codon_3 = readDiscreteCharacterData(\"data/subsets_no_outgroups/45/ND2_codon_3.nex\")\n",
      "data_ND3_codon_1 = readDiscreteCharacterData(\"data/subsets_no_outgroups/45/ND3_codon_1.nex\")\n",
      "data_ND3_codon_2 = readDiscreteCharacterData(\"data/subsets_no_outgroups/45/ND3_codon_2.nex\")\n",
      "data_ND3_codon_3 = readDiscreteCharacterData(\"data/subsets_no_outgroups/45/ND3_codon_3.nex\")\n",
      "data_TGFB2 = readDiscreteCharacterData(\"data/subsets_no_outgroups/45/TGFB2.nex\")\n",
      "taxa = data_ND2_codon_1.taxa()\n",
      "num_species = data_ND2_codon_1.ntaxa()\n",
      "num_branches = 2 * num_species - 2\n",
      "\n",
      "move_index = 1\n",
      "\n",
      "#############################################\n",
      "# Define the tree and associated parameters #\n",
      "#############################################\n",
      "\n",
      "root_height <- 1\n",
      "diversification_logmean <- ln(ln(num_species/2)/root_height)\n",
      "diversification_logsd <- 0.587405\n",
      "\n",
      "diversification ~ dnLognormal(diversification_logmean - (diversification_logsd^2) / 2, diversification_logsd)\n",
      "turnover ~ dnLognormal(diversification_logmean - (diversification_logsd^2) / 2, diversification_logsd)\n",
      "speciation := diversification + turnover\n",
      "extinction := turnover\n",
      "moves[move_index++] = mvSlide(diversification,delta=1,tune=true,weight=1.5)\n",
      "moves[move_index++] = mvSlide(turnover,delta=1,tune=true,weight=1.5)\n",
      "\n",
      "sampling_fraction <- 0.709090909\n",
      "\n",
      "psi ~ dnBDP(lambda=speciation,mu=extinction,rootAge=abs(root_height),rho=sampling_fraction,taxa=taxa)\n",
      "moves[move_index++] = mvNarrow(psi, weight=10.0)\n",
      "moves[move_index++] = mvNNI(psi, weight=10.0)\n",
      "moves[move_index++] = mvFNPR(psi, weight=8.0)\n",
      "moves[move_index++] = mvGPR(psi, weight=6.0)\n",
      "moves[move_index++] = mvSubtreeScale(psi, weight=10.0)\n",
      "moves[move_index++] = mvNodeTimeSlideUniform(psi, weight=25.0)\n",
      "\n",
      "############################################\n",
      "# Define the substitution model parameters #\n",
      "############################################\n",
      "\n",
      "# Relative rates.\n",
      "\n",
      "er_1_p ~ dnDirichlet(v(1,1,1,1,1))\n",
      "moves[move_index++] = mvSimplexElementScale(er_1_p,alpha=10.0,weight=0.5)\n",
      "er_1_params := abs(er_1_p)\n",
      "er_1 := simplex(er_1_params[1],er_1_params[2],er_1_params[3],er_1_params[4],er_1_params[2],er_1_params[5])\n",
      "\n",
      "er_2 ~ dnDirichlet(v(1,1,1,1,1,1))\n",
      "moves[move_index++] = mvSimplexElementScale(er_2,alpha=10.0,weight=0.5)\n",
      "\n",
      "er_3 ~ dnDirichlet(v(1,1,1,1,1,1))\n",
      "moves[move_index++] = mvSimplexElementScale(er_3,alpha=10.0,weight=0.5)\n",
      "\n",
      "er_4_p ~ dnDirichlet(v(1,1,1,1))\n",
      "moves[move_index++] = mvSimplexElementScale(er_4_p,alpha=10.0,weight=0.5)\n",
      "er_4_params := abs(er_4_p)\n",
      "er_4 := simplex(er_4_params[1],er_4_params[2],er_4_params[3],er_4_params[3],er_4_params[4],er_4_params[1])\n",
      "\n",
      "er_5_p ~ dnDirichlet(v(1,1,1))\n",
      "moves[move_index++] = mvSimplexElementScale(er_5_p,alpha=10.0,weight=0.5)\n",
      "er_5_params := abs(er_5_p)\n",
      "er_5 := simplex(er_5_params[1],er_5_params[2],er_5_params[1],er_5_params[1],er_5_params[3],er_5_params[1])\n",
      "\n",
      "# Stationary frequencies.\n",
      "\n",
      "pi_1 ~ dnDirichlet(v(1,1,1,1))\n",
      "moves[move_index++] = mvSimplexElementScale(pi_1,alpha=10.0,weight=0.5)\n",
      "\n",
      "pi_2 ~ dnDirichlet(v(1,1,1,1))\n",
      "moves[move_index++] = mvSimplexElementScale(pi_2,alpha=10.0,weight=0.5)\n",
      "\n",
      "pi_3 ~ dnDirichlet(v(1,1,1,1))\n",
      "moves[move_index++] = mvSimplexElementScale(pi_3,alpha=10.0,weight=0.5)\n",
      "\n",
      "pi_4 ~ dnDirichlet(v(1,1,1,1))\n",
      "moves[move_index++] = mvSimplexElementScale(pi_4,alpha=10.0,weight=0.5)\n",
      "\n",
      "pi_5 ~ dnDirichlet(v(1,1,1,1))\n",
      "moves[move_index++] = mvSimplexElementScale(pi_5,alpha=10.0,weight=0.5)\n",
      "\n",
      "# Discrete-gamma among-site rate variation.\n",
      "\n",
      "alpha_1 ~ dnGamma(2.0, 1.0)\n",
      "gamma_cats_1 := fnDiscretizeGamma(alpha_1,alpha_1,4)\n",
      "moves[move_index++] = mvScale(alpha_1,lambda=0.1,weight=0.5)\n",
      "\n",
      "alpha_2 ~ dnGamma(2.0, 1.0)\n",
      "gamma_cats_2 := fnDiscretizeGamma(alpha_2,alpha_2,4)\n",
      "moves[move_index++] = mvScale(alpha_2,lambda=0.1,weight=0.5)\n",
      "\n",
      "alpha_3 ~ dnGamma(2.0, 1.0)\n",
      "gamma_cats_3 := fnDiscretizeGamma(alpha_3,alpha_3,4)\n",
      "moves[move_index++] = mvScale(alpha_3,lambda=0.1,weight=0.5)\n",
      "\n",
      "alpha_4 ~ dnGamma(2.0, 1.0)\n",
      "gamma_cats_4 := fnDiscretizeGamma(alpha_4,alpha_4,4)\n",
      "moves[move_index++] = mvScale(alpha_4,lambda=0.1,weight=0.5)\n",
      "\n",
      "alpha_5 ~ dnGamma(2.0, 1.0)\n",
      "gamma_cats_5 := fnDiscretizeGamma(alpha_5,alpha_5,4)\n",
      "moves[move_index++] = mvScale(alpha_5,lambda=0.1,weight=0.5)\n",
      "\n",
      "# Proportion of invariable sites.\n",
      "\n",
      "pinv_1 ~ dnBeta(1.0,1.0)\n",
      "pinv_1.setValue(0.01)\n",
      "moves[move_index++] = mvSlide(pinv_1,delta=0.1,weight=0.5)\n",
      "\n",
      "for (i in 1:num_branches) {\n",
      "  br_lens[i] := psi.branchLength(i)\n",
      "}\n",
      "TL := sum(br_lens)\n",
      "\n",
      "proportional_clock_rates ~ dnDirichlet(v(1,1,1,1,1))\n",
      "moves[move_index++] = mvBetaSimplex(proportional_clock_rates, weight=5.0)\n",
      "relative_clock_rates := proportional_clock_rates * 5\n",
      "\n",
      "# clock_rate_1 ~ dnGamma(0.001,0.001)\n",
      "# clock_rate_1.setValue(0.01)\n",
      "# moves[move_index++] = mvScale(clock_rate_1,lambda=0.1,weight=1.0)\n",
      "# \n",
      "# clock_rate_2 ~ dnGamma(0.001,0.001)\n",
      "# clock_rate_2.setValue(0.01)\n",
      "# moves[move_index++] = mvScale(clock_rate_2,lambda=0.1,weight=1.0)\n",
      "# \n",
      "# clock_rate_3 ~ dnGamma(0.001,0.001)\n",
      "# clock_rate_3.setValue(0.01)\n",
      "# moves[move_index++] = mvScale(clock_rate_3,lambda=0.1,weight=1.0)\n",
      "# \n",
      "# clock_rate_4 ~ dnGamma(0.001,0.001)\n",
      "# clock_rate_4.setValue(0.01)\n",
      "# moves[move_index++] = mvScale(clock_rate_4,lambda=0.1,weight=1.0)\n",
      "# \n",
      "# clock_rate_5 ~ dnGamma(0.001,0.001)\n",
      "# clock_rate_5.setValue(0.01)\n",
      "# moves[move_index++] = mvScale(clock_rate_5,lambda=0.1,weight=1.0)\n",
      "# \n",
      "# clock_rate_avg := (clock_rate_1 * 347 + clock_rate_2 * 347 + clock_rate_3 * 347 + clock_rate_1 * 117 + clock_rate_2 * 117 + clock_rate_4 * 117 + clock_rate_5 * 597) / 1989\n",
      "\n",
      "# Proportional branch lengths.\n",
      "branch_rate_mean ~ dnGamma(0.001,0.001)\n",
      "branch_rate_mean.setValue(0.01)\n",
      "moves[move_index++] = mvScale(branch_rate_mean,lambda=0.1,weight=5.0)\n",
      "\n",
      "# branch_rate_mean <- 1\n",
      "# branch_rate_sd_mean <- 1\n",
      "# branch_rate_sd_sd <- 0.587405\n",
      "# branch_rate_sd_1 ~ dnLognormal(ln(branch_rate_sd_mean) - (branch_rate_sd_sd^2)/2, branch_rate_sd_sd)\n",
      "branch_rate_sd_1 ~ dnExponential(1 / 0.587405)\n",
      "moves[move_index++] = mvScale(branch_rate_sd_1, lambda=0.1, weight=1.0)\n",
      "for(i in 1:num_branches) {\n",
      "  branch_rates_1[i] ~ dnLognormal(ln(branch_rate_mean) - (branch_rate_sd_1^2)/2, branch_rate_sd_1)\n",
      "  moves[move_index++] = mvScale(branch_rates_1[i], lambda=0.1, weight=2.0)\n",
      "}\n",
      "moves[move_index++] = mvVectorScale(branch_rates_1, lambda=0.1, weight=10.0)\n",
      "# constrained_branch_rates_1 := abs(branch_rates_1 / mean(branch_rates_1))\n",
      "\n",
      "############################################\n",
      "# Define the continuous-time Markov chains #\n",
      "############################################\n",
      "\n",
      "Q_ND2_codon_1 := fnGTR(er_1,pi_1)\n",
      "ctmc_ND2_codon_1 ~ dnPhyloCTMC(tree=psi, Q=Q_ND2_codon_1, branchRates=relative_clock_rates[1] * branch_rates_1, siteRates=gamma_cats_1)\n",
      "ctmc_ND2_codon_1.clamp(data_ND2_codon_1)\n",
      "\n",
      "Q_ND2_codon_2 := fnGTR(er_2,pi_2)\n",
      "ctmc_ND2_codon_2 ~ dnPhyloCTMC(tree=psi, Q=Q_ND2_codon_2, branchRates=relative_clock_rates[2] * branch_rates_1, siteRates=gamma_cats_2)\n",
      "ctmc_ND2_codon_2.clamp(data_ND2_codon_2)\n",
      "\n",
      "Q_ND2_codon_3 := fnGTR(er_3,pi_3)\n",
      "ctmc_ND2_codon_3 ~ dnPhyloCTMC(tree=psi, Q=Q_ND2_codon_3, branchRates=relative_clock_rates[3] * branch_rates_1, siteRates=gamma_cats_3)\n",
      "ctmc_ND2_codon_3.clamp(data_ND2_codon_3)\n",
      "\n",
      "Q_ND3_codon_1 := fnGTR(er_1,pi_1)\n",
      "ctmc_ND3_codon_1 ~ dnPhyloCTMC(tree=psi, Q=Q_ND3_codon_1, branchRates=relative_clock_rates[1] * branch_rates_1, siteRates=gamma_cats_1)\n",
      "ctmc_ND3_codon_1.clamp(data_ND3_codon_1)\n",
      "\n",
      "Q_ND3_codon_2 := fnGTR(er_2,pi_2)\n",
      "ctmc_ND3_codon_2 ~ dnPhyloCTMC(tree=psi, Q=Q_ND3_codon_2, branchRates=relative_clock_rates[2] * branch_rates_1, siteRates=gamma_cats_2)\n",
      "ctmc_ND3_codon_2.clamp(data_ND3_codon_2)\n",
      "\n",
      "Q_ND3_codon_3 := fnGTR(er_4,pi_4)\n",
      "ctmc_ND3_codon_3 ~ dnPhyloCTMC(tree=psi, Q=Q_ND3_codon_3, branchRates=relative_clock_rates[4] * branch_rates_1, siteRates=gamma_cats_4, pInv=pinv_1)\n",
      "ctmc_ND3_codon_3.clamp(data_ND3_codon_3)\n",
      "\n",
      "Q_TGFB2 := fnGTR(er_5,pi_5)\n",
      "ctmc_TGFB2 ~ dnPhyloCTMC(tree=psi, Q=Q_TGFB2, branchRates=relative_clock_rates[5] * branch_rates_1, siteRates=gamma_cats_5)\n",
      "ctmc_TGFB2.clamp(data_TGFB2)\n",
      "\n",
      "my_model = model(psi)\n",
      "\n",
      "#######################\n",
      "# Define the monitors #\n",
      "#######################\n",
      "\n",
      "monitors[1] = mnModel(filename=\"output/RevBayes/45/45_aic.log\",printgen=20, separator = TAB)\n",
      "monitors[2] = mnFile(filename=\"output/RevBayes/45/45_aic.trees\",printgen=20, separator = TAB, psi)\n",
      "monitors[3] = mnScreen(printgen=100)\n",
      "\n",
      "##########################\n",
      "# Define the MCMC object #\n",
      "##########################\n",
      "\n",
      "analysis = mcmc(my_model, monitors, moves)\n",
      "\n",
      "################\n",
      "# Run the MCMC #\n",
      "################\n",
      "\n",
      "analysis.burnin(generations=5000,tuningInterval=1000)\n",
      "analysis.run(generations=10000)\n",
      "\n",
      "###############################\n",
      "# Summarize the tree topology #\n",
      "###############################\n",
      "\n",
      "treetrace = readTreeTrace(\"output/RevBayes/45/45_aic.trees\", treetype=\"clock\")\n",
      "map_tree = mapTree(treetrace,\"output/RevBayes/45/45_aic.tre\")\n",
      "\n",
      "q()\n",
      "\n"
     ]
    }
   ],
   "source": [
    "print main(aic_45)"
   ]
  },
  {
   "cell_type": "markdown",
   "metadata": {},
   "source": [
    "And it did the whole job! Yee. Now, onto doing it for all of the scripts... How fun."
   ]
  },
  {
   "cell_type": "markdown",
   "metadata": {},
   "source": [
    "# 2. For All Scripts in Directory"
   ]
  },
  {
   "cell_type": "markdown",
   "metadata": {},
   "source": [
    "### 2a. biohazardCleanUp Functions\n",
    "I save a lot of my frequently used functions under a repository called biohazardCleanUp\n",
    "<br>\n",
    "<b>Link</b>: https://github.com/palautatan/biohazardCleanUp/"
   ]
  },
  {
   "cell_type": "code",
   "execution_count": 10,
   "metadata": {
    "collapsed": true
   },
   "outputs": [],
   "source": [
    "# REQUIREMENTS\n",
    "from os import listdir\n",
    "\n",
    "# LISTDIR_NH FUNCTION\n",
    "def listdir_nh(path):\n",
    "    '''\n",
    "    Input: Path of directory (string)\n",
    "    Output: Non-hidden files within given directory (list of strings)\n",
    "    '''\n",
    "    files = listdir(path)\n",
    "    parsed = [file for file in files if not file.startswith(\".\")]\n",
    "    return parsed"
   ]
  },
  {
   "cell_type": "markdown",
   "metadata": {},
   "source": [
    "### 2b. Listing My Directory\n",
    "I'm going to recursively use listdir_nh on my directory."
   ]
  },
  {
   "cell_type": "markdown",
   "metadata": {},
   "source": [
    "__I AM DOING REVBAYES 2 FOLDER HERE, CHANGE BACK TO REVABYES FOLDER __"
   ]
  },
  {
   "cell_type": "code",
   "execution_count": 11,
   "metadata": {
    "collapsed": true
   },
   "outputs": [],
   "source": [
    "# MY PARENT DIRECTORY\n",
    "padre = \"/Users/treehouse5/Dropbox/effect_of_partitioning/step_2_shakedown_runs/scripts/RevBayes2/\""
   ]
  },
  {
   "cell_type": "code",
   "execution_count": 12,
   "metadata": {},
   "outputs": [],
   "source": [
    "# I AM LISTING ALL FOLDERS IN MY PARENT DIRECTORY\n",
    "folders = [listdir_nh(padre)][0] # I NEED TO FIX MY BHCU FUNCTION"
   ]
  },
  {
   "cell_type": "code",
   "execution_count": 13,
   "metadata": {},
   "outputs": [
    {
     "data": {
      "text/plain": [
       "['117', '196_8', '21', '28', '45']"
      ]
     },
     "execution_count": 13,
     "metadata": {},
     "output_type": "execute_result"
    }
   ],
   "source": [
    "# PREVIEW OF FIRST FIVE FOLDERS\n",
    "folders[:5]"
   ]
  },
  {
   "cell_type": "code",
   "execution_count": 14,
   "metadata": {},
   "outputs": [],
   "source": [
    "# NOW I AM LISTING ALL THE FILES\n",
    "files_in_folders = [listdir_nh(padre+folder) for folder in folders]"
   ]
  },
  {
   "cell_type": "code",
   "execution_count": 15,
   "metadata": {},
   "outputs": [
    {
     "data": {
      "text/plain": [
       "[['117_aic.Rev',\n",
       "  '117_all_apart.Rev',\n",
       "  '117_bic.Rev',\n",
       "  '117_gene.Rev',\n",
       "  '117_together.Rev'],\n",
       " ['196_8_aic.Rev',\n",
       "  '196_8_all_apart.Rev',\n",
       "  '196_8_bic.Rev',\n",
       "  '196_8_gene.Rev',\n",
       "  '196_8_together.Rev']]"
      ]
     },
     "execution_count": 15,
     "metadata": {},
     "output_type": "execute_result"
    }
   ],
   "source": [
    "# PREVIEW OF FIRST TWO DATASETS\n",
    "files_in_folders[:2]"
   ]
  },
  {
   "cell_type": "code",
   "execution_count": 16,
   "metadata": {},
   "outputs": [],
   "source": [
    "# AND NOW I AM MAKING A LIST OF ALL THE PATHS TO THESE SUBDIRECTORIES\n",
    "all_paths = [[padre+folders[i]+\"/\"+x for x in files_in_folders[i]] for i in range(len(folders))]"
   ]
  },
  {
   "cell_type": "code",
   "execution_count": 17,
   "metadata": {},
   "outputs": [
    {
     "data": {
      "text/plain": [
       "[['/Users/treehouse5/Dropbox/effect_of_partitioning/step_2_shakedown_runs/scripts/RevBayes2/117/117_aic.Rev',\n",
       "  '/Users/treehouse5/Dropbox/effect_of_partitioning/step_2_shakedown_runs/scripts/RevBayes2/117/117_all_apart.Rev',\n",
       "  '/Users/treehouse5/Dropbox/effect_of_partitioning/step_2_shakedown_runs/scripts/RevBayes2/117/117_bic.Rev',\n",
       "  '/Users/treehouse5/Dropbox/effect_of_partitioning/step_2_shakedown_runs/scripts/RevBayes2/117/117_gene.Rev',\n",
       "  '/Users/treehouse5/Dropbox/effect_of_partitioning/step_2_shakedown_runs/scripts/RevBayes2/117/117_together.Rev'],\n",
       " ['/Users/treehouse5/Dropbox/effect_of_partitioning/step_2_shakedown_runs/scripts/RevBayes2/196_8/196_8_aic.Rev',\n",
       "  '/Users/treehouse5/Dropbox/effect_of_partitioning/step_2_shakedown_runs/scripts/RevBayes2/196_8/196_8_all_apart.Rev',\n",
       "  '/Users/treehouse5/Dropbox/effect_of_partitioning/step_2_shakedown_runs/scripts/RevBayes2/196_8/196_8_bic.Rev',\n",
       "  '/Users/treehouse5/Dropbox/effect_of_partitioning/step_2_shakedown_runs/scripts/RevBayes2/196_8/196_8_gene.Rev',\n",
       "  '/Users/treehouse5/Dropbox/effect_of_partitioning/step_2_shakedown_runs/scripts/RevBayes2/196_8/196_8_together.Rev'],\n",
       " ['/Users/treehouse5/Dropbox/effect_of_partitioning/step_2_shakedown_runs/scripts/RevBayes2/21/21_aic.Rev',\n",
       "  '/Users/treehouse5/Dropbox/effect_of_partitioning/step_2_shakedown_runs/scripts/RevBayes2/21/21_all_apart.Rev',\n",
       "  '/Users/treehouse5/Dropbox/effect_of_partitioning/step_2_shakedown_runs/scripts/RevBayes2/21/21_bic.Rev',\n",
       "  '/Users/treehouse5/Dropbox/effect_of_partitioning/step_2_shakedown_runs/scripts/RevBayes2/21/21_gene.Rev',\n",
       "  '/Users/treehouse5/Dropbox/effect_of_partitioning/step_2_shakedown_runs/scripts/RevBayes2/21/21_together.Rev']]"
      ]
     },
     "execution_count": 17,
     "metadata": {},
     "output_type": "execute_result"
    }
   ],
   "source": [
    "# PREVIEW\n",
    "all_paths[:3]"
   ]
  },
  {
   "cell_type": "code",
   "execution_count": 18,
   "metadata": {},
   "outputs": [],
   "source": [
    "# AND NOW TO MAKE ONE LIST\n",
    "one_list_of_paths = [item for sublist in all_paths for item in sublist]"
   ]
  },
  {
   "cell_type": "code",
   "execution_count": 19,
   "metadata": {
    "scrolled": true
   },
   "outputs": [
    {
     "data": {
      "text/plain": [
       "['/Users/treehouse5/Dropbox/effect_of_partitioning/step_2_shakedown_runs/scripts/RevBayes2/117/117_aic.Rev',\n",
       " '/Users/treehouse5/Dropbox/effect_of_partitioning/step_2_shakedown_runs/scripts/RevBayes2/117/117_bic.Rev',\n",
       " '/Users/treehouse5/Dropbox/effect_of_partitioning/step_2_shakedown_runs/scripts/RevBayes2/117/117_together.Rev',\n",
       " '/Users/treehouse5/Dropbox/effect_of_partitioning/step_2_shakedown_runs/scripts/RevBayes2/196_8/196_8_all_apart.Rev',\n",
       " '/Users/treehouse5/Dropbox/effect_of_partitioning/step_2_shakedown_runs/scripts/RevBayes2/196_8/196_8_gene.Rev',\n",
       " '/Users/treehouse5/Dropbox/effect_of_partitioning/step_2_shakedown_runs/scripts/RevBayes2/21/21_aic.Rev',\n",
       " '/Users/treehouse5/Dropbox/effect_of_partitioning/step_2_shakedown_runs/scripts/RevBayes2/21/21_bic.Rev',\n",
       " '/Users/treehouse5/Dropbox/effect_of_partitioning/step_2_shakedown_runs/scripts/RevBayes2/21/21_together.Rev',\n",
       " '/Users/treehouse5/Dropbox/effect_of_partitioning/step_2_shakedown_runs/scripts/RevBayes2/28/28_all_apart.Rev',\n",
       " '/Users/treehouse5/Dropbox/effect_of_partitioning/step_2_shakedown_runs/scripts/RevBayes2/28/28_gene.Rev']"
      ]
     },
     "execution_count": 19,
     "metadata": {},
     "output_type": "execute_result"
    }
   ],
   "source": [
    "one_list_of_paths[0:20:2]"
   ]
  },
  {
   "cell_type": "markdown",
   "metadata": {},
   "source": [
    "### 2c. \"Run It\" -Chris Brown"
   ]
  },
  {
   "cell_type": "code",
   "execution_count": 20,
   "metadata": {},
   "outputs": [
    {
     "data": {
      "text/plain": [
       "['File written to disk for: 117_aic.Rev',\n",
       " 'File written to disk for: 117_all_apart.Rev',\n",
       " 'File written to disk for: 117_bic.Rev',\n",
       " 'File written to disk for: 117_gene.Rev',\n",
       " 'File written to disk for: 117_together.Rev',\n",
       " 'File written to disk for: 196_8_aic.Rev',\n",
       " 'File written to disk for: 196_8_all_apart.Rev',\n",
       " 'File written to disk for: 196_8_bic.Rev',\n",
       " 'File written to disk for: 196_8_gene.Rev',\n",
       " 'File written to disk for: 196_8_together.Rev',\n",
       " 'File written to disk for: 21_aic.Rev',\n",
       " 'File written to disk for: 21_all_apart.Rev',\n",
       " 'File written to disk for: 21_bic.Rev',\n",
       " 'File written to disk for: 21_gene.Rev',\n",
       " 'File written to disk for: 21_together.Rev',\n",
       " 'File written to disk for: 28_aic.Rev',\n",
       " 'File written to disk for: 28_all_apart.Rev',\n",
       " 'File written to disk for: 28_bic.Rev',\n",
       " 'File written to disk for: 28_gene.Rev',\n",
       " 'File written to disk for: 28_together.Rev',\n",
       " 'File written to disk for: 45_aic.Rev',\n",
       " 'File written to disk for: 45_all_apart.Rev',\n",
       " 'File written to disk for: 45_bic.Rev',\n",
       " 'File written to disk for: 45_gene.Rev',\n",
       " 'File written to disk for: 45_together.Rev',\n",
       " 'File written to disk for: 4_6_aic.Rev',\n",
       " 'File written to disk for: 4_6_all_apart.Rev',\n",
       " 'File written to disk for: 4_6_bic.Rev',\n",
       " 'File written to disk for: 4_6_gene.Rev',\n",
       " 'File written to disk for: 4_6_together.Rev',\n",
       " 'File written to disk for: Bloom_2013_fishes_aic.Rev',\n",
       " 'File written to disk for: Bloom_2013_fishes_all_apart.Rev',\n",
       " 'File written to disk for: Bloom_2013_fishes_bic.Rev',\n",
       " 'File written to disk for: Bloom_2013_fishes_gene.Rev',\n",
       " 'File written to disk for: Bloom_2013_fishes_together.Rev',\n",
       " 'File written to disk for: Brown_2012_aic.Rev',\n",
       " 'File written to disk for: Brown_2012_all_apart.Rev',\n",
       " 'File written to disk for: Brown_2012_bic.Rev',\n",
       " 'File written to disk for: Brown_2012_gene.Rev',\n",
       " 'File written to disk for: Brown_2012_together.Rev',\n",
       " 'File written to disk for: Cibois_2013_birds_aic.Rev',\n",
       " 'File written to disk for: Cibois_2013_birds_all_apart.Rev',\n",
       " 'File written to disk for: Cibois_2013_birds_bic.Rev',\n",
       " 'File written to disk for: Cibois_2013_birds_gene.Rev',\n",
       " 'File written to disk for: Cibois_2013_birds_together.Rev',\n",
       " 'File written to disk for: Cognato_2001_aic.Rev',\n",
       " 'File written to disk for: Cognato_2001_all_apart.Rev',\n",
       " 'File written to disk for: Cognato_2001_bic.Rev',\n",
       " 'File written to disk for: Cognato_2001_gene.Rev',\n",
       " 'File written to disk for: Cognato_2001_together.Rev',\n",
       " 'File written to disk for: Condamine_2012_butterflies_aic.Rev',\n",
       " 'File written to disk for: Condamine_2012_butterflies_all_apart.Rev',\n",
       " 'File written to disk for: Condamine_2012_butterflies_bic.Rev',\n",
       " 'File written to disk for: Condamine_2012_butterflies_gene.Rev',\n",
       " 'File written to disk for: Condamine_2012_butterflies_together.Rev',\n",
       " 'File written to disk for: Daniels_2015_crabs_aic.Rev',\n",
       " 'File written to disk for: Daniels_2015_crabs_all_apart.Rev',\n",
       " 'File written to disk for: Daniels_2015_crabs_bic.Rev',\n",
       " 'File written to disk for: Daniels_2015_crabs_gene.Rev',\n",
       " 'File written to disk for: Daniels_2015_crabs_together.Rev',\n",
       " 'File written to disk for: Day_2013_aic.Rev',\n",
       " 'File written to disk for: Day_2013_all_apart.Rev',\n",
       " 'File written to disk for: Day_2013_bic.Rev',\n",
       " 'File written to disk for: Day_2013_gene.Rev',\n",
       " 'File written to disk for: Day_2013_together.Rev',\n",
       " 'File written to disk for: DORNBURG_2012_aic.Rev',\n",
       " 'File written to disk for: DORNBURG_2012_all_apart.Rev',\n",
       " 'File written to disk for: DORNBURG_2012_bic.Rev',\n",
       " 'File written to disk for: DORNBURG_2012_gene.Rev',\n",
       " 'File written to disk for: DORNBURG_2012_together.Rev',\n",
       " 'File written to disk for: Ekrem_2010_aic.Rev',\n",
       " 'File written to disk for: Ekrem_2010_all_apart.Rev',\n",
       " 'File written to disk for: Ekrem_2010_bic.Rev',\n",
       " 'File written to disk for: Ekrem_2010_gene.Rev',\n",
       " 'File written to disk for: Ekrem_2010_together.Rev',\n",
       " 'File written to disk for: Fishbein_2001_aic.Rev',\n",
       " 'File written to disk for: Fishbein_2001_all_apart.Rev',\n",
       " 'File written to disk for: Fishbein_2001_bic.Rev',\n",
       " 'File written to disk for: Fishbein_2001_gene.Rev',\n",
       " 'File written to disk for: Fishbein_2001_together.Rev',\n",
       " 'File written to disk for: Garcia-Sandoval_2011_fungus_aic.Rev',\n",
       " 'File written to disk for: Garcia-Sandoval_2011_fungus_all_apart.Rev',\n",
       " 'File written to disk for: Garcia-Sandoval_2011_fungus_bic.Rev',\n",
       " 'File written to disk for: Garcia-Sandoval_2011_fungus_gene.Rev',\n",
       " 'File written to disk for: Garcia-Sandoval_2011_fungus_together.Rev',\n",
       " 'File written to disk for: Grande_2013_aic.Rev',\n",
       " 'File written to disk for: Grande_2013_all_apart.Rev',\n",
       " 'File written to disk for: Grande_2013_bic.Rev',\n",
       " 'File written to disk for: Grande_2013_gene.Rev',\n",
       " 'File written to disk for: Grande_2013_together.Rev',\n",
       " 'File written to disk for: Hyde_2007_rockfishes_aic.Rev',\n",
       " 'File written to disk for: Hyde_2007_rockfishes_all_apart.Rev',\n",
       " 'File written to disk for: Hyde_2007_rockfishes_bic.Rev',\n",
       " 'File written to disk for: Hyde_2007_rockfishes_gene.Rev',\n",
       " 'File written to disk for: Hyde_2007_rockfishes_together.Rev',\n",
       " 'File written to disk for: Kaffenberger_2011_aic.Rev',\n",
       " 'File written to disk for: Kaffenberger_2011_all_apart.Rev',\n",
       " 'File written to disk for: Kaffenberger_2011_bic.Rev',\n",
       " 'File written to disk for: Kaffenberger_2011_gene.Rev',\n",
       " 'File written to disk for: Kaffenberger_2011_together.Rev',\n",
       " 'File written to disk for: Kang_2013a_aic.Rev',\n",
       " 'File written to disk for: Kang_2013a_all_apart.Rev',\n",
       " 'File written to disk for: Kang_2013a_bic.Rev',\n",
       " 'File written to disk for: Kang_2013a_gene.Rev',\n",
       " 'File written to disk for: Kang_2013a_together.Rev',\n",
       " 'File written to disk for: Korall_2006_tree_ferns_aic.Rev',\n",
       " 'File written to disk for: Korall_2006_tree_ferns_all_apart.Rev',\n",
       " 'File written to disk for: Korall_2006_tree_ferns_bic.Rev',\n",
       " 'File written to disk for: Korall_2006_tree_ferns_gene.Rev',\n",
       " 'File written to disk for: Korall_2006_tree_ferns_together.Rev',\n",
       " 'File written to disk for: Lane_2006_kelp_aic.Rev',\n",
       " 'File written to disk for: Lane_2006_kelp_all_apart.Rev',\n",
       " 'File written to disk for: Lane_2006_kelp_bic.Rev',\n",
       " 'File written to disk for: Lane_2006_kelp_gene.Rev',\n",
       " 'File written to disk for: Lane_2006_kelp_together.Rev',\n",
       " 'File written to disk for: Leache_2009_lizards_nuclear_aic.Rev',\n",
       " 'File written to disk for: Leache_2009_lizards_nuclear_all_apart.Rev',\n",
       " 'File written to disk for: Leache_2009_lizards_nuclear_bic.Rev',\n",
       " 'File written to disk for: Leache_2009_lizards_nuclear_gene.Rev',\n",
       " 'File written to disk for: Leache_2009_lizards_nuclear_together.Rev',\n",
       " 'File written to disk for: Li_2008_aic.Rev',\n",
       " 'File written to disk for: Li_2008_all_apart.Rev',\n",
       " 'File written to disk for: Li_2008_bic.Rev',\n",
       " 'File written to disk for: Li_2008_gene.Rev',\n",
       " 'File written to disk for: Li_2008_together.Rev',\n",
       " 'File written to disk for: Magallon_2010_angiosperms_aic.Rev',\n",
       " 'File written to disk for: Magallon_2010_angiosperms_all_apart.Rev',\n",
       " 'File written to disk for: Magallon_2010_angiosperms_bic.Rev',\n",
       " 'File written to disk for: Magallon_2010_angiosperms_gene.Rev',\n",
       " 'File written to disk for: Magallon_2010_angiosperms_together.Rev',\n",
       " 'File written to disk for: Martinkova_2012_rodents_aic.Rev',\n",
       " 'File written to disk for: Martinkova_2012_rodents_all_apart.Rev',\n",
       " 'File written to disk for: Martinkova_2012_rodents_bic.Rev',\n",
       " 'File written to disk for: Martinkova_2012_rodents_gene.Rev',\n",
       " 'File written to disk for: Martinkova_2012_rodents_together.Rev',\n",
       " 'File written to disk for: Matheny_2009_fungus_aic.Rev',\n",
       " 'File written to disk for: Matheny_2009_fungus_all_apart.Rev',\n",
       " 'File written to disk for: Matheny_2009_fungus_bic.Rev',\n",
       " 'File written to disk for: Matheny_2009_fungus_gene.Rev',\n",
       " 'File written to disk for: Matheny_2009_fungus_together.Rev',\n",
       " 'File written to disk for: Murienne_2010_arachnids_aic.Rev',\n",
       " 'File written to disk for: Murienne_2010_arachnids_all_apart.Rev',\n",
       " 'File written to disk for: Murienne_2010_arachnids_bic.Rev',\n",
       " 'File written to disk for: Murienne_2010_arachnids_gene.Rev',\n",
       " 'File written to disk for: Murienne_2010_arachnids_together.Rev',\n",
       " 'File written to disk for: Price_2014_ants_aic.Rev',\n",
       " 'File written to disk for: Price_2014_ants_all_apart.Rev',\n",
       " 'File written to disk for: Price_2014_ants_bic.Rev',\n",
       " 'File written to disk for: Price_2014_ants_gene.Rev',\n",
       " 'File written to disk for: Price_2014_ants_together.Rev',\n",
       " 'File written to disk for: RIGHTMYER_2013_aic.Rev',\n",
       " 'File written to disk for: RIGHTMYER_2013_all_apart.Rev',\n",
       " 'File written to disk for: RIGHTMYER_2013_bic.Rev',\n",
       " 'File written to disk for: RIGHTMYER_2013_gene.Rev',\n",
       " 'File written to disk for: RIGHTMYER_2013_together.Rev',\n",
       " 'File written to disk for: Ronquist_2012_hymenoptera_aic.Rev',\n",
       " 'File written to disk for: Ronquist_2012_hymenoptera_all_apart.Rev',\n",
       " 'File written to disk for: Ronquist_2012_hymenoptera_bic.Rev',\n",
       " 'File written to disk for: Ronquist_2012_hymenoptera_gene.Rev',\n",
       " 'File written to disk for: Ronquist_2012_hymenoptera_together.Rev',\n",
       " 'File written to disk for: Rota_2011_moths_aic.Rev',\n",
       " 'File written to disk for: Rota_2011_moths_all_apart.Rev',\n",
       " 'File written to disk for: Rota_2011_moths_bic.Rev',\n",
       " 'File written to disk for: Rota_2011_moths_gene.Rev',\n",
       " 'File written to disk for: Rota_2011_moths_together.Rev',\n",
       " 'File written to disk for: Ryberg_2011_fungus_aic.Rev',\n",
       " 'File written to disk for: Ryberg_2011_fungus_all_apart.Rev',\n",
       " 'File written to disk for: Ryberg_2011_fungus_bic.Rev',\n",
       " 'File written to disk for: Ryberg_2011_fungus_gene.Rev',\n",
       " 'File written to disk for: Ryberg_2011_fungus_together.Rev',\n",
       " 'File written to disk for: S10012_aic.Rev',\n",
       " 'File written to disk for: S10012_all_apart.Rev',\n",
       " 'File written to disk for: S10012_bic.Rev',\n",
       " 'File written to disk for: S10012_gene.Rev',\n",
       " 'File written to disk for: S10012_together.Rev',\n",
       " 'File written to disk for: S10163_aic.Rev',\n",
       " 'File written to disk for: S10163_all_apart.Rev',\n",
       " 'File written to disk for: S10163_bic.Rev',\n",
       " 'File written to disk for: S10163_gene.Rev',\n",
       " 'File written to disk for: S10163_together.Rev',\n",
       " 'File written to disk for: S10620_aic.Rev',\n",
       " 'File written to disk for: S10620_all_apart.Rev',\n",
       " 'File written to disk for: S10620_bic.Rev',\n",
       " 'File written to disk for: S10620_gene.Rev',\n",
       " 'File written to disk for: S10620_together.Rev',\n",
       " 'File written to disk for: S1070_aic.Rev',\n",
       " 'File written to disk for: S1070_all_apart.Rev',\n",
       " 'File written to disk for: S1070_bic.Rev',\n",
       " 'File written to disk for: S1070_gene.Rev',\n",
       " 'File written to disk for: S1070_together.Rev',\n",
       " 'File written to disk for: S1115_aic.Rev',\n",
       " 'File written to disk for: S1115_all_apart.Rev',\n",
       " 'File written to disk for: S1115_bic.Rev',\n",
       " 'File written to disk for: S1115_gene.Rev',\n",
       " 'File written to disk for: S1115_together.Rev',\n",
       " 'File written to disk for: S11291_aic.Rev',\n",
       " 'File written to disk for: S11291_all_apart.Rev',\n",
       " 'File written to disk for: S11291_bic.Rev',\n",
       " 'File written to disk for: S11291_gene.Rev',\n",
       " 'File written to disk for: S11291_together.Rev',\n",
       " 'File written to disk for: S1137_aic.Rev',\n",
       " 'File written to disk for: S1137_all_apart.Rev',\n",
       " 'File written to disk for: S1137_bic.Rev',\n",
       " 'File written to disk for: S1137_gene.Rev',\n",
       " 'File written to disk for: S1137_together.Rev',\n",
       " 'File written to disk for: S11410_aic.Rev',\n",
       " 'File written to disk for: S11410_all_apart.Rev',\n",
       " 'File written to disk for: S11410_bic.Rev',\n",
       " 'File written to disk for: S11410_gene.Rev',\n",
       " 'File written to disk for: S11410_together.Rev',\n",
       " 'File written to disk for: S11849_aic.Rev',\n",
       " 'File written to disk for: S11849_all_apart.Rev',\n",
       " 'File written to disk for: S11849_bic.Rev',\n",
       " 'File written to disk for: S11849_gene.Rev',\n",
       " 'File written to disk for: S11849_together.Rev',\n",
       " 'File written to disk for: S12213_aic.Rev',\n",
       " 'File written to disk for: S12213_all_apart.Rev',\n",
       " 'File written to disk for: S12213_bic.Rev',\n",
       " 'File written to disk for: S12213_gene.Rev',\n",
       " 'File written to disk for: S12213_together.Rev',\n",
       " 'File written to disk for: S12836_aic.Rev',\n",
       " 'File written to disk for: S12836_all_apart.Rev',\n",
       " 'File written to disk for: S12836_bic.Rev',\n",
       " 'File written to disk for: S12836_gene.Rev',\n",
       " 'File written to disk for: S12836_together.Rev',\n",
       " 'File written to disk for: S1349_aic.Rev',\n",
       " 'File written to disk for: S1349_all_apart.Rev',\n",
       " 'File written to disk for: S1349_bic.Rev',\n",
       " 'File written to disk for: S1349_gene.Rev',\n",
       " 'File written to disk for: S1349_together.Rev',\n",
       " 'File written to disk for: S13927_aic.Rev',\n",
       " 'File written to disk for: S13927_all_apart.Rev',\n",
       " 'File written to disk for: S13927_bic.Rev',\n",
       " 'File written to disk for: S13927_gene.Rev',\n",
       " 'File written to disk for: S13927_together.Rev',\n",
       " 'File written to disk for: S1572_aic.Rev',\n",
       " 'File written to disk for: S1572_all_apart.Rev',\n",
       " 'File written to disk for: S1572_bic.Rev',\n",
       " 'File written to disk for: S1572_gene.Rev',\n",
       " 'File written to disk for: S1572_together.Rev',\n",
       " 'File written to disk for: S1802_aic.Rev',\n",
       " 'File written to disk for: S1802_all_apart.Rev',\n",
       " 'File written to disk for: S1802_bic.Rev',\n",
       " 'File written to disk for: S1802_gene.Rev',\n",
       " 'File written to disk for: S1802_together.Rev',\n",
       " 'File written to disk for: S1987_aic.Rev',\n",
       " 'File written to disk for: S1987_all_apart.Rev',\n",
       " 'File written to disk for: S1987_bic.Rev',\n",
       " 'File written to disk for: S1987_gene.Rev',\n",
       " 'File written to disk for: S1987_together.Rev',\n",
       " 'File written to disk for: S2061_aic.Rev',\n",
       " 'File written to disk for: S2061_all_apart.Rev',\n",
       " 'File written to disk for: S2061_bic.Rev',\n",
       " 'File written to disk for: S2061_gene.Rev',\n",
       " 'File written to disk for: S2061_together.Rev',\n",
       " 'File written to disk for: SEAGO_2011_aic.Rev',\n",
       " 'File written to disk for: SEAGO_2011_all_apart.Rev',\n",
       " 'File written to disk for: SEAGO_2011_bic.Rev',\n",
       " 'File written to disk for: SEAGO_2011_gene.Rev',\n",
       " 'File written to disk for: SEAGO_2011_together.Rev',\n",
       " 'File written to disk for: Voss_2008_marsupials_aic.Rev',\n",
       " 'File written to disk for: Voss_2008_marsupials_all_apart.Rev',\n",
       " 'File written to disk for: Voss_2008_marsupials_bic.Rev',\n",
       " 'File written to disk for: Voss_2008_marsupials_gene.Rev',\n",
       " 'File written to disk for: Voss_2008_marsupials_together.Rev']"
      ]
     },
     "execution_count": 20,
     "metadata": {},
     "output_type": "execute_result"
    }
   ],
   "source": [
    "[main(x, True) for x in one_list_of_paths]"
   ]
  },
  {
   "cell_type": "markdown",
   "metadata": {},
   "source": [
    "Voila."
   ]
  }
 ],
 "metadata": {
  "kernelspec": {
   "display_name": "Python 3",
   "language": "python",
   "name": "python3"
  },
  "language_info": {
   "codemirror_mode": {
    "name": "ipython",
    "version": 3
   },
   "file_extension": ".py",
   "mimetype": "text/x-python",
   "name": "python",
   "nbconvert_exporter": "python",
   "pygments_lexer": "ipython3",
   "version": "3.6.2"
  }
 },
 "nbformat": 4,
 "nbformat_minor": 2
}
