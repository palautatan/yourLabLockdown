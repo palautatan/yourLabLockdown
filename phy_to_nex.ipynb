{
 "cells": [
  {
   "cell_type": "markdown",
   "metadata": {},
   "source": [
    "# phylip to nexus\n",
    "### This was run on Brown_2012 and Li_2008 to get their Rev scripts to run\n",
    "For an unknown reason, the .phy subet files for Brown and Li were not recognized by RevBayes, so I tried to see if their .nex equivalents would be recognized. In fact, they were, so I made this script to automate the creation of .nex files from .phy files.\n",
    "\n",
    "# Contents\n",
    "<ol>\n",
    "<li><a href=\"#The-Function\">The Function</a>: The end product of this Jupyter notebook</li>\n",
    "<li><a href=\"#Apply-to-Brown\">Application to Datasets</a>: Using the function on Brown and Li</li>\n",
    "<li><a href=\"#Derivation\">Derivation</a>: How I created the function; not the most readable</li>\n",
    "</ol>\n",
    "\n",
    "First, we're loading in my favoite bCU functions."
   ]
  },
  {
   "cell_type": "code",
   "execution_count": 139,
   "metadata": {
    "collapsed": true
   },
   "outputs": [],
   "source": [
    "# REQUIREMENTS\n",
    "from os import listdir\n",
    "\n",
    "# LISTDIR_NH FUNCTION\n",
    "def listdir_nh(path):\n",
    "    '''\n",
    "    Input: Path of directory (string)\n",
    "    Output: Non-hidden files within given directory (list of strings)\n",
    "    '''\n",
    "    files = listdir(path)\n",
    "    parsed = [file for file in files if not file.startswith(\".\")]\n",
    "    return parsed"
   ]
  },
  {
   "cell_type": "markdown",
   "metadata": {},
   "source": [
    "# The Function\n",
    "This function collects the data in the first line of the .phy file, then puts it into the format of .nex files."
   ]
  },
  {
   "cell_type": "code",
   "execution_count": 151,
   "metadata": {
    "collapsed": true
   },
   "outputs": [],
   "source": [
    "# MAIN FUNCTION\n",
    "def phy_to_nex(phy, display=True):\n",
    "    # READ IN DATA\n",
    "    with open (phy, \"r\") as this_file:\n",
    "        data = this_file.read()\n",
    "    \n",
    "    # GET INFO FROM PHY\n",
    "    taxa, nchar = data.split(\"\\n\")[0].split(\" \")\n",
    "    split_up = data.split(\"\\n\")\n",
    "    matrix = \"\\n\".join(split_up[1:])\n",
    "    \n",
    "    # REFORMAT TO NEX\n",
    "    intro = \"#NEXUS\\n\\nBEGIN DATA;\\n\"\n",
    "    dimensions = \"\\tDIMENSIONS NTAX=\"+taxa+\" NCHAR=\"+nchar+\";\\n\"\n",
    "    end_intro = \"\\tFORMAT DATATYPE=DNA MISSING=? GAP=-;\\nMATRIX\\n\"\n",
    "    end = \"\\n;\\nEND;\"\n",
    "    full_nex = intro+dimensions+end_intro+matrix+end\n",
    "    \n",
    "    # NEW FILE NAME\n",
    "    new_nex = phy.split(\".\")[0] + \".nex\"\n",
    "    \n",
    "    # RETURN NEW NEXUS\n",
    "    if display:\n",
    "        return(full_nex)\n",
    "    else:\n",
    "        f = open(new_nex, \"w\")\n",
    "        f.write(full_nex)\n",
    "        f.close()\n",
    "        return(\"File written to disk for: \"+new_nex)"
   ]
  },
  {
   "cell_type": "code",
   "execution_count": 152,
   "metadata": {},
   "outputs": [
    {
     "name": "stdout",
     "output_type": "stream",
     "text": [
      "#NEXUS\n",
      "\n",
      "BEGIN DATA;\n",
      "\tDIMENSIONS NTAX=38 NCHAR=337;\n",
      "\tFORMAT DATATYPE=DNA MISSING=? GAP=-;\n",
      "MATRIX\n",
      "Cyrtodactylus.annulatus.KU314944            aacaaaagaaataactccgttgcgcaataaccgaaatccccgggggaatttacgaggagactgaaaagtcagctaaacg-acaaaccaaagaacacgggcgtattccgccgaaaaagttatatcatgcctcctaataccacaaacccgcatacaggtggcacacacaacgtttagcagtcaagcacacacaacaacatacaaagatacc-gaagaaaagagactcctcagcaaaaggcatcggccctagtacatcacagcttggctcagacccctaccactttaccgtcaataacccaaaagcatccaaaccacaccaaaatacccccaaaataaat\n",
      "Cyrtodactylus.philippinicus.KU304784        aaccaaacaaataactttgttgcgcaacaaccaaaatccccgagggaattcacgaggaaaccgaaaagtcagctaaaca-acagaccaaggaacatgagcatattccgtcgaaaaagcaatatcacgccacctaacactacgaacctgcctaaaggtggcacacacaaagtttagcagtcaagaatacacgacaatatacaacgatacc--aaaaagagagaatcctcgacaaacaacattggccccagtacatcacagcttagctccgaaccctaccactttaccgtcaacaaccaaaaagtatctaaacgacagcaaagtactccaaaactaaat\n",
      "Gehyra.australis.AMS139934                  aactaaaaaaaaacctcagtcgcgcaacaaccaaaacccccgaggaaattcgcgcgggaattgaaaagtcagctgatttaaaaaaaaa-agaaaacgggcgccttcggacgaacaggccatatcaagcagcctaacaatccacactagcctgccggtggcacacacaaagcttagcagtccagctcacccgacaccataaaatgatatcaaagaaaaagagaattgtctaaacaccacatcggccccagttcaccacagcaaatccccaaacgcgaccactttgcagtaaacaaccaaaaagtatctaacacccacaaacgcaccc-cacaccgrat\n",
      "Gehyra.mutilata.AMB7515                     aactaaaaaaagacctccgtagcgtaacaaccaaaacccccggggaaattcgcacggaaactgaaaagtcagcttaaatcctaaagaagagaacacgcacaccttcggtcggacaagccatatcaagcctcccaacagcccccctcggcttgcaggtggtacacacaaagtttagcagtaaggcaaaccaaacacaatagaagaatttcagtaaaaaaccgaataatcaaagcaccgccttagcccctgtacaccacagcaaagccccaaccacgaccactttaccgtaaacaaccaaaaagcatctaaataaaaacaaaaaccctccatgctaaat\n",
      "Gekko.athymus.RMB3118                       -------aaaatatctcagtggcgtcaaaatcaaaatccccgagggaattcacaaggaccctgaaaagtctgcttaccggtccaaacaaagataacgtgcacgttcggccgtaaaagaaggatcacgccacctcaacgtcaaaacgcgtctgcgggtagcacacacaaagtttatcagttaagtatgtaaaaaatactaataaaataatagaaaaaccgcaa?ttctcctgaaaaatcatcggccctagtgcatcataactcaatg?cgaccgtgaccactttacaatcaacaaccaaaaactatccaaccctctaaaagataaccccaccacaa-t\n",
      "Gekko.auriverrucosus.ZK3                    aacaaaaaaaataccttcgttgtgcaacaaccaaaatccccgagggaattcacgagggaattgaacagtcagcttaacatacgaaaaaa-gaacacgcgcccgttcggtcgtaaaagcaatatcacgctatccca-aaacaaaaccagcatgcgggtagtacacacaaagcttagcagtcgagcatgcccaaaaaaataaaaaaatgtcaaaaaaacggagaatgctcccaaaaaaacatcggccccagtacatcacagctcaaccccaaacgagaccattttaccgttaacaaccaaaaaccatctaaccgggcaaaaagaacccccacaaaa--t\n",
      "Gekko.badenii.JB13                          agtaaaaaaaataacttagtagcgcaataatcaaaacccccaaggaaatttacatgggagctggacattcagctaaaaaaactgagaaaagcacatgcgcacgttcggccgtaaaagtaatatcaagccacctcaaaatcaaaacgagactgtaggtagcacacacaaagcttagcagtcaagctaaccgtaagtaataaaagcatatcaaaaaaacagcgagtactcacaaaaaaatatcggccctagtgcattacaactcaactacaaaagagaccactttacagtcaacaaccaaaaaccatctaaagctgcacaaaagccccccaaac-aa-t\n",
      "Gekko.chinensis.China.LG4210                tacgaaaaaaatatctcagtcgcgaaacaatccaaacccccgaggaaattaacgagggtactgaaaagtcagcttaacatcca-agaagagctcacgcgcacgttcggccgtaaaagaaatatcatgcagcctaaagtacaaggcaagtttgcgggcagcacacacaaagtttagcagtaaaacaaacataacaaaataaaaagataacacaaaaacagagaatttactcaaaaaaacatcggtcccagtacattatagctcaacctcaaacgcaaccactttacagttatcaggcaaaaaccatctaaccacccttaaaaaacccccacaa----t\n",
      "Gekko.crombota.BabuynCl.RMB5946             aacaaaaaaaggaccttcgtcgcgcaaaagccaaaatccccgagggaattcacacgggcattgaaaagtcagcttaacaaacaaaaagaagtcaacgcgcacgttcggccgtacaagaaatatcacgcttccttaaaaccaaaacacgcatgcgggtggcacacacaaagtttagcagtcaaacatataaaacacgataaaaaactaaaaaaaaaacagcgaattctcccaaaaacacagtggccccagtgcatcacgactcaaccccaaatgaggccactttacagttaacaaccaaagaccatctaaaacagcagaaattaccccccccaaaa-t\n",
      "Gekko.gecko.CAS204952                       agctagaaaaatatcttcgtcgcgcaacaaccaatatccccgagggaattcacgagggaaaggaatagtcagcttaaaagaagagaaaatgcttatgggcacgttcgaccgtataagaataatcatgcaacctaaacccccccacgagcctgtaggttgcacacacaaagtttagcagtcaagcctacacaaaattataaaataatagtaaaaaaacagagcgttctctcaaagaataatcggccccagtacattacagctcaacaccagccgggatcactttacagttagcaaccaaaaactatctacatatgcaaagaaataccacaccaaaa-t\n",
      "Gekko.grossmani.JFBM9                       agtaaaaaaaataacttagtggcgcaaaaaccaaacaccccgagggaattcacaaggaaactgaaaagttagcwtaaaaagaagggaaaagcaaatgtgcacgtttggccgtaaaagagagatcaagccttctaaaaacaacaacgagtctaagggtggcacacacaaagattgtcagtcaagtaaacaagatgaaattaaaaaataaagaaaaaacagcgagtacgcaaaaaaaaacataggcccatgtgcatcaaaactcagtaacgagagcgaccactttacaatcaacaaccaaaaaccatcaagttcaaaaaaaaaaaaatcaacacaa--t\n",
      "Gekko.hokouensis.HOFH89053103               ----------atacctcagtcgcgcaacaaccaaaatccccgagggaattcacgagggcattgaacagtcagattaacatcca-aaaaaagaacacgcgctcgttcggtcgtaaaagcaatatcacgccacctcaaaccctaaactagtatgcaggtggtacacacaaagcttggcagttacacacgcccaaaaaaataaaaagatcgcagagaaatagagaattctcccaaaaagaccttggccccggtacattataactaaaccctacaagcgaccattttgccgttagcaaccaaaaactatctaacaatgcgcaaaaaactcccacaaaa--t\n",
      "Gekko.japonicus.HOFH10061402                aacgaaaaaaatacctctgtggcgtaataaccgaaatccccgagggaattcacgggggtaccgaacagtcagcttaacatgca-aaaaatgatcacgagcacgttcggtcgtaaaagcaatatcacgccacttcaaaaccaaatccaggatgtgggtagtacacacaaagtttagcagttaaacacacccaaaaaaataaaaagatattaaaaaaaaagagagtactcccaaaaaaacatcggccccagtacatcacaactcaatctcaaacgagaccactttaccgttaacaaccaaaaaccatctacccaggcacgatcggcccccacaaat--t\n",
      "Gekko.mindorensis.CDS1229                   aacgaaaaaaatatctttgtagtgcaaaaatcaaaatccccgaggaaattcacaaggacattgaatagtcagctaatcatacagaaaaaagacaacgcgcacgttcggtcgtacaagaaatatcacgccgcttaaaaatcaagacatgtatgcaggtagcacacacaaagtttagcagttaaatatataaaaagccgtaaaaaaataataaaaaaacagcgaattctcccaaaaaaacatcagccccagtgcattacgactcaaccttaaacgagatcactttacagttagcaaccaaaaaccatctagccccacaaaaactacctcccctaaaa-t\n",
      "Gekko.monarchus.Palawan.ACD1278             aaagaaaaaaatatcttagtcgtgcaaaaaccaaaattcccgaggaaattcacaaggacactgaacagtcagctaaccatgcagaacaaagataacgtgcacgttcggtcgtataagaaatatcacgctgcttaaaaaccaaaacacgtatgcgggtagcacacacaaagtttagcagtcaaacatataaaaaactataaaaaaataataaaaaaacagcgaattctcccaaaaaaacatcggccctagtgcattacaactcaacactaaacgagaccactttacaattaacaaccaaaaaccatctaaccccacaactactacttcccccaaa--t\n",
      "Gekko.petricolis.JB70                       tacgaaaaaaataactcagtggcgcaacaaccaaaacccccgagggaattcacgagggtactgaaaagtcagcttaaaaaacagaaaaaggctcacgtgcacgttcggccgtataagaaatatcacgctacctaaagatcaaaccccggctgcgggtggtacacacaaagcttagcagttaagcaaacaaaaagcagtaataatatatcaactgagtagaaatttttcacaaaaaaatattggccccagtgcattaaaccaaaatgtaaaacgcgaccactttgccgtcaacaaccaaaaaacatctaaacaccattctataatccccacaacaa-t\n",
      "Gekko.romblon.Tablas.RMB8789                aacgaaaaaaataccttagtcgcgtaacaaccaaaatccccggggaaattcacgagggcattgaaaagtcagctaaccatgca-aaaaaagacaacgcgcacgttcggtcgtataagaaatatcacgccacctcaaaaccaaaatacgtgtacgggtagcacacacaaagtttagcagtcaaatacataaaaaacaataaaaaaataatagaaaaacaatgaattctcccaaaaagacatcggccccagtgcatcataactcaacactaagcgagaccactttacagttaacagccaaaaaccatctaaccccgcaaaaattgcctcccccaaaa-t\n",
      "Gekko.smithii.Wmalaysia.LG6095              aactagaaaaatatcttagtcgcgcaacaatcaatacccccgagggaattcacgagggcaatgaacagtcagcttaaaaaaaagaaaaatgtttacgagcacgttcgatcgtactagaaaaatcacgcagcctaacaccccccacaagcctacgggttgcacacacaaagtttagcagtcaaacccacacaaaactataaaataatcacagaaaaacagagaattctcccaaaaaatcatcggccccagtacattacagctcaccactaagcgggatcactttacagttagcaaccaaaaactatctatacacgcaaaaaaataccacaccaaaa-t\n",
      "Gekko.subpalmatus.AMB5567                   aacgaaaaaaatacctcagtagcgtaacaaccaaaatccccgaggaaattcgcgagggaattgaacagtcagattaacatc-caaaaaaagaacatgcgcccgttcggccggaaaagcaatatcacgccattttaaaacccaaaccagtatgcaggtcgtacacacaaagtttagcagttaaatacatccaacaaaataaaaagatatcaaaaaaacagagaattctcccaaaaaaacattggccccagtacattataactgaatcctgagtgagaccactttactgttaacagccaaaaactatctaaccacgcacaaaaaatccccacaa-aa-t\n",
      "Gekko.swinhonis.ZK5                         aacgaaaaaaatacctctgtcgtgtaacaacccaaatccccgagggaatttacgagggtattgaatagtcagcttaacatc-caaaaagcgaacacgcgcacgttcggccgtaaaagcaatatcaagccaccttaaaatcaaaactcgtatgcgggtagcacacacaaagtttagcagttaagtacacccaaaaaaataaaaagatatcaaagaaacag?gagttctctcgaaaaaacatcggccccagtacattataatttaaccccaaacgagaccactttaccgttaacaacccaaaactatctaaccaaaagcaaaagactcctgcaaaa--t\n",
      "Gekko.vittatus.USNM533255                   agcgaaagaaataactgcgtcgtgcaacaaccaaaacccccgaggaaattcacgagggtactgaaaagtcagcttaaaaacctaaaa-aagcacacgtacacgttcggccgtaaaagcaatatcaagctactttacaaccaaaatatgcatgcaggtagcacacacaaagtttagcagttaagcaaacaatacaccatagtaaaatatcattaaaacagggagttctcaaaaaaaaacattggccctagtacatcacaatttaactaaaaaagcgatcattttgcaatcaacaaccaaaaaccatctaaaaacacccagaatatacccactaaaa-t\n",
      "Hemidactylus.bowringii.EU268373             -------------actccgtcgcgcaaaaaccaaaatacccgaggaaattagcgagggtactgaaaagtcagcttaacaataataacaaagcgcacgcgcgcattcggccgttatagctatatcatgcctcctaccaaaccgcacaagttttaaggtggcacacacaaagcttggcagtccggtaaactcgacaacatctaaaaataatgcaaaaaaagagaatcatcgcaaaaaaacctcggccccggttcatcatagctcaatagagaaatcaaccacgttaccgtcaacaaccaaagaatatctcacctcacactgatatcgtccgcactaaat\n",
      "Lepidodactylus.herrei.RMB4330               agctagaaaaatacctccgtcgcgtaacaacccaaatccccgaggaaattcgcgagggcactgagcggtaagcttatcacacacaagaacgaacacgcgcacgttcggccgtaaaagcaatatcatgccacctaaaacccaaatcccgaatgcaggttgcacacacaaagtttagcagtcgagaacacatggaacaatcaaaaaataataaagaaacagagagtactctcgtgggcacatcggccccagtacatcacagcttaatactgaacgggaccactttacaatcaacaaccaaaaagcatctaattctccgcaaacgaccccaactg-aa-t\n",
      "Lepidodactylus.moestus.USNM521730           agctcgaaaaatacctccgttgcgcaacaaccaaaacacccgagggaattcacgagggcacttagaggtaagcttatcacacacaagaacgagcacgcgcacgttcggccgtaccagcaatatcacgctacctaaaacctaaaacccgaatgcaggttgcacacacaaagtttagcagtcaagagtacatgggacgataaaaggataacaaaaaaacagagaatactcccattaacacatcggccccagtacatcatagcttaatgtcggacgggaccactttacaatcaacaaccaaaaagcatctaaccaaccgaggatgacctcaact-taa-t\n",
      "Luperosaurus.Palawan.ELR1579                -------------------------------------------------------------------------------------------------------------------------------------------------------------------------------------------------------------------------------------------------------------------------------------------------------------------------------------------------\n",
      "Luperosaurus.angliit.ASCOT.ACD3678          agcgaaaaaaatacctacgtcgcgcaacaatcaaaatgccctaggaaattcacgggggcacttagaagtgagctaaacactcaagaaaaagcaaacgcgcgcgttcggccagaaaagcgctatcacgccacctcaagatcacaaccagtatgttggtagcacacacaaagtttagcagtcaggcacacacgcaagaatagaaaaatattaaaaaaaaagtgagtactcctaactgttcatcggccctagtgcatcacaactaaacacaaatcgcgaccactttacaataaacctccaaaaaatatcccaaaaaacccaaacagcccccacccca--t\n",
      "Luperosaurus.cumingii.Bicol.RMB3546         agcgaaaaaaatacctacgttgcgcaacagtcaaaatacccgaggaaattcacgagggcacttaaaagtgagctaaacactcaggaaaaagcaaacgcgcgcgttcggtcagaaaagtgctatcacgccacctcaaaaccacaacaagtatgccggtagtacacacaaagtttagcagttaagagcacatgcaaaaatgaaaaaatattaaaaaaacagcgaatactcttaaccattcatcggccccagtacattacaatttaacgcaaagcgtggccactttacaataaaccaccaaaaaatatcccaaaaaatccaaataacccccacccca--t\n",
      "Luperosaurus.iskandari.RMB1653              aacgaaaaaaataccttcgtagcgcaataaccaaagcccccgaggaaattaacgcggacattgagaagtcagcttaaaaaacgaaaaaa-gaatatgtgcacgttcggccgttaaagcaatatcaagccatctcaaaaccaatccccgcttaatggtggcacacacaaagtttggcagtcaggcaaacaataaacaataaaaagatatcaatagaacggcgagttctcgtagaaaaatatcggccccagtacatcaaaactaaattaaacaagagaccac---------------------------------------------------------\n",
      "Luperosaurus.joloensis.Mindanao.RMB9416     agctaaaaagatacctccgtcgcgtaacaaccaaaatacccgagggaattaacgcgggccctgaaaagtcagctcatcaaaccaaagaacacacacgcgcacgttcggccgaacaagtaatatcatgccacttcaaacccaaaacaaggctgccggtagcacacgcaaagtttagcagtcaagagtacacgcaacaataaaaggatctcaaaaaaacagcgaatacactcaacagcacatcggccccagtacatcacagtttaacgcaaaacgcgaccactttacaatcaacaaccaaaaagtatctcacaacaacctaacagtccccacacga--t\n",
      "Luperosaurus.macgregori.Batanes.RMB9042     agcgaaaaaaatacctacgttgcgcaacaatcaaaatgccctaggaaattcacgggggcacttagaagtgagctaaacactcaggaaaaagtaaacgcgcgcgttcggccagaaaagcgctatcacgccacctcaaaatcacaacaagtatactggtagcacacacaaagtttagcagtcgggcacacacgcaagaataaaaaaatatcgaaaaaaaagcgagtactcttaaccgctcatcggccccagtgcattacaactaaacacaaatcgcgaccactttacaataaacctccaaaaaatatcccaaaaaactcaaactgtccccacccca--t\n",
      "Luperosaurus.sp.ACD6021                     agcgaaaaaaatacctacgtcgcgcaacaatcaaaatgccctaggaaattcacgggggcacttagaagtgagctaaacactcagtaaaaagcaaacgcgcgcgttcggccagaaaagcgctatcacgccacctcaaaatcacaacgagtatgtcggtagcacacacaaagtttagcagtcgggcatacacgcaaaaataaaaaaatattgaaaaaaaagtgaatactcctaaccgttcatcggccccagtgcattacgactaaacacaaatcgcgaccactttacaataaacctccaaaaaatatcccaaaaaacccaaactgcccccacccca--t\n",
      "Lygodactylus.bradfieldi.EU423279            aaccaaaaagctacctatgtcgcgcaacaaacaaaaaccccgagggaattcacgggggcatcggacaatcagctacata-ctaaaaaaaagtatacgtgcgctttcggccgtaacagcaatatcaagctgactaatctataaaca-ggtatgcaggtagcacacccaccgtttagcagtcaggcacacacgaaatactacaaagatcatacagaaagcgcaagaaatcacgaacactgctcggccccagttcatcacagcgccacaccgactctcgtcgctttccaatcgacaaccaataagcatctacacttgtacaaccgaccccagcgaaaact\n",
      "Phelsuma.serraticauda.EU423296              aactaaaacactacctccgtagcgcaacaatcaaaacccccgaggaaattcacgagggtaattaatagtaagctaaaaa-tcacaaatatgaacacgcgcactttcggccgtaacagaaatatcaagccgcttcagaaataccactggtttacaggtggcaaacacaaagtttagcagttaaaactacacgacataatatcattattctattaaaatagcacgcccccacaaaaaaacattggccccagtacactacaacaaaataacgactgcgaccatttttcaatatacatccaaaatctatccacacaaaatctattgaacccagcctcaat-\n",
      "Pseudogekko.compressicorpus.CDS5000         agctaaaaagatacctccgtagcgcaacagtccaaatgcccgagtaaattcacgaggacattagaaagtgagcttaaatctctaaaaatcgaacacgcgcgcgttcggtcgtaaaagcaatatcaagctacctcaaacccaaacccagtatgcaggtggcacacacaaagtttagcagtccggagcacacgatgctatataaagatttcaaaaaaacagtgaatactcacaacaacacttcggccccagttcatcaccgcttaatgctgagcgagatcactttgcaatcaacaaccaaaaagcatctaataccatccacacaacctcatcatata-t\n",
      "Pseudogekko.smaragdinus.CDS1050             aactaaaaagatacctccgtagcgcaacaacccaaatgcccgagtgaattcacgagggcgctggaaagtgagctcaggctaccagaaattgaacacgcgcacgttcggccgtataagcaatatcacgctacctcaaacccaaacccgacatacaggtagcacacacaatgtttagcagtccggaacacacgataccataaaaaaatagcaaaaaaacagtgaatactcgcagcaacacttcggccccagttcatcatcgcttaacgctgaacgcgaccactttacaatcagcaaccaaaaagcatctaacagccccgaaacagccccagcacata-t\n",
      "Ptychozoon.khuli.Tioman.4679                aactaaacaaatacctctgtcgtgtaacaaccaaaacccccgagggaattcacgggggcatttaatagtcagcttaaaatacggagaaaagaacacgagcacgttcggccggaaaagcattatcatgccaccttaaaaccaacacaaggctacgggtggcacacacaaagattagcagtcaagtaaacgagaaacggtattaaaatattaaaaaaacggcggatcctcgctgaacaacctcggccccagtgcatcataactcaactacagaagagaccattttacaatcgacagccaaaagccatccaatcctgcgcaagaggcccccaccaga--t\n",
      "Ptychozoon.lionotum.Thailand.DSM798M        agctagaacaatacctcagtcgcgtaacaatcaaaacccccgagggaattcgcgagggcattgaaaagtcagctaaaaaaaccgaaaaaagcagacgcgcacgttcggccgtaagagcactatcaagctacctcaaaaccaaaacttggctgaaggtggtacacacaaagtttggcagtcggggaaacgaaaagtaataaaataatagcagtgaaacagcgagttcgcgcaaaacgacatcggcccctgtacatcaatactcaaccccatcagggaccactttacagtcaacaaccaaacaccatccacaactccgcgcaagacccccacaaaa--t\n",
      "Ptychozoon.racophorus.P0500                 aactaaaaaaatacctccgtagcgcaataaccaaaatccccgggggaattcgcgagggcactggaaagtcagcttaaaatgcaaagtaacgggcacgagcacattcggacggaaaagcactatcaagccacctcaac-ccaaacggggcgtgctggtcgcacacacaaagcttagcagtcaagcatacaaaacaccatagaaaaatttcaaaaaaactgtggatttgcacagaaaggcatcggccccagtgcatcatgccgaaactaagggagggaccactttacaataaaccgccaaaaaccatctaccaacgccaaggggacccccaccacat-t\n",
      "\n",
      ";\n",
      "END;\n"
     ]
    }
   ],
   "source": [
    "# EXAMPLE NEW FILE\n",
    "print(phy_to_nex(\"/Users/treehouse3/Edie/step_2_errors/phy_unknown/Brown_2012_phy/ND2_codon_1.phy\"))"
   ]
  },
  {
   "cell_type": "markdown",
   "metadata": {},
   "source": [
    "## Apply to Brown"
   ]
  },
  {
   "cell_type": "code",
   "execution_count": 155,
   "metadata": {},
   "outputs": [
    {
     "data": {
      "text/plain": [
       "['File written to disk for: /Users/treehouse3/Edie/step_2_errors/phy_unknown/Brown_2012_phy/ND2_codon_1.nex',\n",
       " 'File written to disk for: /Users/treehouse3/Edie/step_2_errors/phy_unknown/Brown_2012_phy/ND2_codon_2.nex',\n",
       " 'File written to disk for: /Users/treehouse3/Edie/step_2_errors/phy_unknown/Brown_2012_phy/ND2_codon_3.nex',\n",
       " 'File written to disk for: /Users/treehouse3/Edie/step_2_errors/phy_unknown/Brown_2012_phy/Pho_codon_1.nex',\n",
       " 'File written to disk for: /Users/treehouse3/Edie/step_2_errors/phy_unknown/Brown_2012_phy/Pho_codon_2.nex',\n",
       " 'File written to disk for: /Users/treehouse3/Edie/step_2_errors/phy_unknown/Brown_2012_phy/Pho_codon_3.nex']"
      ]
     },
     "execution_count": 155,
     "metadata": {},
     "output_type": "execute_result"
    }
   ],
   "source": [
    "# brown = \"/Users/treehouse3/Edie/step_2_errors/phy_unknown/Brown_2012_phy/\"\n",
    "# brown_phy_paths = [brown+x for x in listdir_nh(brown)]\n",
    "# [phy_to_nex(x, display=False) for x in brown_phy_paths]"
   ]
  },
  {
   "cell_type": "markdown",
   "metadata": {},
   "source": [
    "## Apply to Li"
   ]
  },
  {
   "cell_type": "code",
   "execution_count": 154,
   "metadata": {},
   "outputs": [
    {
     "data": {
      "text/plain": [
       "['File written to disk for: /Users/treehouse3/Edie/step_2_errors/phy_unknown/Li_2008_phy/ENC1_codon_1.nex',\n",
       " 'File written to disk for: /Users/treehouse3/Edie/step_2_errors/phy_unknown/Li_2008_phy/ENC1_codon_2.nex',\n",
       " 'File written to disk for: /Users/treehouse3/Edie/step_2_errors/phy_unknown/Li_2008_phy/ENC1_codon_3.nex',\n",
       " 'File written to disk for: /Users/treehouse3/Edie/step_2_errors/phy_unknown/Li_2008_phy/Glyt_codon_1.nex',\n",
       " 'File written to disk for: /Users/treehouse3/Edie/step_2_errors/phy_unknown/Li_2008_phy/Glyt_codon_2.nex',\n",
       " 'File written to disk for: /Users/treehouse3/Edie/step_2_errors/phy_unknown/Li_2008_phy/Glyt_codon_3.nex',\n",
       " 'File written to disk for: /Users/treehouse3/Edie/step_2_errors/phy_unknown/Li_2008_phy/myh6_codon_1.nex',\n",
       " 'File written to disk for: /Users/treehouse3/Edie/step_2_errors/phy_unknown/Li_2008_phy/myh6_codon_2.nex',\n",
       " 'File written to disk for: /Users/treehouse3/Edie/step_2_errors/phy_unknown/Li_2008_phy/myh6_codon_3.nex',\n",
       " 'File written to disk for: /Users/treehouse3/Edie/step_2_errors/phy_unknown/Li_2008_phy/plagl2_codon_1.nex',\n",
       " 'File written to disk for: /Users/treehouse3/Edie/step_2_errors/phy_unknown/Li_2008_phy/plagl2_codon_2.nex',\n",
       " 'File written to disk for: /Users/treehouse3/Edie/step_2_errors/phy_unknown/Li_2008_phy/plagl2_codon_3.nex',\n",
       " 'File written to disk for: /Users/treehouse3/Edie/step_2_errors/phy_unknown/Li_2008_phy/ptr_codon_1.nex',\n",
       " 'File written to disk for: /Users/treehouse3/Edie/step_2_errors/phy_unknown/Li_2008_phy/ptr_codon_2.nex',\n",
       " 'File written to disk for: /Users/treehouse3/Edie/step_2_errors/phy_unknown/Li_2008_phy/ptr_codon_3.nex',\n",
       " 'File written to disk for: /Users/treehouse3/Edie/step_2_errors/phy_unknown/Li_2008_phy/RYR3_codon_1.nex',\n",
       " 'File written to disk for: /Users/treehouse3/Edie/step_2_errors/phy_unknown/Li_2008_phy/RYR3_codon_2.nex',\n",
       " 'File written to disk for: /Users/treehouse3/Edie/step_2_errors/phy_unknown/Li_2008_phy/RYR3_codon_3.nex',\n",
       " 'File written to disk for: /Users/treehouse3/Edie/step_2_errors/phy_unknown/Li_2008_phy/SH3PX3_codon_1.nex',\n",
       " 'File written to disk for: /Users/treehouse3/Edie/step_2_errors/phy_unknown/Li_2008_phy/SH3PX3_codon_2.nex',\n",
       " 'File written to disk for: /Users/treehouse3/Edie/step_2_errors/phy_unknown/Li_2008_phy/SH3PX3_codon_3.nex',\n",
       " 'File written to disk for: /Users/treehouse3/Edie/step_2_errors/phy_unknown/Li_2008_phy/sreb2_codon_1.nex',\n",
       " 'File written to disk for: /Users/treehouse3/Edie/step_2_errors/phy_unknown/Li_2008_phy/sreb2_codon_2.nex',\n",
       " 'File written to disk for: /Users/treehouse3/Edie/step_2_errors/phy_unknown/Li_2008_phy/sreb2_codon_3.nex',\n",
       " 'File written to disk for: /Users/treehouse3/Edie/step_2_errors/phy_unknown/Li_2008_phy/tbr1_codon_1.nex',\n",
       " 'File written to disk for: /Users/treehouse3/Edie/step_2_errors/phy_unknown/Li_2008_phy/tbr1_codon_2.nex',\n",
       " 'File written to disk for: /Users/treehouse3/Edie/step_2_errors/phy_unknown/Li_2008_phy/tbr1_codon_3.nex',\n",
       " 'File written to disk for: /Users/treehouse3/Edie/step_2_errors/phy_unknown/Li_2008_phy/zic1_codon_1.nex',\n",
       " 'File written to disk for: /Users/treehouse3/Edie/step_2_errors/phy_unknown/Li_2008_phy/zic1_codon_2.nex',\n",
       " 'File written to disk for: /Users/treehouse3/Edie/step_2_errors/phy_unknown/Li_2008_phy/zic1_codon_3.nex']"
      ]
     },
     "execution_count": 154,
     "metadata": {},
     "output_type": "execute_result"
    }
   ],
   "source": [
    "# li = \"/Users/treehouse3/Edie/step_2_errors/phy_unknown/Li_2008_phy/\"\n",
    "# li_phy_paths = [li+x for x in listdir_nh(li)]\n",
    "# [phy_to_nex(x, display=False) for x in li_phy_paths]"
   ]
  },
  {
   "cell_type": "markdown",
   "metadata": {},
   "source": [
    "# Derivation"
   ]
  },
  {
   "cell_type": "code",
   "execution_count": 8,
   "metadata": {
    "collapsed": true
   },
   "outputs": [],
   "source": [
    "# READ IN THE PHYLIP FILE\n",
    "file = \"/Users/treehouse3/Edie/step_2_errors/data/subsets_no_outgroups/Brown_2012/ND2_codon_1.phy\"\n",
    "with open (file, \"r\") as this_file:\n",
    "    data = this_file.read()"
   ]
  },
  {
   "cell_type": "code",
   "execution_count": 12,
   "metadata": {},
   "outputs": [
    {
     "name": "stdout",
     "output_type": "stream",
     "text": [
      "38 337\n",
      "Cyrtodactylus.annulatus.KU314944            aacaaaagaaataactccgttgcgcaataaccgaaatccccgggggaatttacgaggagactgaaaagtcagctaaacg-acaaaccaaagaacacgggcgtattccgccgaaaaagttatatcatgcctcctaataccacaaacccgcatacaggtggcacacacaacgtttagcagtcaagcacacacaacaacatacaaagatacc-gaagaaaagagactcctcagcaaaaggcatcggccctagtacatcacagcttggctcagacccctaccactttaccgtcaataacccaaaagcatccaaaccacaccaaaatacccccaaaataaat\n",
      "Cyrtodactylus.philippinicus.KU304784        aaccaaacaaataactttgttgcgcaacaaccaaaatccccgagggaattcacgaggaaaccgaaaagtcagctaaaca-acagaccaaggaacatgagcatattccgtcgaaaaagcaatatcacgccacctaacactacgaacctgcctaaaggtggcacacacaaagtttagcagtcaagaatacacgacaatatacaacgatacc--aaaaagagagaatcctcgacaaacaacattggccccagtacatcacagcttagctccgaaccctaccactttaccgtcaacaaccaaaaagtatctaaacgacagcaaagtactccaaaactaaat\n",
      "Gehyra.australis.AMS139934                  aactaaaaaaaaacctcagtcgcgcaacaaccaaaacccccgaggaaattcgcgcgggaattgaaaagtcagctgatttaaaaaaaaa-agaaaacgggcgccttcggacgaacaggccatatcaagcagcctaacaatccacactagcctgccggtggcacacacaaagcttagcagtccagctcacccgacaccataaaatgatatcaaagaaaaagagaattgtctaaacaccacatcggccccagttcaccacagcaaatccccaaacgcgaccactttgcagtaaacaaccaaaaagtatctaacacccacaaacgcaccc-cacaccgrat\n",
      "Gehyra.mutilata.AMB7515                     aactaaaaaaagacctccgtagcgtaacaaccaaaacccccggggaaattcgcacggaaactgaaaagtcagcttaaatcctaaagaagagaacacgcacaccttcggtcggacaagccatatcaagcctcccaacagcccccctcggcttgcaggtggtacacacaaagtttagcagtaaggcaaaccaaacacaatagaagaatttcagtaaaaaaccgaataatcaaagcaccgccttagcccctgtacaccacagcaaagccccaaccacgaccactttaccgtaaacaaccaaaaagcatctaaataaaaacaaaaaccctccatgctaaat\n",
      "Gekko.athymus.RMB3118                       -------aaaatatctcagtggcgtcaaaatcaaaatccccgagggaattcacaaggaccctgaaaagtctgcttaccggtccaaacaaagataacgtgcacgttcggccgtaaaagaaggatcacgccacctcaacgtcaaaacgcgtctgcgggtagcacacacaaagtttatcagttaagtatgtaaaaaatactaataaaataatagaaaaaccgcaa?ttctcctgaaaaatcatcggccctagtgcatcataactcaatg?cgaccgtgaccactttacaatcaacaaccaaaaactatccaaccctctaaaagataaccccaccacaa-t\n",
      "Gekko.auriverrucosus.ZK3                    aacaaaaaaaataccttcgttgtgcaacaaccaaaatccccgagggaattcacgagggaattgaacagtcagcttaacatacgaaaaaa-gaacacgcgcccgttcggtcgtaaaagcaatatcacgctatccca-aaacaaaaccagcatgcgggtagtacacacaaagcttagcagtcgagcatgcccaaaaaaataaaaaaatgtcaaaaaaacggagaatgctcccaaaaaaacatcggccccagtacatcacagctcaaccccaaacgagaccattttaccgttaacaaccaaaaaccatctaaccgggcaaaaagaacccccacaaaa--t\n",
      "Gekko.badenii.JB13                          agtaaaaaaaataacttagtagcgcaataatcaaaacccccaaggaaatttacatgggagctggacattcagctaaaaaaactgagaaaagcacatgcgcacgttcggccgtaaaagtaatatcaagccacctcaaaatcaaaacgagactgtaggtagcacacacaaagcttagcagtcaagctaaccgtaagtaataaaagcatatcaaaaaaacagcgagtactcacaaaaaaatatcggccctagtgcattacaactcaactacaaaagagaccactttacagtcaacaaccaaaaaccatctaaagctgcacaaaagccccccaaac-aa-t\n",
      "Gekko.chinensis.China.LG4210                tacgaaaaaaatatctcagtcgcgaaacaatccaaacccccgaggaaattaacgagggtactgaaaagtcagcttaacatcca-agaagagctcacgcgcacgttcggccgtaaaagaaatatcatgcagcctaaagtacaaggcaagtttgcgggcagcacacacaaagtttagcagtaaaacaaacataacaaaataaaaagataacacaaaaacagagaatttactcaaaaaaacatcggtcccagtacattatagctcaacctcaaacgcaaccactttacagttatcaggcaaaaaccatctaaccacccttaaaaaacccccacaa----t\n",
      "Gekko.crombota.BabuynCl.RMB5946             aacaaaaaaaggaccttcgtcgcgcaaaagccaaaatccccgagggaattcacacgggcattgaaaagtcagcttaacaaacaaaaagaagtcaacgcgcacgttcggccgtacaagaaatatcacgcttccttaaaaccaaaacacgcatgcgggtggcacacacaaagtttagcagtcaaacatataaaacacgataaaaaactaaaaaaaaaacagcgaattctcccaaaaacacagtggccccagtgcatcacgactcaaccccaaatgaggccactttacagttaacaaccaaagaccatctaaaacagcagaaattaccccccccaaaa-t\n",
      "Gekko.gecko.CAS204952                       agctagaaaaatatcttcgtcgcgcaacaaccaatatccccgagggaattcacgagggaaaggaatagtcagcttaaaagaagagaaaatgcttatgggcacgttcgaccgtataagaataatcatgcaacctaaacccccccacgagcctgtaggttgcacacacaaagtttagcagtcaagcctacacaaaattataaaataatagtaaaaaaacagagcgttctctcaaagaataatcggccccagtacattacagctcaacaccagccgggatcactttacagttagcaaccaaaaactatctacatatgcaaagaaataccacaccaaaa-t\n",
      "Gekko.grossmani.JFBM9                       agtaaaaaaaataacttagtggcgcaaaaaccaaacaccccgagggaattcacaaggaaactgaaaagttagcwtaaaaagaagggaaaagcaaatgtgcacgtttggccgtaaaagagagatcaagccttctaaaaacaacaacgagtctaagggtggcacacacaaagattgtcagtcaagtaaacaagatgaaattaaaaaataaagaaaaaacagcgagtacgcaaaaaaaaacataggcccatgtgcatcaaaactcagtaacgagagcgaccactttacaatcaacaaccaaaaaccatcaagttcaaaaaaaaaaaaatcaacacaa--t\n",
      "Gekko.hokouensis.HOFH89053103               ----------atacctcagtcgcgcaacaaccaaaatccccgagggaattcacgagggcattgaacagtcagattaacatcca-aaaaaagaacacgcgctcgttcggtcgtaaaagcaatatcacgccacctcaaaccctaaactagtatgcaggtggtacacacaaagcttggcagttacacacgcccaaaaaaataaaaagatcgcagagaaatagagaattctcccaaaaagaccttggccccggtacattataactaaaccctacaagcgaccattttgccgttagcaaccaaaaactatctaacaatgcgcaaaaaactcccacaaaa--t\n",
      "Gekko.japonicus.HOFH10061402                aacgaaaaaaatacctctgtggcgtaataaccgaaatccccgagggaattcacgggggtaccgaacagtcagcttaacatgca-aaaaatgatcacgagcacgttcggtcgtaaaagcaatatcacgccacttcaaaaccaaatccaggatgtgggtagtacacacaaagtttagcagttaaacacacccaaaaaaataaaaagatattaaaaaaaaagagagtactcccaaaaaaacatcggccccagtacatcacaactcaatctcaaacgagaccactttaccgttaacaaccaaaaaccatctacccaggcacgatcggcccccacaaat--t\n",
      "Gekko.mindorensis.CDS1229                   aacgaaaaaaatatctttgtagtgcaaaaatcaaaatccccgaggaaattcacaaggacattgaatagtcagctaatcatacagaaaaaagacaacgcgcacgttcggtcgtacaagaaatatcacgccgcttaaaaatcaagacatgtatgcaggtagcacacacaaagtttagcagttaaatatataaaaagccgtaaaaaaataataaaaaaacagcgaattctcccaaaaaaacatcagccccagtgcattacgactcaaccttaaacgagatcactttacagttagcaaccaaaaaccatctagccccacaaaaactacctcccctaaaa-t\n",
      "Gekko.monarchus.Palawan.ACD1278             aaagaaaaaaatatcttagtcgtgcaaaaaccaaaattcccgaggaaattcacaaggacactgaacagtcagctaaccatgcagaacaaagataacgtgcacgttcggtcgtataagaaatatcacgctgcttaaaaaccaaaacacgtatgcgggtagcacacacaaagtttagcagtcaaacatataaaaaactataaaaaaataataaaaaaacagcgaattctcccaaaaaaacatcggccctagtgcattacaactcaacactaaacgagaccactttacaattaacaaccaaaaaccatctaaccccacaactactacttcccccaaa--t\n",
      "Gekko.petricolis.JB70                       tacgaaaaaaataactcagtggcgcaacaaccaaaacccccgagggaattcacgagggtactgaaaagtcagcttaaaaaacagaaaaaggctcacgtgcacgttcggccgtataagaaatatcacgctacctaaagatcaaaccccggctgcgggtggtacacacaaagcttagcagttaagcaaacaaaaagcagtaataatatatcaactgagtagaaatttttcacaaaaaaatattggccccagtgcattaaaccaaaatgtaaaacgcgaccactttgccgtcaacaaccaaaaaacatctaaacaccattctataatccccacaacaa-t\n",
      "Gekko.romblon.Tablas.RMB8789                aacgaaaaaaataccttagtcgcgtaacaaccaaaatccccggggaaattcacgagggcattgaaaagtcagctaaccatgca-aaaaaagacaacgcgcacgttcggtcgtataagaaatatcacgccacctcaaaaccaaaatacgtgtacgggtagcacacacaaagtttagcagtcaaatacataaaaaacaataaaaaaataatagaaaaacaatgaattctcccaaaaagacatcggccccagtgcatcataactcaacactaagcgagaccactttacagttaacagccaaaaaccatctaaccccgcaaaaattgcctcccccaaaa-t\n",
      "Gekko.smithii.Wmalaysia.LG6095              aactagaaaaatatcttagtcgcgcaacaatcaatacccccgagggaattcacgagggcaatgaacagtcagcttaaaaaaaagaaaaatgtttacgagcacgttcgatcgtactagaaaaatcacgcagcctaacaccccccacaagcctacgggttgcacacacaaagtttagcagtcaaacccacacaaaactataaaataatcacagaaaaacagagaattctcccaaaaaatcatcggccccagtacattacagctcaccactaagcgggatcactttacagttagcaaccaaaaactatctatacacgcaaaaaaataccacaccaaaa-t\n",
      "Gekko.subpalmatus.AMB5567                   aacgaaaaaaatacctcagtagcgtaacaaccaaaatccccgaggaaattcgcgagggaattgaacagtcagattaacatc-caaaaaaagaacatgcgcccgttcggccggaaaagcaatatcacgccattttaaaacccaaaccagtatgcaggtcgtacacacaaagtttagcagttaaatacatccaacaaaataaaaagatatcaaaaaaacagagaattctcccaaaaaaacattggccccagtacattataactgaatcctgagtgagaccactttactgttaacagccaaaaactatctaaccacgcacaaaaaatccccacaa-aa-t\n",
      "Gekko.swinhonis.ZK5                         aacgaaaaaaatacctctgtcgtgtaacaacccaaatccccgagggaatttacgagggtattgaatagtcagcttaacatc-caaaaagcgaacacgcgcacgttcggccgtaaaagcaatatcaagccaccttaaaatcaaaactcgtatgcgggtagcacacacaaagtttagcagttaagtacacccaaaaaaataaaaagatatcaaagaaacag?gagttctctcgaaaaaacatcggccccagtacattataatttaaccccaaacgagaccactttaccgttaacaacccaaaactatctaaccaaaagcaaaagactcctgcaaaa--t\n",
      "Gekko.vittatus.USNM533255                   agcgaaagaaataactgcgtcgtgcaacaaccaaaacccccgaggaaattcacgagggtactgaaaagtcagcttaaaaacctaaaa-aagcacacgtacacgttcggccgtaaaagcaatatcaagctactttacaaccaaaatatgcatgcaggtagcacacacaaagtttagcagttaagcaaacaatacaccatagtaaaatatcattaaaacagggagttctcaaaaaaaaacattggccctagtacatcacaatttaactaaaaaagcgatcattttgcaatcaacaaccaaaaaccatctaaaaacacccagaatatacccactaaaa-t\n",
      "Hemidactylus.bowringii.EU268373             -------------actccgtcgcgcaaaaaccaaaatacccgaggaaattagcgagggtactgaaaagtcagcttaacaataataacaaagcgcacgcgcgcattcggccgttatagctatatcatgcctcctaccaaaccgcacaagttttaaggtggcacacacaaagcttggcagtccggtaaactcgacaacatctaaaaataatgcaaaaaaagagaatcatcgcaaaaaaacctcggccccggttcatcatagctcaatagagaaatcaaccacgttaccgtcaacaaccaaagaatatctcacctcacactgatatcgtccgcactaaat\n",
      "Lepidodactylus.herrei.RMB4330               agctagaaaaatacctccgtcgcgtaacaacccaaatccccgaggaaattcgcgagggcactgagcggtaagcttatcacacacaagaacgaacacgcgcacgttcggccgtaaaagcaatatcatgccacctaaaacccaaatcccgaatgcaggttgcacacacaaagtttagcagtcgagaacacatggaacaatcaaaaaataataaagaaacagagagtactctcgtgggcacatcggccccagtacatcacagcttaatactgaacgggaccactttacaatcaacaaccaaaaagcatctaattctccgcaaacgaccccaactg-aa-t\n",
      "Lepidodactylus.moestus.USNM521730           agctcgaaaaatacctccgttgcgcaacaaccaaaacacccgagggaattcacgagggcacttagaggtaagcttatcacacacaagaacgagcacgcgcacgttcggccgtaccagcaatatcacgctacctaaaacctaaaacccgaatgcaggttgcacacacaaagtttagcagtcaagagtacatgggacgataaaaggataacaaaaaaacagagaatactcccattaacacatcggccccagtacatcatagcttaatgtcggacgggaccactttacaatcaacaaccaaaaagcatctaaccaaccgaggatgacctcaact-taa-t\n",
      "Luperosaurus.Palawan.ELR1579                -------------------------------------------------------------------------------------------------------------------------------------------------------------------------------------------------------------------------------------------------------------------------------------------------------------------------------------------------\n",
      "Luperosaurus.angliit.ASCOT.ACD3678          agcgaaaaaaatacctacgtcgcgcaacaatcaaaatgccctaggaaattcacgggggcacttagaagtgagctaaacactcaagaaaaagcaaacgcgcgcgttcggccagaaaagcgctatcacgccacctcaagatcacaaccagtatgttggtagcacacacaaagtttagcagtcaggcacacacgcaagaatagaaaaatattaaaaaaaaagtgagtactcctaactgttcatcggccctagtgcatcacaactaaacacaaatcgcgaccactttacaataaacctccaaaaaatatcccaaaaaacccaaacagcccccacccca--t\n",
      "Luperosaurus.cumingii.Bicol.RMB3546         agcgaaaaaaatacctacgttgcgcaacagtcaaaatacccgaggaaattcacgagggcacttaaaagtgagctaaacactcaggaaaaagcaaacgcgcgcgttcggtcagaaaagtgctatcacgccacctcaaaaccacaacaagtatgccggtagtacacacaaagtttagcagttaagagcacatgcaaaaatgaaaaaatattaaaaaaacagcgaatactcttaaccattcatcggccccagtacattacaatttaacgcaaagcgtggccactttacaataaaccaccaaaaaatatcccaaaaaatccaaataacccccacccca--t\n",
      "Luperosaurus.iskandari.RMB1653              aacgaaaaaaataccttcgtagcgcaataaccaaagcccccgaggaaattaacgcggacattgagaagtcagcttaaaaaacgaaaaaa-gaatatgtgcacgttcggccgttaaagcaatatcaagccatctcaaaaccaatccccgcttaatggtggcacacacaaagtttggcagtcaggcaaacaataaacaataaaaagatatcaatagaacggcgagttctcgtagaaaaatatcggccccagtacatcaaaactaaattaaacaagagaccac---------------------------------------------------------\n",
      "Luperosaurus.joloensis.Mindanao.RMB9416     agctaaaaagatacctccgtcgcgtaacaaccaaaatacccgagggaattaacgcgggccctgaaaagtcagctcatcaaaccaaagaacacacacgcgcacgttcggccgaacaagtaatatcatgccacttcaaacccaaaacaaggctgccggtagcacacgcaaagtttagcagtcaagagtacacgcaacaataaaaggatctcaaaaaaacagcgaatacactcaacagcacatcggccccagtacatcacagtttaacgcaaaacgcgaccactttacaatcaacaaccaaaaagtatctcacaacaacctaacagtccccacacga--t\n",
      "Luperosaurus.macgregori.Batanes.RMB9042     agcgaaaaaaatacctacgttgcgcaacaatcaaaatgccctaggaaattcacgggggcacttagaagtgagctaaacactcaggaaaaagtaaacgcgcgcgttcggccagaaaagcgctatcacgccacctcaaaatcacaacaagtatactggtagcacacacaaagtttagcagtcgggcacacacgcaagaataaaaaaatatcgaaaaaaaagcgagtactcttaaccgctcatcggccccagtgcattacaactaaacacaaatcgcgaccactttacaataaacctccaaaaaatatcccaaaaaactcaaactgtccccacccca--t\n",
      "Luperosaurus.sp.ACD6021                     agcgaaaaaaatacctacgtcgcgcaacaatcaaaatgccctaggaaattcacgggggcacttagaagtgagctaaacactcagtaaaaagcaaacgcgcgcgttcggccagaaaagcgctatcacgccacctcaaaatcacaacgagtatgtcggtagcacacacaaagtttagcagtcgggcatacacgcaaaaataaaaaaatattgaaaaaaaagtgaatactcctaaccgttcatcggccccagtgcattacgactaaacacaaatcgcgaccactttacaataaacctccaaaaaatatcccaaaaaacccaaactgcccccacccca--t\n",
      "Lygodactylus.bradfieldi.EU423279            aaccaaaaagctacctatgtcgcgcaacaaacaaaaaccccgagggaattcacgggggcatcggacaatcagctacata-ctaaaaaaaagtatacgtgcgctttcggccgtaacagcaatatcaagctgactaatctataaaca-ggtatgcaggtagcacacccaccgtttagcagtcaggcacacacgaaatactacaaagatcatacagaaagcgcaagaaatcacgaacactgctcggccccagttcatcacagcgccacaccgactctcgtcgctttccaatcgacaaccaataagcatctacacttgtacaaccgaccccagcgaaaact\n",
      "Phelsuma.serraticauda.EU423296              aactaaaacactacctccgtagcgcaacaatcaaaacccccgaggaaattcacgagggtaattaatagtaagctaaaaa-tcacaaatatgaacacgcgcactttcggccgtaacagaaatatcaagccgcttcagaaataccactggtttacaggtggcaaacacaaagtttagcagttaaaactacacgacataatatcattattctattaaaatagcacgcccccacaaaaaaacattggccccagtacactacaacaaaataacgactgcgaccatttttcaatatacatccaaaatctatccacacaaaatctattgaacccagcctcaat-\n",
      "Pseudogekko.compressicorpus.CDS5000         agctaaaaagatacctccgtagcgcaacagtccaaatgcccgagtaaattcacgaggacattagaaagtgagcttaaatctctaaaaatcgaacacgcgcgcgttcggtcgtaaaagcaatatcaagctacctcaaacccaaacccagtatgcaggtggcacacacaaagtttagcagtccggagcacacgatgctatataaagatttcaaaaaaacagtgaatactcacaacaacacttcggccccagttcatcaccgcttaatgctgagcgagatcactttgcaatcaacaaccaaaaagcatctaataccatccacacaacctcatcatata-t\n",
      "Pseudogekko.smaragdinus.CDS1050             aactaaaaagatacctccgtagcgcaacaacccaaatgcccgagtgaattcacgagggcgctggaaagtgagctcaggctaccagaaattgaacacgcgcacgttcggccgtataagcaatatcacgctacctcaaacccaaacccgacatacaggtagcacacacaatgtttagcagtccggaacacacgataccataaaaaaatagcaaaaaaacagtgaatactcgcagcaacacttcggccccagttcatcatcgcttaacgctgaacgcgaccactttacaatcagcaaccaaaaagcatctaacagccccgaaacagccccagcacata-t\n",
      "Ptychozoon.khuli.Tioman.4679                aactaaacaaatacctctgtcgtgtaacaaccaaaacccccgagggaattcacgggggcatttaatagtcagcttaaaatacggagaaaagaacacgagcacgttcggccggaaaagcattatcatgccaccttaaaaccaacacaaggctacgggtggcacacacaaagattagcagtcaagtaaacgagaaacggtattaaaatattaaaaaaacggcggatcctcgctgaacaacctcggccccagtgcatcataactcaactacagaagagaccattttacaatcgacagccaaaagccatccaatcctgcgcaagaggcccccaccaga--t\n",
      "Ptychozoon.lionotum.Thailand.DSM798M        agctagaacaatacctcagtcgcgtaacaatcaaaacccccgagggaattcgcgagggcattgaaaagtcagctaaaaaaaccgaaaaaagcagacgcgcacgttcggccgtaagagcactatcaagctacctcaaaaccaaaacttggctgaaggtggtacacacaaagtttggcagtcggggaaacgaaaagtaataaaataatagcagtgaaacagcgagttcgcgcaaaacgacatcggcccctgtacatcaatactcaaccccatcagggaccactttacagtcaacaaccaaacaccatccacaactccgcgcaagacccccacaaaa--t\n",
      "Ptychozoon.racophorus.P0500                 aactaaaaaaatacctccgtagcgcaataaccaaaatccccgggggaattcgcgagggcactggaaagtcagcttaaaatgcaaagtaacgggcacgagcacattcggacggaaaagcactatcaagccacctcaac-ccaaacggggcgtgctggtcgcacacacaaagcttagcagtcaagcatacaaaacaccatagaaaaatttcaaaaaaactgtggatttgcacagaaaggcatcggccccagtgcatcatgccgaaactaagggagggaccactttacaataaaccgccaaaaaccatctaccaacgccaaggggacccccaccacat-t\n",
      "\n"
     ]
    }
   ],
   "source": [
    "print(data)"
   ]
  },
  {
   "cell_type": "code",
   "execution_count": 18,
   "metadata": {
    "collapsed": true
   },
   "outputs": [],
   "source": [
    "taxa, nchar = data.split(\"\\n\")[0].split(\" \")"
   ]
  },
  {
   "cell_type": "code",
   "execution_count": 25,
   "metadata": {
    "collapsed": true
   },
   "outputs": [],
   "source": [
    "matrix = \"\".join(data.split(\"\\n\")[1:])"
   ]
  },
  {
   "cell_type": "code",
   "execution_count": 26,
   "metadata": {},
   "outputs": [
    {
     "name": "stdout",
     "output_type": "stream",
     "text": [
      "Cyrtodactylus.annulatus.KU314944            aacaaaagaaataactccgttgcgcaataaccgaaatccccgggggaatttacgaggagactgaaaagtcagctaaacg-acaaaccaaagaacacgggcgtattccgccgaaaaagttatatcatgcctcctaataccacaaacccgcatacaggtggcacacacaacgtttagcagtcaagcacacacaacaacatacaaagatacc-gaagaaaagagactcctcagcaaaaggcatcggccctagtacatcacagcttggctcagacccctaccactttaccgtcaataacccaaaagcatccaaaccacaccaaaatacccccaaaataaatCyrtodactylus.philippinicus.KU304784        aaccaaacaaataactttgttgcgcaacaaccaaaatccccgagggaattcacgaggaaaccgaaaagtcagctaaaca-acagaccaaggaacatgagcatattccgtcgaaaaagcaatatcacgccacctaacactacgaacctgcctaaaggtggcacacacaaagtttagcagtcaagaatacacgacaatatacaacgatacc--aaaaagagagaatcctcgacaaacaacattggccccagtacatcacagcttagctccgaaccctaccactttaccgtcaacaaccaaaaagtatctaaacgacagcaaagtactccaaaactaaatGehyra.australis.AMS139934                  aactaaaaaaaaacctcagtcgcgcaacaaccaaaacccccgaggaaattcgcgcgggaattgaaaagtcagctgatttaaaaaaaaa-agaaaacgggcgccttcggacgaacaggccatatcaagcagcctaacaatccacactagcctgccggtggcacacacaaagcttagcagtccagctcacccgacaccataaaatgatatcaaagaaaaagagaattgtctaaacaccacatcggccccagttcaccacagcaaatccccaaacgcgaccactttgcagtaaacaaccaaaaagtatctaacacccacaaacgcaccc-cacaccgratGehyra.mutilata.AMB7515                     aactaaaaaaagacctccgtagcgtaacaaccaaaacccccggggaaattcgcacggaaactgaaaagtcagcttaaatcctaaagaagagaacacgcacaccttcggtcggacaagccatatcaagcctcccaacagcccccctcggcttgcaggtggtacacacaaagtttagcagtaaggcaaaccaaacacaatagaagaatttcagtaaaaaaccgaataatcaaagcaccgccttagcccctgtacaccacagcaaagccccaaccacgaccactttaccgtaaacaaccaaaaagcatctaaataaaaacaaaaaccctccatgctaaatGekko.athymus.RMB3118                       -------aaaatatctcagtggcgtcaaaatcaaaatccccgagggaattcacaaggaccctgaaaagtctgcttaccggtccaaacaaagataacgtgcacgttcggccgtaaaagaaggatcacgccacctcaacgtcaaaacgcgtctgcgggtagcacacacaaagtttatcagttaagtatgtaaaaaatactaataaaataatagaaaaaccgcaa?ttctcctgaaaaatcatcggccctagtgcatcataactcaatg?cgaccgtgaccactttacaatcaacaaccaaaaactatccaaccctctaaaagataaccccaccacaa-tGekko.auriverrucosus.ZK3                    aacaaaaaaaataccttcgttgtgcaacaaccaaaatccccgagggaattcacgagggaattgaacagtcagcttaacatacgaaaaaa-gaacacgcgcccgttcggtcgtaaaagcaatatcacgctatccca-aaacaaaaccagcatgcgggtagtacacacaaagcttagcagtcgagcatgcccaaaaaaataaaaaaatgtcaaaaaaacggagaatgctcccaaaaaaacatcggccccagtacatcacagctcaaccccaaacgagaccattttaccgttaacaaccaaaaaccatctaaccgggcaaaaagaacccccacaaaa--tGekko.badenii.JB13                          agtaaaaaaaataacttagtagcgcaataatcaaaacccccaaggaaatttacatgggagctggacattcagctaaaaaaactgagaaaagcacatgcgcacgttcggccgtaaaagtaatatcaagccacctcaaaatcaaaacgagactgtaggtagcacacacaaagcttagcagtcaagctaaccgtaagtaataaaagcatatcaaaaaaacagcgagtactcacaaaaaaatatcggccctagtgcattacaactcaactacaaaagagaccactttacagtcaacaaccaaaaaccatctaaagctgcacaaaagccccccaaac-aa-tGekko.chinensis.China.LG4210                tacgaaaaaaatatctcagtcgcgaaacaatccaaacccccgaggaaattaacgagggtactgaaaagtcagcttaacatcca-agaagagctcacgcgcacgttcggccgtaaaagaaatatcatgcagcctaaagtacaaggcaagtttgcgggcagcacacacaaagtttagcagtaaaacaaacataacaaaataaaaagataacacaaaaacagagaatttactcaaaaaaacatcggtcccagtacattatagctcaacctcaaacgcaaccactttacagttatcaggcaaaaaccatctaaccacccttaaaaaacccccacaa----tGekko.crombota.BabuynCl.RMB5946             aacaaaaaaaggaccttcgtcgcgcaaaagccaaaatccccgagggaattcacacgggcattgaaaagtcagcttaacaaacaaaaagaagtcaacgcgcacgttcggccgtacaagaaatatcacgcttccttaaaaccaaaacacgcatgcgggtggcacacacaaagtttagcagtcaaacatataaaacacgataaaaaactaaaaaaaaaacagcgaattctcccaaaaacacagtggccccagtgcatcacgactcaaccccaaatgaggccactttacagttaacaaccaaagaccatctaaaacagcagaaattaccccccccaaaa-tGekko.gecko.CAS204952                       agctagaaaaatatcttcgtcgcgcaacaaccaatatccccgagggaattcacgagggaaaggaatagtcagcttaaaagaagagaaaatgcttatgggcacgttcgaccgtataagaataatcatgcaacctaaacccccccacgagcctgtaggttgcacacacaaagtttagcagtcaagcctacacaaaattataaaataatagtaaaaaaacagagcgttctctcaaagaataatcggccccagtacattacagctcaacaccagccgggatcactttacagttagcaaccaaaaactatctacatatgcaaagaaataccacaccaaaa-tGekko.grossmani.JFBM9                       agtaaaaaaaataacttagtggcgcaaaaaccaaacaccccgagggaattcacaaggaaactgaaaagttagcwtaaaaagaagggaaaagcaaatgtgcacgtttggccgtaaaagagagatcaagccttctaaaaacaacaacgagtctaagggtggcacacacaaagattgtcagtcaagtaaacaagatgaaattaaaaaataaagaaaaaacagcgagtacgcaaaaaaaaacataggcccatgtgcatcaaaactcagtaacgagagcgaccactttacaatcaacaaccaaaaaccatcaagttcaaaaaaaaaaaaatcaacacaa--tGekko.hokouensis.HOFH89053103               ----------atacctcagtcgcgcaacaaccaaaatccccgagggaattcacgagggcattgaacagtcagattaacatcca-aaaaaagaacacgcgctcgttcggtcgtaaaagcaatatcacgccacctcaaaccctaaactagtatgcaggtggtacacacaaagcttggcagttacacacgcccaaaaaaataaaaagatcgcagagaaatagagaattctcccaaaaagaccttggccccggtacattataactaaaccctacaagcgaccattttgccgttagcaaccaaaaactatctaacaatgcgcaaaaaactcccacaaaa--tGekko.japonicus.HOFH10061402                aacgaaaaaaatacctctgtggcgtaataaccgaaatccccgagggaattcacgggggtaccgaacagtcagcttaacatgca-aaaaatgatcacgagcacgttcggtcgtaaaagcaatatcacgccacttcaaaaccaaatccaggatgtgggtagtacacacaaagtttagcagttaaacacacccaaaaaaataaaaagatattaaaaaaaaagagagtactcccaaaaaaacatcggccccagtacatcacaactcaatctcaaacgagaccactttaccgttaacaaccaaaaaccatctacccaggcacgatcggcccccacaaat--tGekko.mindorensis.CDS1229                   aacgaaaaaaatatctttgtagtgcaaaaatcaaaatccccgaggaaattcacaaggacattgaatagtcagctaatcatacagaaaaaagacaacgcgcacgttcggtcgtacaagaaatatcacgccgcttaaaaatcaagacatgtatgcaggtagcacacacaaagtttagcagttaaatatataaaaagccgtaaaaaaataataaaaaaacagcgaattctcccaaaaaaacatcagccccagtgcattacgactcaaccttaaacgagatcactttacagttagcaaccaaaaaccatctagccccacaaaaactacctcccctaaaa-tGekko.monarchus.Palawan.ACD1278             aaagaaaaaaatatcttagtcgtgcaaaaaccaaaattcccgaggaaattcacaaggacactgaacagtcagctaaccatgcagaacaaagataacgtgcacgttcggtcgtataagaaatatcacgctgcttaaaaaccaaaacacgtatgcgggtagcacacacaaagtttagcagtcaaacatataaaaaactataaaaaaataataaaaaaacagcgaattctcccaaaaaaacatcggccctagtgcattacaactcaacactaaacgagaccactttacaattaacaaccaaaaaccatctaaccccacaactactacttcccccaaa--tGekko.petricolis.JB70                       tacgaaaaaaataactcagtggcgcaacaaccaaaacccccgagggaattcacgagggtactgaaaagtcagcttaaaaaacagaaaaaggctcacgtgcacgttcggccgtataagaaatatcacgctacctaaagatcaaaccccggctgcgggtggtacacacaaagcttagcagttaagcaaacaaaaagcagtaataatatatcaactgagtagaaatttttcacaaaaaaatattggccccagtgcattaaaccaaaatgtaaaacgcgaccactttgccgtcaacaaccaaaaaacatctaaacaccattctataatccccacaacaa-tGekko.romblon.Tablas.RMB8789                aacgaaaaaaataccttagtcgcgtaacaaccaaaatccccggggaaattcacgagggcattgaaaagtcagctaaccatgca-aaaaaagacaacgcgcacgttcggtcgtataagaaatatcacgccacctcaaaaccaaaatacgtgtacgggtagcacacacaaagtttagcagtcaaatacataaaaaacaataaaaaaataatagaaaaacaatgaattctcccaaaaagacatcggccccagtgcatcataactcaacactaagcgagaccactttacagttaacagccaaaaaccatctaaccccgcaaaaattgcctcccccaaaa-tGekko.smithii.Wmalaysia.LG6095              aactagaaaaatatcttagtcgcgcaacaatcaatacccccgagggaattcacgagggcaatgaacagtcagcttaaaaaaaagaaaaatgtttacgagcacgttcgatcgtactagaaaaatcacgcagcctaacaccccccacaagcctacgggttgcacacacaaagtttagcagtcaaacccacacaaaactataaaataatcacagaaaaacagagaattctcccaaaaaatcatcggccccagtacattacagctcaccactaagcgggatcactttacagttagcaaccaaaaactatctatacacgcaaaaaaataccacaccaaaa-tGekko.subpalmatus.AMB5567                   aacgaaaaaaatacctcagtagcgtaacaaccaaaatccccgaggaaattcgcgagggaattgaacagtcagattaacatc-caaaaaaagaacatgcgcccgttcggccggaaaagcaatatcacgccattttaaaacccaaaccagtatgcaggtcgtacacacaaagtttagcagttaaatacatccaacaaaataaaaagatatcaaaaaaacagagaattctcccaaaaaaacattggccccagtacattataactgaatcctgagtgagaccactttactgttaacagccaaaaactatctaaccacgcacaaaaaatccccacaa-aa-tGekko.swinhonis.ZK5                         aacgaaaaaaatacctctgtcgtgtaacaacccaaatccccgagggaatttacgagggtattgaatagtcagcttaacatc-caaaaagcgaacacgcgcacgttcggccgtaaaagcaatatcaagccaccttaaaatcaaaactcgtatgcgggtagcacacacaaagtttagcagttaagtacacccaaaaaaataaaaagatatcaaagaaacag?gagttctctcgaaaaaacatcggccccagtacattataatttaaccccaaacgagaccactttaccgttaacaacccaaaactatctaaccaaaagcaaaagactcctgcaaaa--tGekko.vittatus.USNM533255                   agcgaaagaaataactgcgtcgtgcaacaaccaaaacccccgaggaaattcacgagggtactgaaaagtcagcttaaaaacctaaaa-aagcacacgtacacgttcggccgtaaaagcaatatcaagctactttacaaccaaaatatgcatgcaggtagcacacacaaagtttagcagttaagcaaacaatacaccatagtaaaatatcattaaaacagggagttctcaaaaaaaaacattggccctagtacatcacaatttaactaaaaaagcgatcattttgcaatcaacaaccaaaaaccatctaaaaacacccagaatatacccactaaaa-tHemidactylus.bowringii.EU268373             -------------actccgtcgcgcaaaaaccaaaatacccgaggaaattagcgagggtactgaaaagtcagcttaacaataataacaaagcgcacgcgcgcattcggccgttatagctatatcatgcctcctaccaaaccgcacaagttttaaggtggcacacacaaagcttggcagtccggtaaactcgacaacatctaaaaataatgcaaaaaaagagaatcatcgcaaaaaaacctcggccccggttcatcatagctcaatagagaaatcaaccacgttaccgtcaacaaccaaagaatatctcacctcacactgatatcgtccgcactaaatLepidodactylus.herrei.RMB4330               agctagaaaaatacctccgtcgcgtaacaacccaaatccccgaggaaattcgcgagggcactgagcggtaagcttatcacacacaagaacgaacacgcgcacgttcggccgtaaaagcaatatcatgccacctaaaacccaaatcccgaatgcaggttgcacacacaaagtttagcagtcgagaacacatggaacaatcaaaaaataataaagaaacagagagtactctcgtgggcacatcggccccagtacatcacagcttaatactgaacgggaccactttacaatcaacaaccaaaaagcatctaattctccgcaaacgaccccaactg-aa-tLepidodactylus.moestus.USNM521730           agctcgaaaaatacctccgttgcgcaacaaccaaaacacccgagggaattcacgagggcacttagaggtaagcttatcacacacaagaacgagcacgcgcacgttcggccgtaccagcaatatcacgctacctaaaacctaaaacccgaatgcaggttgcacacacaaagtttagcagtcaagagtacatgggacgataaaaggataacaaaaaaacagagaatactcccattaacacatcggccccagtacatcatagcttaatgtcggacgggaccactttacaatcaacaaccaaaaagcatctaaccaaccgaggatgacctcaact-taa-tLuperosaurus.Palawan.ELR1579                -------------------------------------------------------------------------------------------------------------------------------------------------------------------------------------------------------------------------------------------------------------------------------------------------------------------------------------------------Luperosaurus.angliit.ASCOT.ACD3678          agcgaaaaaaatacctacgtcgcgcaacaatcaaaatgccctaggaaattcacgggggcacttagaagtgagctaaacactcaagaaaaagcaaacgcgcgcgttcggccagaaaagcgctatcacgccacctcaagatcacaaccagtatgttggtagcacacacaaagtttagcagtcaggcacacacgcaagaatagaaaaatattaaaaaaaaagtgagtactcctaactgttcatcggccctagtgcatcacaactaaacacaaatcgcgaccactttacaataaacctccaaaaaatatcccaaaaaacccaaacagcccccacccca--tLuperosaurus.cumingii.Bicol.RMB3546         agcgaaaaaaatacctacgttgcgcaacagtcaaaatacccgaggaaattcacgagggcacttaaaagtgagctaaacactcaggaaaaagcaaacgcgcgcgttcggtcagaaaagtgctatcacgccacctcaaaaccacaacaagtatgccggtagtacacacaaagtttagcagttaagagcacatgcaaaaatgaaaaaatattaaaaaaacagcgaatactcttaaccattcatcggccccagtacattacaatttaacgcaaagcgtggccactttacaataaaccaccaaaaaatatcccaaaaaatccaaataacccccacccca--tLuperosaurus.iskandari.RMB1653              aacgaaaaaaataccttcgtagcgcaataaccaaagcccccgaggaaattaacgcggacattgagaagtcagcttaaaaaacgaaaaaa-gaatatgtgcacgttcggccgttaaagcaatatcaagccatctcaaaaccaatccccgcttaatggtggcacacacaaagtttggcagtcaggcaaacaataaacaataaaaagatatcaatagaacggcgagttctcgtagaaaaatatcggccccagtacatcaaaactaaattaaacaagagaccac---------------------------------------------------------Luperosaurus.joloensis.Mindanao.RMB9416     agctaaaaagatacctccgtcgcgtaacaaccaaaatacccgagggaattaacgcgggccctgaaaagtcagctcatcaaaccaaagaacacacacgcgcacgttcggccgaacaagtaatatcatgccacttcaaacccaaaacaaggctgccggtagcacacgcaaagtttagcagtcaagagtacacgcaacaataaaaggatctcaaaaaaacagcgaatacactcaacagcacatcggccccagtacatcacagtttaacgcaaaacgcgaccactttacaatcaacaaccaaaaagtatctcacaacaacctaacagtccccacacga--tLuperosaurus.macgregori.Batanes.RMB9042     agcgaaaaaaatacctacgttgcgcaacaatcaaaatgccctaggaaattcacgggggcacttagaagtgagctaaacactcaggaaaaagtaaacgcgcgcgttcggccagaaaagcgctatcacgccacctcaaaatcacaacaagtatactggtagcacacacaaagtttagcagtcgggcacacacgcaagaataaaaaaatatcgaaaaaaaagcgagtactcttaaccgctcatcggccccagtgcattacaactaaacacaaatcgcgaccactttacaataaacctccaaaaaatatcccaaaaaactcaaactgtccccacccca--tLuperosaurus.sp.ACD6021                     agcgaaaaaaatacctacgtcgcgcaacaatcaaaatgccctaggaaattcacgggggcacttagaagtgagctaaacactcagtaaaaagcaaacgcgcgcgttcggccagaaaagcgctatcacgccacctcaaaatcacaacgagtatgtcggtagcacacacaaagtttagcagtcgggcatacacgcaaaaataaaaaaatattgaaaaaaaagtgaatactcctaaccgttcatcggccccagtgcattacgactaaacacaaatcgcgaccactttacaataaacctccaaaaaatatcccaaaaaacccaaactgcccccacccca--tLygodactylus.bradfieldi.EU423279            aaccaaaaagctacctatgtcgcgcaacaaacaaaaaccccgagggaattcacgggggcatcggacaatcagctacata-ctaaaaaaaagtatacgtgcgctttcggccgtaacagcaatatcaagctgactaatctataaaca-ggtatgcaggtagcacacccaccgtttagcagtcaggcacacacgaaatactacaaagatcatacagaaagcgcaagaaatcacgaacactgctcggccccagttcatcacagcgccacaccgactctcgtcgctttccaatcgacaaccaataagcatctacacttgtacaaccgaccccagcgaaaactPhelsuma.serraticauda.EU423296              aactaaaacactacctccgtagcgcaacaatcaaaacccccgaggaaattcacgagggtaattaatagtaagctaaaaa-tcacaaatatgaacacgcgcactttcggccgtaacagaaatatcaagccgcttcagaaataccactggtttacaggtggcaaacacaaagtttagcagttaaaactacacgacataatatcattattctattaaaatagcacgcccccacaaaaaaacattggccccagtacactacaacaaaataacgactgcgaccatttttcaatatacatccaaaatctatccacacaaaatctattgaacccagcctcaat-Pseudogekko.compressicorpus.CDS5000         agctaaaaagatacctccgtagcgcaacagtccaaatgcccgagtaaattcacgaggacattagaaagtgagcttaaatctctaaaaatcgaacacgcgcgcgttcggtcgtaaaagcaatatcaagctacctcaaacccaaacccagtatgcaggtggcacacacaaagtttagcagtccggagcacacgatgctatataaagatttcaaaaaaacagtgaatactcacaacaacacttcggccccagttcatcaccgcttaatgctgagcgagatcactttgcaatcaacaaccaaaaagcatctaataccatccacacaacctcatcatata-tPseudogekko.smaragdinus.CDS1050             aactaaaaagatacctccgtagcgcaacaacccaaatgcccgagtgaattcacgagggcgctggaaagtgagctcaggctaccagaaattgaacacgcgcacgttcggccgtataagcaatatcacgctacctcaaacccaaacccgacatacaggtagcacacacaatgtttagcagtccggaacacacgataccataaaaaaatagcaaaaaaacagtgaatactcgcagcaacacttcggccccagttcatcatcgcttaacgctgaacgcgaccactttacaatcagcaaccaaaaagcatctaacagccccgaaacagccccagcacata-tPtychozoon.khuli.Tioman.4679                aactaaacaaatacctctgtcgtgtaacaaccaaaacccccgagggaattcacgggggcatttaatagtcagcttaaaatacggagaaaagaacacgagcacgttcggccggaaaagcattatcatgccaccttaaaaccaacacaaggctacgggtggcacacacaaagattagcagtcaagtaaacgagaaacggtattaaaatattaaaaaaacggcggatcctcgctgaacaacctcggccccagtgcatcataactcaactacagaagagaccattttacaatcgacagccaaaagccatccaatcctgcgcaagaggcccccaccaga--tPtychozoon.lionotum.Thailand.DSM798M        agctagaacaatacctcagtcgcgtaacaatcaaaacccccgagggaattcgcgagggcattgaaaagtcagctaaaaaaaccgaaaaaagcagacgcgcacgttcggccgtaagagcactatcaagctacctcaaaaccaaaacttggctgaaggtggtacacacaaagtttggcagtcggggaaacgaaaagtaataaaataatagcagtgaaacagcgagttcgcgcaaaacgacatcggcccctgtacatcaatactcaaccccatcagggaccactttacagtcaacaaccaaacaccatccacaactccgcgcaagacccccacaaaa--tPtychozoon.racophorus.P0500                 aactaaaaaaatacctccgtagcgcaataaccaaaatccccgggggaattcgcgagggcactggaaagtcagcttaaaatgcaaagtaacgggcacgagcacattcggacggaaaagcactatcaagccacctcaac-ccaaacggggcgtgctggtcgcacacacaaagcttagcagtcaagcatacaaaacaccatagaaaaatttcaaaaaaactgtggatttgcacagaaaggcatcggccccagtgcatcatgccgaaactaagggagggaccactttacaataaaccgccaaaaaccatctaccaacgccaaggggacccccaccacat-t\n"
     ]
    }
   ],
   "source": [
    "print(matrix)"
   ]
  },
  {
   "cell_type": "code",
   "execution_count": 39,
   "metadata": {
    "collapsed": true
   },
   "outputs": [],
   "source": [
    "intro = \"#NEXUS\\n\\nBEGIN DATA;\\n\""
   ]
  },
  {
   "cell_type": "code",
   "execution_count": 34,
   "metadata": {},
   "outputs": [
    {
     "name": "stdout",
     "output_type": "stream",
     "text": [
      "#NEXUS\n",
      "\n",
      "BEGIN DATA;\n"
     ]
    }
   ],
   "source": [
    "print(intro)"
   ]
  },
  {
   "cell_type": "code",
   "execution_count": 40,
   "metadata": {
    "collapsed": true
   },
   "outputs": [],
   "source": [
    "dimensions = \"\\tDIMENSIONS NTAX=\"+taxa+\" NCHAR=\"+nchar+\";\\n\""
   ]
  },
  {
   "cell_type": "code",
   "execution_count": 30,
   "metadata": {},
   "outputs": [
    {
     "name": "stdout",
     "output_type": "stream",
     "text": [
      "\tDIMENSIONS NTAX=38 NCHAR=337;\n"
     ]
    }
   ],
   "source": [
    "print(dimensions)"
   ]
  },
  {
   "cell_type": "code",
   "execution_count": 41,
   "metadata": {
    "collapsed": true
   },
   "outputs": [],
   "source": [
    "end_intro = \"\\tFORMAT DATATYPE=DNA MISSING=? GAP=-;\\nMATRIX\\n\""
   ]
  },
  {
   "cell_type": "code",
   "execution_count": 42,
   "metadata": {
    "scrolled": true
   },
   "outputs": [
    {
     "name": "stdout",
     "output_type": "stream",
     "text": [
      "\tFORMAT DATATYPE=DNA MISSING=? GAP=-;\n",
      "MATRIX\n",
      "\n"
     ]
    }
   ],
   "source": [
    "print(end_intro)"
   ]
  },
  {
   "cell_type": "code",
   "execution_count": 43,
   "metadata": {
    "collapsed": true
   },
   "outputs": [],
   "source": [
    "end = \"\\n;\\nEND;\""
   ]
  },
  {
   "cell_type": "code",
   "execution_count": 44,
   "metadata": {
    "collapsed": true
   },
   "outputs": [],
   "source": [
    "full_nex = intro+dimensions+end_intro+matrix+end"
   ]
  },
  {
   "cell_type": "code",
   "execution_count": 45,
   "metadata": {},
   "outputs": [
    {
     "name": "stdout",
     "output_type": "stream",
     "text": [
      "#NEXUS\n",
      "\n",
      "BEGIN DATA;\n",
      "\tDIMENSIONS NTAX=38 NCHAR=337;\n",
      "\tFORMAT DATATYPE=DNA MISSING=? GAP=-;\n",
      "MATRIX\n",
      "Cyrtodactylus.annulatus.KU314944            aacaaaagaaataactccgttgcgcaataaccgaaatccccgggggaatttacgaggagactgaaaagtcagctaaacg-acaaaccaaagaacacgggcgtattccgccgaaaaagttatatcatgcctcctaataccacaaacccgcatacaggtggcacacacaacgtttagcagtcaagcacacacaacaacatacaaagatacc-gaagaaaagagactcctcagcaaaaggcatcggccctagtacatcacagcttggctcagacccctaccactttaccgtcaataacccaaaagcatccaaaccacaccaaaatacccccaaaataaatCyrtodactylus.philippinicus.KU304784        aaccaaacaaataactttgttgcgcaacaaccaaaatccccgagggaattcacgaggaaaccgaaaagtcagctaaaca-acagaccaaggaacatgagcatattccgtcgaaaaagcaatatcacgccacctaacactacgaacctgcctaaaggtggcacacacaaagtttagcagtcaagaatacacgacaatatacaacgatacc--aaaaagagagaatcctcgacaaacaacattggccccagtacatcacagcttagctccgaaccctaccactttaccgtcaacaaccaaaaagtatctaaacgacagcaaagtactccaaaactaaatGehyra.australis.AMS139934                  aactaaaaaaaaacctcagtcgcgcaacaaccaaaacccccgaggaaattcgcgcgggaattgaaaagtcagctgatttaaaaaaaaa-agaaaacgggcgccttcggacgaacaggccatatcaagcagcctaacaatccacactagcctgccggtggcacacacaaagcttagcagtccagctcacccgacaccataaaatgatatcaaagaaaaagagaattgtctaaacaccacatcggccccagttcaccacagcaaatccccaaacgcgaccactttgcagtaaacaaccaaaaagtatctaacacccacaaacgcaccc-cacaccgratGehyra.mutilata.AMB7515                     aactaaaaaaagacctccgtagcgtaacaaccaaaacccccggggaaattcgcacggaaactgaaaagtcagcttaaatcctaaagaagagaacacgcacaccttcggtcggacaagccatatcaagcctcccaacagcccccctcggcttgcaggtggtacacacaaagtttagcagtaaggcaaaccaaacacaatagaagaatttcagtaaaaaaccgaataatcaaagcaccgccttagcccctgtacaccacagcaaagccccaaccacgaccactttaccgtaaacaaccaaaaagcatctaaataaaaacaaaaaccctccatgctaaatGekko.athymus.RMB3118                       -------aaaatatctcagtggcgtcaaaatcaaaatccccgagggaattcacaaggaccctgaaaagtctgcttaccggtccaaacaaagataacgtgcacgttcggccgtaaaagaaggatcacgccacctcaacgtcaaaacgcgtctgcgggtagcacacacaaagtttatcagttaagtatgtaaaaaatactaataaaataatagaaaaaccgcaa?ttctcctgaaaaatcatcggccctagtgcatcataactcaatg?cgaccgtgaccactttacaatcaacaaccaaaaactatccaaccctctaaaagataaccccaccacaa-tGekko.auriverrucosus.ZK3                    aacaaaaaaaataccttcgttgtgcaacaaccaaaatccccgagggaattcacgagggaattgaacagtcagcttaacatacgaaaaaa-gaacacgcgcccgttcggtcgtaaaagcaatatcacgctatccca-aaacaaaaccagcatgcgggtagtacacacaaagcttagcagtcgagcatgcccaaaaaaataaaaaaatgtcaaaaaaacggagaatgctcccaaaaaaacatcggccccagtacatcacagctcaaccccaaacgagaccattttaccgttaacaaccaaaaaccatctaaccgggcaaaaagaacccccacaaaa--tGekko.badenii.JB13                          agtaaaaaaaataacttagtagcgcaataatcaaaacccccaaggaaatttacatgggagctggacattcagctaaaaaaactgagaaaagcacatgcgcacgttcggccgtaaaagtaatatcaagccacctcaaaatcaaaacgagactgtaggtagcacacacaaagcttagcagtcaagctaaccgtaagtaataaaagcatatcaaaaaaacagcgagtactcacaaaaaaatatcggccctagtgcattacaactcaactacaaaagagaccactttacagtcaacaaccaaaaaccatctaaagctgcacaaaagccccccaaac-aa-tGekko.chinensis.China.LG4210                tacgaaaaaaatatctcagtcgcgaaacaatccaaacccccgaggaaattaacgagggtactgaaaagtcagcttaacatcca-agaagagctcacgcgcacgttcggccgtaaaagaaatatcatgcagcctaaagtacaaggcaagtttgcgggcagcacacacaaagtttagcagtaaaacaaacataacaaaataaaaagataacacaaaaacagagaatttactcaaaaaaacatcggtcccagtacattatagctcaacctcaaacgcaaccactttacagttatcaggcaaaaaccatctaaccacccttaaaaaacccccacaa----tGekko.crombota.BabuynCl.RMB5946             aacaaaaaaaggaccttcgtcgcgcaaaagccaaaatccccgagggaattcacacgggcattgaaaagtcagcttaacaaacaaaaagaagtcaacgcgcacgttcggccgtacaagaaatatcacgcttccttaaaaccaaaacacgcatgcgggtggcacacacaaagtttagcagtcaaacatataaaacacgataaaaaactaaaaaaaaaacagcgaattctcccaaaaacacagtggccccagtgcatcacgactcaaccccaaatgaggccactttacagttaacaaccaaagaccatctaaaacagcagaaattaccccccccaaaa-tGekko.gecko.CAS204952                       agctagaaaaatatcttcgtcgcgcaacaaccaatatccccgagggaattcacgagggaaaggaatagtcagcttaaaagaagagaaaatgcttatgggcacgttcgaccgtataagaataatcatgcaacctaaacccccccacgagcctgtaggttgcacacacaaagtttagcagtcaagcctacacaaaattataaaataatagtaaaaaaacagagcgttctctcaaagaataatcggccccagtacattacagctcaacaccagccgggatcactttacagttagcaaccaaaaactatctacatatgcaaagaaataccacaccaaaa-tGekko.grossmani.JFBM9                       agtaaaaaaaataacttagtggcgcaaaaaccaaacaccccgagggaattcacaaggaaactgaaaagttagcwtaaaaagaagggaaaagcaaatgtgcacgtttggccgtaaaagagagatcaagccttctaaaaacaacaacgagtctaagggtggcacacacaaagattgtcagtcaagtaaacaagatgaaattaaaaaataaagaaaaaacagcgagtacgcaaaaaaaaacataggcccatgtgcatcaaaactcagtaacgagagcgaccactttacaatcaacaaccaaaaaccatcaagttcaaaaaaaaaaaaatcaacacaa--tGekko.hokouensis.HOFH89053103               ----------atacctcagtcgcgcaacaaccaaaatccccgagggaattcacgagggcattgaacagtcagattaacatcca-aaaaaagaacacgcgctcgttcggtcgtaaaagcaatatcacgccacctcaaaccctaaactagtatgcaggtggtacacacaaagcttggcagttacacacgcccaaaaaaataaaaagatcgcagagaaatagagaattctcccaaaaagaccttggccccggtacattataactaaaccctacaagcgaccattttgccgttagcaaccaaaaactatctaacaatgcgcaaaaaactcccacaaaa--tGekko.japonicus.HOFH10061402                aacgaaaaaaatacctctgtggcgtaataaccgaaatccccgagggaattcacgggggtaccgaacagtcagcttaacatgca-aaaaatgatcacgagcacgttcggtcgtaaaagcaatatcacgccacttcaaaaccaaatccaggatgtgggtagtacacacaaagtttagcagttaaacacacccaaaaaaataaaaagatattaaaaaaaaagagagtactcccaaaaaaacatcggccccagtacatcacaactcaatctcaaacgagaccactttaccgttaacaaccaaaaaccatctacccaggcacgatcggcccccacaaat--tGekko.mindorensis.CDS1229                   aacgaaaaaaatatctttgtagtgcaaaaatcaaaatccccgaggaaattcacaaggacattgaatagtcagctaatcatacagaaaaaagacaacgcgcacgttcggtcgtacaagaaatatcacgccgcttaaaaatcaagacatgtatgcaggtagcacacacaaagtttagcagttaaatatataaaaagccgtaaaaaaataataaaaaaacagcgaattctcccaaaaaaacatcagccccagtgcattacgactcaaccttaaacgagatcactttacagttagcaaccaaaaaccatctagccccacaaaaactacctcccctaaaa-tGekko.monarchus.Palawan.ACD1278             aaagaaaaaaatatcttagtcgtgcaaaaaccaaaattcccgaggaaattcacaaggacactgaacagtcagctaaccatgcagaacaaagataacgtgcacgttcggtcgtataagaaatatcacgctgcttaaaaaccaaaacacgtatgcgggtagcacacacaaagtttagcagtcaaacatataaaaaactataaaaaaataataaaaaaacagcgaattctcccaaaaaaacatcggccctagtgcattacaactcaacactaaacgagaccactttacaattaacaaccaaaaaccatctaaccccacaactactacttcccccaaa--tGekko.petricolis.JB70                       tacgaaaaaaataactcagtggcgcaacaaccaaaacccccgagggaattcacgagggtactgaaaagtcagcttaaaaaacagaaaaaggctcacgtgcacgttcggccgtataagaaatatcacgctacctaaagatcaaaccccggctgcgggtggtacacacaaagcttagcagttaagcaaacaaaaagcagtaataatatatcaactgagtagaaatttttcacaaaaaaatattggccccagtgcattaaaccaaaatgtaaaacgcgaccactttgccgtcaacaaccaaaaaacatctaaacaccattctataatccccacaacaa-tGekko.romblon.Tablas.RMB8789                aacgaaaaaaataccttagtcgcgtaacaaccaaaatccccggggaaattcacgagggcattgaaaagtcagctaaccatgca-aaaaaagacaacgcgcacgttcggtcgtataagaaatatcacgccacctcaaaaccaaaatacgtgtacgggtagcacacacaaagtttagcagtcaaatacataaaaaacaataaaaaaataatagaaaaacaatgaattctcccaaaaagacatcggccccagtgcatcataactcaacactaagcgagaccactttacagttaacagccaaaaaccatctaaccccgcaaaaattgcctcccccaaaa-tGekko.smithii.Wmalaysia.LG6095              aactagaaaaatatcttagtcgcgcaacaatcaatacccccgagggaattcacgagggcaatgaacagtcagcttaaaaaaaagaaaaatgtttacgagcacgttcgatcgtactagaaaaatcacgcagcctaacaccccccacaagcctacgggttgcacacacaaagtttagcagtcaaacccacacaaaactataaaataatcacagaaaaacagagaattctcccaaaaaatcatcggccccagtacattacagctcaccactaagcgggatcactttacagttagcaaccaaaaactatctatacacgcaaaaaaataccacaccaaaa-tGekko.subpalmatus.AMB5567                   aacgaaaaaaatacctcagtagcgtaacaaccaaaatccccgaggaaattcgcgagggaattgaacagtcagattaacatc-caaaaaaagaacatgcgcccgttcggccggaaaagcaatatcacgccattttaaaacccaaaccagtatgcaggtcgtacacacaaagtttagcagttaaatacatccaacaaaataaaaagatatcaaaaaaacagagaattctcccaaaaaaacattggccccagtacattataactgaatcctgagtgagaccactttactgttaacagccaaaaactatctaaccacgcacaaaaaatccccacaa-aa-tGekko.swinhonis.ZK5                         aacgaaaaaaatacctctgtcgtgtaacaacccaaatccccgagggaatttacgagggtattgaatagtcagcttaacatc-caaaaagcgaacacgcgcacgttcggccgtaaaagcaatatcaagccaccttaaaatcaaaactcgtatgcgggtagcacacacaaagtttagcagttaagtacacccaaaaaaataaaaagatatcaaagaaacag?gagttctctcgaaaaaacatcggccccagtacattataatttaaccccaaacgagaccactttaccgttaacaacccaaaactatctaaccaaaagcaaaagactcctgcaaaa--tGekko.vittatus.USNM533255                   agcgaaagaaataactgcgtcgtgcaacaaccaaaacccccgaggaaattcacgagggtactgaaaagtcagcttaaaaacctaaaa-aagcacacgtacacgttcggccgtaaaagcaatatcaagctactttacaaccaaaatatgcatgcaggtagcacacacaaagtttagcagttaagcaaacaatacaccatagtaaaatatcattaaaacagggagttctcaaaaaaaaacattggccctagtacatcacaatttaactaaaaaagcgatcattttgcaatcaacaaccaaaaaccatctaaaaacacccagaatatacccactaaaa-tHemidactylus.bowringii.EU268373             -------------actccgtcgcgcaaaaaccaaaatacccgaggaaattagcgagggtactgaaaagtcagcttaacaataataacaaagcgcacgcgcgcattcggccgttatagctatatcatgcctcctaccaaaccgcacaagttttaaggtggcacacacaaagcttggcagtccggtaaactcgacaacatctaaaaataatgcaaaaaaagagaatcatcgcaaaaaaacctcggccccggttcatcatagctcaatagagaaatcaaccacgttaccgtcaacaaccaaagaatatctcacctcacactgatatcgtccgcactaaatLepidodactylus.herrei.RMB4330               agctagaaaaatacctccgtcgcgtaacaacccaaatccccgaggaaattcgcgagggcactgagcggtaagcttatcacacacaagaacgaacacgcgcacgttcggccgtaaaagcaatatcatgccacctaaaacccaaatcccgaatgcaggttgcacacacaaagtttagcagtcgagaacacatggaacaatcaaaaaataataaagaaacagagagtactctcgtgggcacatcggccccagtacatcacagcttaatactgaacgggaccactttacaatcaacaaccaaaaagcatctaattctccgcaaacgaccccaactg-aa-tLepidodactylus.moestus.USNM521730           agctcgaaaaatacctccgttgcgcaacaaccaaaacacccgagggaattcacgagggcacttagaggtaagcttatcacacacaagaacgagcacgcgcacgttcggccgtaccagcaatatcacgctacctaaaacctaaaacccgaatgcaggttgcacacacaaagtttagcagtcaagagtacatgggacgataaaaggataacaaaaaaacagagaatactcccattaacacatcggccccagtacatcatagcttaatgtcggacgggaccactttacaatcaacaaccaaaaagcatctaaccaaccgaggatgacctcaact-taa-tLuperosaurus.Palawan.ELR1579                -------------------------------------------------------------------------------------------------------------------------------------------------------------------------------------------------------------------------------------------------------------------------------------------------------------------------------------------------Luperosaurus.angliit.ASCOT.ACD3678          agcgaaaaaaatacctacgtcgcgcaacaatcaaaatgccctaggaaattcacgggggcacttagaagtgagctaaacactcaagaaaaagcaaacgcgcgcgttcggccagaaaagcgctatcacgccacctcaagatcacaaccagtatgttggtagcacacacaaagtttagcagtcaggcacacacgcaagaatagaaaaatattaaaaaaaaagtgagtactcctaactgttcatcggccctagtgcatcacaactaaacacaaatcgcgaccactttacaataaacctccaaaaaatatcccaaaaaacccaaacagcccccacccca--tLuperosaurus.cumingii.Bicol.RMB3546         agcgaaaaaaatacctacgttgcgcaacagtcaaaatacccgaggaaattcacgagggcacttaaaagtgagctaaacactcaggaaaaagcaaacgcgcgcgttcggtcagaaaagtgctatcacgccacctcaaaaccacaacaagtatgccggtagtacacacaaagtttagcagttaagagcacatgcaaaaatgaaaaaatattaaaaaaacagcgaatactcttaaccattcatcggccccagtacattacaatttaacgcaaagcgtggccactttacaataaaccaccaaaaaatatcccaaaaaatccaaataacccccacccca--tLuperosaurus.iskandari.RMB1653              aacgaaaaaaataccttcgtagcgcaataaccaaagcccccgaggaaattaacgcggacattgagaagtcagcttaaaaaacgaaaaaa-gaatatgtgcacgttcggccgttaaagcaatatcaagccatctcaaaaccaatccccgcttaatggtggcacacacaaagtttggcagtcaggcaaacaataaacaataaaaagatatcaatagaacggcgagttctcgtagaaaaatatcggccccagtacatcaaaactaaattaaacaagagaccac---------------------------------------------------------Luperosaurus.joloensis.Mindanao.RMB9416     agctaaaaagatacctccgtcgcgtaacaaccaaaatacccgagggaattaacgcgggccctgaaaagtcagctcatcaaaccaaagaacacacacgcgcacgttcggccgaacaagtaatatcatgccacttcaaacccaaaacaaggctgccggtagcacacgcaaagtttagcagtcaagagtacacgcaacaataaaaggatctcaaaaaaacagcgaatacactcaacagcacatcggccccagtacatcacagtttaacgcaaaacgcgaccactttacaatcaacaaccaaaaagtatctcacaacaacctaacagtccccacacga--tLuperosaurus.macgregori.Batanes.RMB9042     agcgaaaaaaatacctacgttgcgcaacaatcaaaatgccctaggaaattcacgggggcacttagaagtgagctaaacactcaggaaaaagtaaacgcgcgcgttcggccagaaaagcgctatcacgccacctcaaaatcacaacaagtatactggtagcacacacaaagtttagcagtcgggcacacacgcaagaataaaaaaatatcgaaaaaaaagcgagtactcttaaccgctcatcggccccagtgcattacaactaaacacaaatcgcgaccactttacaataaacctccaaaaaatatcccaaaaaactcaaactgtccccacccca--tLuperosaurus.sp.ACD6021                     agcgaaaaaaatacctacgtcgcgcaacaatcaaaatgccctaggaaattcacgggggcacttagaagtgagctaaacactcagtaaaaagcaaacgcgcgcgttcggccagaaaagcgctatcacgccacctcaaaatcacaacgagtatgtcggtagcacacacaaagtttagcagtcgggcatacacgcaaaaataaaaaaatattgaaaaaaaagtgaatactcctaaccgttcatcggccccagtgcattacgactaaacacaaatcgcgaccactttacaataaacctccaaaaaatatcccaaaaaacccaaactgcccccacccca--tLygodactylus.bradfieldi.EU423279            aaccaaaaagctacctatgtcgcgcaacaaacaaaaaccccgagggaattcacgggggcatcggacaatcagctacata-ctaaaaaaaagtatacgtgcgctttcggccgtaacagcaatatcaagctgactaatctataaaca-ggtatgcaggtagcacacccaccgtttagcagtcaggcacacacgaaatactacaaagatcatacagaaagcgcaagaaatcacgaacactgctcggccccagttcatcacagcgccacaccgactctcgtcgctttccaatcgacaaccaataagcatctacacttgtacaaccgaccccagcgaaaactPhelsuma.serraticauda.EU423296              aactaaaacactacctccgtagcgcaacaatcaaaacccccgaggaaattcacgagggtaattaatagtaagctaaaaa-tcacaaatatgaacacgcgcactttcggccgtaacagaaatatcaagccgcttcagaaataccactggtttacaggtggcaaacacaaagtttagcagttaaaactacacgacataatatcattattctattaaaatagcacgcccccacaaaaaaacattggccccagtacactacaacaaaataacgactgcgaccatttttcaatatacatccaaaatctatccacacaaaatctattgaacccagcctcaat-Pseudogekko.compressicorpus.CDS5000         agctaaaaagatacctccgtagcgcaacagtccaaatgcccgagtaaattcacgaggacattagaaagtgagcttaaatctctaaaaatcgaacacgcgcgcgttcggtcgtaaaagcaatatcaagctacctcaaacccaaacccagtatgcaggtggcacacacaaagtttagcagtccggagcacacgatgctatataaagatttcaaaaaaacagtgaatactcacaacaacacttcggccccagttcatcaccgcttaatgctgagcgagatcactttgcaatcaacaaccaaaaagcatctaataccatccacacaacctcatcatata-tPseudogekko.smaragdinus.CDS1050             aactaaaaagatacctccgtagcgcaacaacccaaatgcccgagtgaattcacgagggcgctggaaagtgagctcaggctaccagaaattgaacacgcgcacgttcggccgtataagcaatatcacgctacctcaaacccaaacccgacatacaggtagcacacacaatgtttagcagtccggaacacacgataccataaaaaaatagcaaaaaaacagtgaatactcgcagcaacacttcggccccagttcatcatcgcttaacgctgaacgcgaccactttacaatcagcaaccaaaaagcatctaacagccccgaaacagccccagcacata-tPtychozoon.khuli.Tioman.4679                aactaaacaaatacctctgtcgtgtaacaaccaaaacccccgagggaattcacgggggcatttaatagtcagcttaaaatacggagaaaagaacacgagcacgttcggccggaaaagcattatcatgccaccttaaaaccaacacaaggctacgggtggcacacacaaagattagcagtcaagtaaacgagaaacggtattaaaatattaaaaaaacggcggatcctcgctgaacaacctcggccccagtgcatcataactcaactacagaagagaccattttacaatcgacagccaaaagccatccaatcctgcgcaagaggcccccaccaga--tPtychozoon.lionotum.Thailand.DSM798M        agctagaacaatacctcagtcgcgtaacaatcaaaacccccgagggaattcgcgagggcattgaaaagtcagctaaaaaaaccgaaaaaagcagacgcgcacgttcggccgtaagagcactatcaagctacctcaaaaccaaaacttggctgaaggtggtacacacaaagtttggcagtcggggaaacgaaaagtaataaaataatagcagtgaaacagcgagttcgcgcaaaacgacatcggcccctgtacatcaatactcaaccccatcagggaccactttacagtcaacaaccaaacaccatccacaactccgcgcaagacccccacaaaa--tPtychozoon.racophorus.P0500                 aactaaaaaaatacctccgtagcgcaataaccaaaatccccgggggaattcgcgagggcactggaaagtcagcttaaaatgcaaagtaacgggcacgagcacattcggacggaaaagcactatcaagccacctcaac-ccaaacggggcgtgctggtcgcacacacaaagcttagcagtcaagcatacaaaacaccatagaaaaatttcaaaaaaactgtggatttgcacagaaaggcatcggccccagtgcatcatgccgaaactaagggagggaccactttacaataaaccgccaaaaaccatctaccaacgccaaggggacccccaccacat-t\n",
      ";\n",
      "END;\n"
     ]
    }
   ],
   "source": [
    "print(full_nex)"
   ]
  },
  {
   "cell_type": "code",
   "execution_count": 49,
   "metadata": {
    "collapsed": true
   },
   "outputs": [],
   "source": [
    "new_nex = file.split(\".\")[0] + \".nex\""
   ]
  },
  {
   "cell_type": "code",
   "execution_count": null,
   "metadata": {
    "collapsed": true
   },
   "outputs": [],
   "source": [
    "f = open(script_path, \"w\")\n",
    "f.write(humpty_dumpty)\n",
    "f.close()\n",
    "return(\"File written to disk for: \"+str(script_path.split(\"/\")[-1]))"
   ]
  }
 ],
 "metadata": {
  "kernelspec": {
   "display_name": "Python 3",
   "language": "python",
   "name": "python3"
  },
  "language_info": {
   "codemirror_mode": {
    "name": "ipython",
    "version": 3
   },
   "file_extension": ".py",
   "mimetype": "text/x-python",
   "name": "python",
   "nbconvert_exporter": "python",
   "pygments_lexer": "ipython3",
   "version": "3.6.2"
  }
 },
 "nbformat": 4,
 "nbformat_minor": 2
}
