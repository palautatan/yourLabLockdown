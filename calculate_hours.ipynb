{
 "cells": [
  {
   "cell_type": "markdown",
   "metadata": {},
   "source": [
    "# Calculate Hours"
   ]
  },
  {
   "cell_type": "code",
   "execution_count": 55,
   "metadata": {},
   "outputs": [],
   "source": [
    "# LIBRARIES\n",
    "import pandas as pd\n",
    "import numpy as np"
   ]
  },
  {
   "cell_type": "code",
   "execution_count": 73,
   "metadata": {},
   "outputs": [],
   "source": [
    "# READ IN DATA\n",
    "table = pd.read_csv(\"/Users/treehouse3/Dropbox/Effect_of_partitioning/step_2_shakedown_runs/output/Python/shakedown_runs_outcomes.csv\")"
   ]
  },
  {
   "cell_type": "code",
   "execution_count": 74,
   "metadata": {
    "collapsed": true
   },
   "outputs": [],
   "source": [
    "# THIS MAKES A LIST OF INTEGERS OUT OF THE HH:MM:SS\n",
    "def convertTimes(hhmmss):\n",
    "    pieces = hhmmss.split(\":\")\n",
    "    numbers = [int(x) for x in pieces]\n",
    "    return(numbers)"
   ]
  },
  {
   "cell_type": "code",
   "execution_count": 75,
   "metadata": {},
   "outputs": [
    {
     "name": "stdout",
     "output_type": "stream",
     "text": [
      "03:27:09\n",
      "[3, 27, 9]\n"
     ]
    }
   ],
   "source": [
    "print(table[\"hh:mm:ss\"][0])\n",
    "print(convertTimes(table[\"hh:mm:ss\"][0]))"
   ]
  },
  {
   "cell_type": "code",
   "execution_count": 76,
   "metadata": {
    "collapsed": true
   },
   "outputs": [],
   "source": [
    "# THIS WILL CHANGE THE LIST OF INTEGERS INTO HOURS\n",
    "def toHours(hhmmss_list):\n",
    "    minutes = hhmmss_list[1]*(1/60)\n",
    "    seconds = hhmmss_list[2]*(1/120)\n",
    "    return(hhmmss_list[0] + minutes + seconds)"
   ]
  },
  {
   "cell_type": "code",
   "execution_count": 77,
   "metadata": {},
   "outputs": [
    {
     "name": "stdout",
     "output_type": "stream",
     "text": [
      "[3, 27, 9]\n",
      "13.666666666666668\n"
     ]
    }
   ],
   "source": [
    "print(convertTimes(table[\"hh:mm:ss\"][0]))\n",
    "print(toHours(convertTimes(table[\"hh:mm:ss\"][70])))"
   ]
  },
  {
   "cell_type": "code",
   "execution_count": 78,
   "metadata": {},
   "outputs": [],
   "source": [
    "all_hours = []\n",
    "errors = []\n",
    "\n",
    "# CALCULATING ALL OF THE CONVERTED HOURS WITH \"ERROR CHECKING\"\n",
    "for x in range(table.shape[0]):\n",
    "    try:\n",
    "        all_hours.append(toHours(convertTimes(table[\"hh:mm:ss\"][x])))\n",
    "    except:\n",
    "        all_hours.append(np.NaN)\n",
    "        errors.append(x)"
   ]
  },
  {
   "cell_type": "code",
   "execution_count": 79,
   "metadata": {},
   "outputs": [
    {
     "data": {
      "text/plain": [
       "[]"
      ]
     },
     "execution_count": 79,
     "metadata": {},
     "output_type": "execute_result"
    }
   ],
   "source": [
    "# IF THERE ARE ACTUALLY ERRORS, THEN THE LIST BELOW WILL *NOT* BE BLANK\n",
    "[x for x in errors if not np.isnan(table[\"hh:mm:ss\"][x])]"
   ]
  },
  {
   "cell_type": "markdown",
   "metadata": {},
   "source": [
    "I actually think I have to get the max per dataset then add them together. Andy once said that the other ones will run almost instantaneously when these things are run."
   ]
  },
  {
   "cell_type": "code",
   "execution_count": 80,
   "metadata": {
    "collapsed": true
   },
   "outputs": [],
   "source": [
    "table[\"converted_hours\"] = all_hours"
   ]
  },
  {
   "cell_type": "code",
   "execution_count": 82,
   "metadata": {},
   "outputs": [],
   "source": [
    "table[\"item_no\"] = range(table.shape[0])"
   ]
  },
  {
   "cell_type": "code",
   "execution_count": 89,
   "metadata": {
    "collapsed": true
   },
   "outputs": [],
   "source": [
    "indices = [0,1,2,3,4]"
   ]
  },
  {
   "cell_type": "code",
   "execution_count": 90,
   "metadata": {},
   "outputs": [],
   "source": [
    "main_chain = indices*int(table.shape[0]/5)"
   ]
  },
  {
   "cell_type": "code",
   "execution_count": 97,
   "metadata": {},
   "outputs": [],
   "source": [
    "table[\"prop_ind\"] = main_chain + list(range(table.shape[0]-len(main_chain)))"
   ]
  },
  {
   "cell_type": "code",
   "execution_count": 144,
   "metadata": {},
   "outputs": [],
   "source": [
    "table2 = table.set_index([\"dataset\", \"prop_ind\"])"
   ]
  },
  {
   "cell_type": "code",
   "execution_count": 146,
   "metadata": {},
   "outputs": [
    {
     "data": {
      "text/html": [
       "<div>\n",
       "<style>\n",
       "    .dataframe thead tr:only-child th {\n",
       "        text-align: right;\n",
       "    }\n",
       "\n",
       "    .dataframe thead th {\n",
       "        text-align: left;\n",
       "    }\n",
       "\n",
       "    .dataframe tbody tr th {\n",
       "        vertical-align: top;\n",
       "    }\n",
       "</style>\n",
       "<table border=\"1\" class=\"dataframe\">\n",
       "  <thead>\n",
       "    <tr style=\"text-align: right;\">\n",
       "      <th></th>\n",
       "      <th></th>\n",
       "      <th>script</th>\n",
       "      <th>hh:mm:ss</th>\n",
       "      <th>outcome</th>\n",
       "      <th>converted_hours</th>\n",
       "      <th>item_no</th>\n",
       "    </tr>\n",
       "    <tr>\n",
       "      <th>dataset</th>\n",
       "      <th>prop_ind</th>\n",
       "      <th></th>\n",
       "      <th></th>\n",
       "      <th></th>\n",
       "      <th></th>\n",
       "      <th></th>\n",
       "    </tr>\n",
       "  </thead>\n",
       "  <tbody>\n",
       "    <tr>\n",
       "      <th rowspan=\"5\" valign=\"top\">117</th>\n",
       "      <th>0</th>\n",
       "      <td>117_aic.Rev</td>\n",
       "      <td>03:27:09</td>\n",
       "      <td>NaN</td>\n",
       "      <td>3.525000</td>\n",
       "      <td>0</td>\n",
       "    </tr>\n",
       "    <tr>\n",
       "      <th>1</th>\n",
       "      <td>117_all_apart.Rev</td>\n",
       "      <td>03:16:56</td>\n",
       "      <td>NaN</td>\n",
       "      <td>3.733333</td>\n",
       "      <td>1</td>\n",
       "    </tr>\n",
       "    <tr>\n",
       "      <th>2</th>\n",
       "      <td>117_bic.Rev</td>\n",
       "      <td>03:08:16</td>\n",
       "      <td>NaN</td>\n",
       "      <td>3.266667</td>\n",
       "      <td>2</td>\n",
       "    </tr>\n",
       "    <tr>\n",
       "      <th>3</th>\n",
       "      <td>117_gene.Rev</td>\n",
       "      <td>03:31:41</td>\n",
       "      <td>NaN</td>\n",
       "      <td>3.858333</td>\n",
       "      <td>3</td>\n",
       "    </tr>\n",
       "    <tr>\n",
       "      <th>4</th>\n",
       "      <td>117_together.Rev</td>\n",
       "      <td>03:34:02</td>\n",
       "      <td>NaN</td>\n",
       "      <td>3.583333</td>\n",
       "      <td>4</td>\n",
       "    </tr>\n",
       "    <tr>\n",
       "      <th rowspan=\"5\" valign=\"top\">196_8</th>\n",
       "      <th>0</th>\n",
       "      <td>196_8_aic.Rev</td>\n",
       "      <td>04:09:38</td>\n",
       "      <td>NaN</td>\n",
       "      <td>4.466667</td>\n",
       "      <td>5</td>\n",
       "    </tr>\n",
       "    <tr>\n",
       "      <th>1</th>\n",
       "      <td>196_8_all_apart.Rev</td>\n",
       "      <td>03:05:18</td>\n",
       "      <td>NaN</td>\n",
       "      <td>3.233333</td>\n",
       "      <td>6</td>\n",
       "    </tr>\n",
       "    <tr>\n",
       "      <th>2</th>\n",
       "      <td>196_8_bic.Rev</td>\n",
       "      <td>00:00:00</td>\n",
       "      <td>Failure</td>\n",
       "      <td>0.000000</td>\n",
       "      <td>7</td>\n",
       "    </tr>\n",
       "    <tr>\n",
       "      <th>3</th>\n",
       "      <td>196_8_gene.Rev</td>\n",
       "      <td>03:56:15</td>\n",
       "      <td>NaN</td>\n",
       "      <td>4.058333</td>\n",
       "      <td>8</td>\n",
       "    </tr>\n",
       "    <tr>\n",
       "      <th>4</th>\n",
       "      <td>196_8_together.Rev</td>\n",
       "      <td>04:26:22</td>\n",
       "      <td>NaN</td>\n",
       "      <td>4.616667</td>\n",
       "      <td>9</td>\n",
       "    </tr>\n",
       "  </tbody>\n",
       "</table>\n",
       "</div>"
      ],
      "text/plain": [
       "                               script  hh:mm:ss  outcome  converted_hours  \\\n",
       "dataset prop_ind                                                            \n",
       "117     0                 117_aic.Rev  03:27:09      NaN         3.525000   \n",
       "        1           117_all_apart.Rev  03:16:56      NaN         3.733333   \n",
       "        2                 117_bic.Rev  03:08:16      NaN         3.266667   \n",
       "        3                117_gene.Rev  03:31:41      NaN         3.858333   \n",
       "        4            117_together.Rev  03:34:02      NaN         3.583333   \n",
       "196_8   0               196_8_aic.Rev  04:09:38      NaN         4.466667   \n",
       "        1         196_8_all_apart.Rev  03:05:18      NaN         3.233333   \n",
       "        2               196_8_bic.Rev  00:00:00  Failure         0.000000   \n",
       "        3              196_8_gene.Rev  03:56:15      NaN         4.058333   \n",
       "        4          196_8_together.Rev  04:26:22      NaN         4.616667   \n",
       "\n",
       "                  item_no  \n",
       "dataset prop_ind           \n",
       "117     0               0  \n",
       "        1               1  \n",
       "        2               2  \n",
       "        3               3  \n",
       "        4               4  \n",
       "196_8   0               5  \n",
       "        1               6  \n",
       "        2               7  \n",
       "        3               8  \n",
       "        4               9  "
      ]
     },
     "execution_count": 146,
     "metadata": {},
     "output_type": "execute_result"
    }
   ],
   "source": [
    "table2.head(10)"
   ]
  },
  {
   "cell_type": "code",
   "execution_count": 147,
   "metadata": {},
   "outputs": [
    {
     "data": {
      "text/html": [
       "<div>\n",
       "<style>\n",
       "    .dataframe thead tr:only-child th {\n",
       "        text-align: right;\n",
       "    }\n",
       "\n",
       "    .dataframe thead th {\n",
       "        text-align: left;\n",
       "    }\n",
       "\n",
       "    .dataframe tbody tr th {\n",
       "        vertical-align: top;\n",
       "    }\n",
       "</style>\n",
       "<table border=\"1\" class=\"dataframe\">\n",
       "  <thead>\n",
       "    <tr style=\"text-align: right;\">\n",
       "      <th></th>\n",
       "      <th>script</th>\n",
       "      <th>hh:mm:ss</th>\n",
       "      <th>outcome</th>\n",
       "      <th>converted_hours</th>\n",
       "      <th>item_no</th>\n",
       "    </tr>\n",
       "    <tr>\n",
       "      <th>prop_ind</th>\n",
       "      <th></th>\n",
       "      <th></th>\n",
       "      <th></th>\n",
       "      <th></th>\n",
       "      <th></th>\n",
       "    </tr>\n",
       "  </thead>\n",
       "  <tbody>\n",
       "    <tr>\n",
       "      <th>0</th>\n",
       "      <td>117_aic.Rev</td>\n",
       "      <td>03:27:09</td>\n",
       "      <td>NaN</td>\n",
       "      <td>3.525000</td>\n",
       "      <td>0</td>\n",
       "    </tr>\n",
       "    <tr>\n",
       "      <th>1</th>\n",
       "      <td>117_all_apart.Rev</td>\n",
       "      <td>03:16:56</td>\n",
       "      <td>NaN</td>\n",
       "      <td>3.733333</td>\n",
       "      <td>1</td>\n",
       "    </tr>\n",
       "    <tr>\n",
       "      <th>2</th>\n",
       "      <td>117_bic.Rev</td>\n",
       "      <td>03:08:16</td>\n",
       "      <td>NaN</td>\n",
       "      <td>3.266667</td>\n",
       "      <td>2</td>\n",
       "    </tr>\n",
       "    <tr>\n",
       "      <th>3</th>\n",
       "      <td>117_gene.Rev</td>\n",
       "      <td>03:31:41</td>\n",
       "      <td>NaN</td>\n",
       "      <td>3.858333</td>\n",
       "      <td>3</td>\n",
       "    </tr>\n",
       "    <tr>\n",
       "      <th>4</th>\n",
       "      <td>117_together.Rev</td>\n",
       "      <td>03:34:02</td>\n",
       "      <td>NaN</td>\n",
       "      <td>3.583333</td>\n",
       "      <td>4</td>\n",
       "    </tr>\n",
       "  </tbody>\n",
       "</table>\n",
       "</div>"
      ],
      "text/plain": [
       "                     script  hh:mm:ss outcome  converted_hours  item_no\n",
       "prop_ind                                                               \n",
       "0               117_aic.Rev  03:27:09     NaN         3.525000        0\n",
       "1         117_all_apart.Rev  03:16:56     NaN         3.733333        1\n",
       "2               117_bic.Rev  03:08:16     NaN         3.266667        2\n",
       "3              117_gene.Rev  03:31:41     NaN         3.858333        3\n",
       "4          117_together.Rev  03:34:02     NaN         3.583333        4"
      ]
     },
     "execution_count": 147,
     "metadata": {},
     "output_type": "execute_result"
    }
   ],
   "source": [
    "table2.loc[\"117\"]"
   ]
  },
  {
   "cell_type": "code",
   "execution_count": 148,
   "metadata": {},
   "outputs": [
    {
     "data": {
      "text/plain": [
       "MultiIndex(levels=[['117', '196_8', '21', '28', '45', '4_6', 'Bloom_2013_fishes', 'Brown_2012', 'Cibois_2013_birds', 'Cognato_2001', 'Condamine_2012_butterflies', 'DORNBURG_2012', 'Daniels_2015_crabs', 'Day_2013', 'Ekrem_2010', 'Fishbein_2001', 'Garcia-Sandoval_2011_fungus', 'Grande_2013', 'Hyde_2007_rockfishes', 'Kaffenberger_2011', 'Kang_2013a', 'Korall_2006_tree_ferns', 'Lane_2006_kelp', 'Leache_2009_lizards_nuclear', 'Li_2008', 'Magallon_2010_angiosperms', 'Martinkova_2012_rodents', 'Matheny_2009_fungus', 'Murienne_2010_arachnids', 'Price_2014_ants', 'RIGHTMYER_2013', 'Ronquist_2012_hymenoptera', 'Rota_2011_moths', 'Ryberg_2011_fungus', 'S10012', 'S10163', 'S10620', 'S1070', 'S1115', 'S11291', 'S1137', 'S11410', 'S11849', 'S12213'], [0, 1, 2, 3, 4]],\n",
       "           labels=[[0, 0, 0, 0, 0, 1, 1, 1, 1, 1, 2, 2, 2, 2, 2, 3, 3, 3, 3, 3, 4, 4, 4, 4, 4, 5, 5, 5, 5, 5, 6, 6, 6, 6, 6, 7, 7, 7, 7, 7, 8, 8, 8, 8, 8, 9, 9, 9, 9, 9, 10, 10, 10, 10, 10, 12, 12, 12, 12, 12, 13, 13, 13, 13, 13, 11, 11, 11, 11, 11, 14, 14, 14, 14, 14, 15, 15, 15, 15, 15, 16, 16, 16, 16, 16, 17, 17, 17, 17, 17, 18, 18, 18, 18, 18, 19, 19, 19, 19, 19, 20, 20, 20, 20, 20, 21, 21, 21, 21, 21, 22, 22, 22, 22, 22, 23, 23, 23, 23, 23, 24, 24, 24, 24, 24, 25, 25, 25, 25, 25, 26, 26, 26, 26, 26, 27, 27, 27, 27, 27, 28, 28, 28, 28, 28, 29, 29, 29, 29, 29, 30, 30, 30, 30, 30, 31, 31, 31, 31, 31, 32, 32, 32, 32, 32, 33, 33, 33, 33, 33, 34, 34, 34, 34, 34, 35, 35, 35, 35, 35, 36, 36, 36, 36, 36, 37, 37, 37, 37, 37, 38, 38, 38, 38, 38, 39, 39, 39, 39, 39, 40, 40, 40, 40, 40, 41, 41, 41, 41, 41, 42, 42, 42, 42, 42, 43, 43], [0, 1, 2, 3, 4, 0, 1, 2, 3, 4, 0, 1, 2, 3, 4, 0, 1, 2, 3, 4, 0, 1, 2, 3, 4, 0, 1, 2, 3, 4, 0, 1, 2, 3, 4, 0, 1, 2, 3, 4, 0, 1, 2, 3, 4, 0, 1, 2, 3, 4, 0, 1, 2, 3, 4, 0, 1, 2, 3, 4, 0, 1, 2, 3, 4, 0, 1, 2, 3, 4, 0, 1, 2, 3, 4, 0, 1, 2, 3, 4, 0, 1, 2, 3, 4, 0, 1, 2, 3, 4, 0, 1, 2, 3, 4, 0, 1, 2, 3, 4, 0, 1, 2, 3, 4, 0, 1, 2, 3, 4, 0, 1, 2, 3, 4, 0, 1, 2, 3, 4, 0, 1, 2, 3, 4, 0, 1, 2, 3, 4, 0, 1, 2, 3, 4, 0, 1, 2, 3, 4, 0, 1, 2, 3, 4, 0, 1, 2, 3, 4, 0, 1, 2, 3, 4, 0, 1, 2, 3, 4, 0, 1, 2, 3, 4, 0, 1, 2, 3, 4, 0, 1, 2, 3, 4, 0, 1, 2, 3, 4, 0, 1, 2, 3, 4, 0, 1, 2, 3, 4, 0, 1, 2, 3, 4, 0, 1, 2, 3, 4, 0, 1, 2, 3, 4, 0, 1, 2, 3, 4, 0, 1, 2, 3, 4, 0, 1]],\n",
       "           names=['dataset', 'prop_ind'])"
      ]
     },
     "execution_count": 148,
     "metadata": {},
     "output_type": "execute_result"
    }
   ],
   "source": [
    "table2.index"
   ]
  },
  {
   "cell_type": "code",
   "execution_count": 149,
   "metadata": {},
   "outputs": [
    {
     "data": {
      "text/plain": [
       "Index(['117', '117', '117', '117', '117', '196_8', '196_8', '196_8', '196_8',\n",
       "       '196_8',\n",
       "       ...\n",
       "       'S11410', 'S11410', 'S11410', 'S11849', 'S11849', 'S11849', 'S11849',\n",
       "       'S11849', 'S12213', 'S12213'],\n",
       "      dtype='object', name='dataset', length=217)"
      ]
     },
     "execution_count": 149,
     "metadata": {},
     "output_type": "execute_result"
    }
   ],
   "source": [
    "table2.index.get_level_values(\"dataset\")"
   ]
  },
  {
   "cell_type": "code",
   "execution_count": 150,
   "metadata": {},
   "outputs": [
    {
     "data": {
      "text/plain": [
       "Int64Index([0, 1, 2, 3, 4, 0, 1, 2, 3, 4,\n",
       "            ...\n",
       "            2, 3, 4, 0, 1, 2, 3, 4, 0, 1],\n",
       "           dtype='int64', name='prop_ind', length=217)"
      ]
     },
     "execution_count": 150,
     "metadata": {},
     "output_type": "execute_result"
    }
   ],
   "source": [
    "table2.index.get_level_values(\"prop_ind\")"
   ]
  },
  {
   "cell_type": "code",
   "execution_count": 151,
   "metadata": {},
   "outputs": [
    {
     "data": {
      "text/html": [
       "<div>\n",
       "<style>\n",
       "    .dataframe thead tr:only-child th {\n",
       "        text-align: right;\n",
       "    }\n",
       "\n",
       "    .dataframe thead th {\n",
       "        text-align: left;\n",
       "    }\n",
       "\n",
       "    .dataframe tbody tr th {\n",
       "        vertical-align: top;\n",
       "    }\n",
       "</style>\n",
       "<table border=\"1\" class=\"dataframe\">\n",
       "  <thead>\n",
       "    <tr style=\"text-align: right;\">\n",
       "      <th></th>\n",
       "      <th>script</th>\n",
       "      <th>hh:mm:ss</th>\n",
       "      <th>outcome</th>\n",
       "      <th>converted_hours</th>\n",
       "      <th>item_no</th>\n",
       "    </tr>\n",
       "    <tr>\n",
       "      <th>prop_ind</th>\n",
       "      <th></th>\n",
       "      <th></th>\n",
       "      <th></th>\n",
       "      <th></th>\n",
       "      <th></th>\n",
       "    </tr>\n",
       "  </thead>\n",
       "  <tbody>\n",
       "    <tr>\n",
       "      <th>0</th>\n",
       "      <td>117_aic.Rev</td>\n",
       "      <td>03:27:09</td>\n",
       "      <td>NaN</td>\n",
       "      <td>3.525000</td>\n",
       "      <td>0</td>\n",
       "    </tr>\n",
       "    <tr>\n",
       "      <th>1</th>\n",
       "      <td>117_all_apart.Rev</td>\n",
       "      <td>03:16:56</td>\n",
       "      <td>NaN</td>\n",
       "      <td>3.733333</td>\n",
       "      <td>1</td>\n",
       "    </tr>\n",
       "    <tr>\n",
       "      <th>2</th>\n",
       "      <td>117_bic.Rev</td>\n",
       "      <td>03:08:16</td>\n",
       "      <td>NaN</td>\n",
       "      <td>3.266667</td>\n",
       "      <td>2</td>\n",
       "    </tr>\n",
       "    <tr>\n",
       "      <th>3</th>\n",
       "      <td>117_gene.Rev</td>\n",
       "      <td>03:31:41</td>\n",
       "      <td>NaN</td>\n",
       "      <td>3.858333</td>\n",
       "      <td>3</td>\n",
       "    </tr>\n",
       "    <tr>\n",
       "      <th>4</th>\n",
       "      <td>117_together.Rev</td>\n",
       "      <td>03:34:02</td>\n",
       "      <td>NaN</td>\n",
       "      <td>3.583333</td>\n",
       "      <td>4</td>\n",
       "    </tr>\n",
       "  </tbody>\n",
       "</table>\n",
       "</div>"
      ],
      "text/plain": [
       "                     script  hh:mm:ss outcome  converted_hours  item_no\n",
       "prop_ind                                                               \n",
       "0               117_aic.Rev  03:27:09     NaN         3.525000        0\n",
       "1         117_all_apart.Rev  03:16:56     NaN         3.733333        1\n",
       "2               117_bic.Rev  03:08:16     NaN         3.266667        2\n",
       "3              117_gene.Rev  03:31:41     NaN         3.858333        3\n",
       "4          117_together.Rev  03:34:02     NaN         3.583333        4"
      ]
     },
     "execution_count": 151,
     "metadata": {},
     "output_type": "execute_result"
    }
   ],
   "source": [
    "test = table2.loc[\"117\"]\n",
    "test"
   ]
  },
  {
   "cell_type": "code",
   "execution_count": 152,
   "metadata": {},
   "outputs": [
    {
     "data": {
      "text/plain": [
       "script             117_gene.Rev\n",
       "hh:mm:ss               03:31:41\n",
       "outcome                     NaN\n",
       "converted_hours         3.85833\n",
       "item_no                       3\n",
       "Name: 3, dtype: object"
      ]
     },
     "execution_count": 152,
     "metadata": {},
     "output_type": "execute_result"
    }
   ],
   "source": [
    "test.loc[test[\"converted_hours\"].idxmax()]"
   ]
  },
  {
   "cell_type": "code",
   "execution_count": 153,
   "metadata": {},
   "outputs": [
    {
     "data": {
      "text/plain": [
       "3.8583333333333334"
      ]
     },
     "execution_count": 153,
     "metadata": {},
     "output_type": "execute_result"
    }
   ],
   "source": [
    "# CONVERTED HOURS\n",
    "test.loc[test[\"converted_hours\"].idxmax()][3]"
   ]
  },
  {
   "cell_type": "code",
   "execution_count": 156,
   "metadata": {},
   "outputs": [],
   "source": [
    "# ITERATION\n",
    "iterables = table2.index.get_level_values(\"dataset\").unique()"
   ]
  },
  {
   "cell_type": "code",
   "execution_count": 162,
   "metadata": {
    "collapsed": true
   },
   "outputs": [],
   "source": [
    "x = iterables[0]"
   ]
  },
  {
   "cell_type": "code",
   "execution_count": 163,
   "metadata": {},
   "outputs": [
    {
     "data": {
      "text/html": [
       "<div>\n",
       "<style>\n",
       "    .dataframe thead tr:only-child th {\n",
       "        text-align: right;\n",
       "    }\n",
       "\n",
       "    .dataframe thead th {\n",
       "        text-align: left;\n",
       "    }\n",
       "\n",
       "    .dataframe tbody tr th {\n",
       "        vertical-align: top;\n",
       "    }\n",
       "</style>\n",
       "<table border=\"1\" class=\"dataframe\">\n",
       "  <thead>\n",
       "    <tr style=\"text-align: right;\">\n",
       "      <th></th>\n",
       "      <th>script</th>\n",
       "      <th>hh:mm:ss</th>\n",
       "      <th>outcome</th>\n",
       "      <th>converted_hours</th>\n",
       "      <th>item_no</th>\n",
       "    </tr>\n",
       "    <tr>\n",
       "      <th>prop_ind</th>\n",
       "      <th></th>\n",
       "      <th></th>\n",
       "      <th></th>\n",
       "      <th></th>\n",
       "      <th></th>\n",
       "    </tr>\n",
       "  </thead>\n",
       "  <tbody>\n",
       "    <tr>\n",
       "      <th>0</th>\n",
       "      <td>117_aic.Rev</td>\n",
       "      <td>03:27:09</td>\n",
       "      <td>NaN</td>\n",
       "      <td>3.525000</td>\n",
       "      <td>0</td>\n",
       "    </tr>\n",
       "    <tr>\n",
       "      <th>1</th>\n",
       "      <td>117_all_apart.Rev</td>\n",
       "      <td>03:16:56</td>\n",
       "      <td>NaN</td>\n",
       "      <td>3.733333</td>\n",
       "      <td>1</td>\n",
       "    </tr>\n",
       "    <tr>\n",
       "      <th>2</th>\n",
       "      <td>117_bic.Rev</td>\n",
       "      <td>03:08:16</td>\n",
       "      <td>NaN</td>\n",
       "      <td>3.266667</td>\n",
       "      <td>2</td>\n",
       "    </tr>\n",
       "    <tr>\n",
       "      <th>3</th>\n",
       "      <td>117_gene.Rev</td>\n",
       "      <td>03:31:41</td>\n",
       "      <td>NaN</td>\n",
       "      <td>3.858333</td>\n",
       "      <td>3</td>\n",
       "    </tr>\n",
       "    <tr>\n",
       "      <th>4</th>\n",
       "      <td>117_together.Rev</td>\n",
       "      <td>03:34:02</td>\n",
       "      <td>NaN</td>\n",
       "      <td>3.583333</td>\n",
       "      <td>4</td>\n",
       "    </tr>\n",
       "  </tbody>\n",
       "</table>\n",
       "</div>"
      ],
      "text/plain": [
       "                     script  hh:mm:ss outcome  converted_hours  item_no\n",
       "prop_ind                                                               \n",
       "0               117_aic.Rev  03:27:09     NaN         3.525000        0\n",
       "1         117_all_apart.Rev  03:16:56     NaN         3.733333        1\n",
       "2               117_bic.Rev  03:08:16     NaN         3.266667        2\n",
       "3              117_gene.Rev  03:31:41     NaN         3.858333        3\n",
       "4          117_together.Rev  03:34:02     NaN         3.583333        4"
      ]
     },
     "execution_count": 163,
     "metadata": {},
     "output_type": "execute_result"
    }
   ],
   "source": [
    "table2.loc[x]"
   ]
  },
  {
   "cell_type": "code",
   "execution_count": 177,
   "metadata": {
    "collapsed": true
   },
   "outputs": [],
   "source": [
    "def getMaxHours(dataset):\n",
    "    try:\n",
    "        subtable = table2.loc[dataset]\n",
    "        max_hours = subtable.loc[subtable[\"converted_hours\"].idxmax()][3]\n",
    "        if (max_hours > 1):\n",
    "            return(max_hours)\n",
    "        else:\n",
    "            return(np.NaN)\n",
    "    except:\n",
    "        return(np.NaN)"
   ]
  },
  {
   "cell_type": "code",
   "execution_count": 178,
   "metadata": {},
   "outputs": [
    {
     "data": {
      "text/plain": [
       "3.8583333333333334"
      ]
     },
     "execution_count": 178,
     "metadata": {},
     "output_type": "execute_result"
    }
   ],
   "source": [
    "getMaxHours(iterables[0])"
   ]
  },
  {
   "cell_type": "code",
   "execution_count": 179,
   "metadata": {},
   "outputs": [
    {
     "data": {
      "text/plain": [
       "4.6166666666666671"
      ]
     },
     "execution_count": 179,
     "metadata": {},
     "output_type": "execute_result"
    }
   ],
   "source": [
    "getMaxHours(iterables[1])"
   ]
  },
  {
   "cell_type": "code",
   "execution_count": 184,
   "metadata": {},
   "outputs": [
    {
     "data": {
      "text/html": [
       "<div>\n",
       "<style>\n",
       "    .dataframe thead tr:only-child th {\n",
       "        text-align: right;\n",
       "    }\n",
       "\n",
       "    .dataframe thead th {\n",
       "        text-align: left;\n",
       "    }\n",
       "\n",
       "    .dataframe tbody tr th {\n",
       "        vertical-align: top;\n",
       "    }\n",
       "</style>\n",
       "<table border=\"1\" class=\"dataframe\">\n",
       "  <thead>\n",
       "    <tr style=\"text-align: right;\">\n",
       "      <th></th>\n",
       "      <th>script</th>\n",
       "      <th>hh:mm:ss</th>\n",
       "      <th>outcome</th>\n",
       "      <th>converted_hours</th>\n",
       "      <th>item_no</th>\n",
       "    </tr>\n",
       "    <tr>\n",
       "      <th>prop_ind</th>\n",
       "      <th></th>\n",
       "      <th></th>\n",
       "      <th></th>\n",
       "      <th></th>\n",
       "      <th></th>\n",
       "    </tr>\n",
       "  </thead>\n",
       "  <tbody>\n",
       "    <tr>\n",
       "      <th>0</th>\n",
       "      <td>Brown_2012_aic.Rev</td>\n",
       "      <td>00:00:00</td>\n",
       "      <td>Error</td>\n",
       "      <td>0.0</td>\n",
       "      <td>35</td>\n",
       "    </tr>\n",
       "    <tr>\n",
       "      <th>1</th>\n",
       "      <td>Brown_2012_all_apart.Rev</td>\n",
       "      <td>00:00:00</td>\n",
       "      <td>Error</td>\n",
       "      <td>0.0</td>\n",
       "      <td>36</td>\n",
       "    </tr>\n",
       "    <tr>\n",
       "      <th>2</th>\n",
       "      <td>Brown_2012_bic.Rev</td>\n",
       "      <td>00:00:00</td>\n",
       "      <td>Error</td>\n",
       "      <td>0.0</td>\n",
       "      <td>37</td>\n",
       "    </tr>\n",
       "    <tr>\n",
       "      <th>3</th>\n",
       "      <td>Brown_2012_gene.Rev</td>\n",
       "      <td>00:00:00</td>\n",
       "      <td>Error</td>\n",
       "      <td>0.0</td>\n",
       "      <td>38</td>\n",
       "    </tr>\n",
       "    <tr>\n",
       "      <th>4</th>\n",
       "      <td>Brown_2012_together.Rev</td>\n",
       "      <td>00:00:00</td>\n",
       "      <td>Error</td>\n",
       "      <td>0.0</td>\n",
       "      <td>39</td>\n",
       "    </tr>\n",
       "  </tbody>\n",
       "</table>\n",
       "</div>"
      ],
      "text/plain": [
       "                            script  hh:mm:ss outcome  converted_hours  item_no\n",
       "prop_ind                                                                      \n",
       "0               Brown_2012_aic.Rev  00:00:00   Error              0.0       35\n",
       "1         Brown_2012_all_apart.Rev  00:00:00   Error              0.0       36\n",
       "2               Brown_2012_bic.Rev  00:00:00   Error              0.0       37\n",
       "3              Brown_2012_gene.Rev  00:00:00   Error              0.0       38\n",
       "4          Brown_2012_together.Rev  00:00:00   Error              0.0       39"
      ]
     },
     "execution_count": 184,
     "metadata": {},
     "output_type": "execute_result"
    }
   ],
   "source": [
    "table2.loc[iterables[7]]"
   ]
  },
  {
   "cell_type": "code",
   "execution_count": 181,
   "metadata": {},
   "outputs": [],
   "source": [
    "all_hours = [getMaxHours(x) for x in iterables]"
   ]
  },
  {
   "cell_type": "code",
   "execution_count": 182,
   "metadata": {},
   "outputs": [
    {
     "data": {
      "text/plain": [
       "[3.8583333333333334,\n",
       " 4.6166666666666671,\n",
       " 16.266666666666669,\n",
       " 22.666666666666668,\n",
       " 5.5666666666666664,\n",
       " 11.450000000000001,\n",
       " 20.683333333333334,\n",
       " nan,\n",
       " 21.933333333333334,\n",
       " 3.9249999999999998,\n",
       " 6.0666666666666664,\n",
       " 37.583333333333336,\n",
       " 39.450000000000003,\n",
       " 21.274999999999999,\n",
       " 13.958333333333334,\n",
       " 13.9,\n",
       " 154.89999999999998,\n",
       " 39.908333333333339,\n",
       " 43.008333333333333,\n",
       " 39.783333333333331,\n",
       " 3.1499999999999999,\n",
       " 13.925000000000001,\n",
       " 8.0,\n",
       " 18.225000000000001,\n",
       " nan,\n",
       " 62.950000000000003,\n",
       " 30.825000000000003,\n",
       " 23.333333333333336,\n",
       " 3.625,\n",
       " 30.508333333333333,\n",
       " 90.941666666666663,\n",
       " 33.975000000000001,\n",
       " 8.0333333333333332,\n",
       " nan,\n",
       " 36.274999999999999,\n",
       " 5.5500000000000007,\n",
       " 27.050000000000001,\n",
       " 6.4250000000000007,\n",
       " 37.225000000000001,\n",
       " 28.333333333333332,\n",
       " nan,\n",
       " nan,\n",
       " nan,\n",
       " nan]"
      ]
     },
     "execution_count": 182,
     "metadata": {},
     "output_type": "execute_result"
    }
   ],
   "source": [
    "all_hours"
   ]
  },
  {
   "cell_type": "code",
   "execution_count": 185,
   "metadata": {
    "collapsed": true
   },
   "outputs": [],
   "source": [
    "to_sum = [x for x in all_hours if not np.isnan(x)]"
   ]
  },
  {
   "cell_type": "code",
   "execution_count": 187,
   "metadata": {},
   "outputs": [],
   "source": [
    "hours = sum(to_sum)"
   ]
  },
  {
   "cell_type": "code",
   "execution_count": 191,
   "metadata": {},
   "outputs": [
    {
     "name": "stdout",
     "output_type": "stream",
     "text": [
      "989.15\n",
      "41.2145833333\n"
     ]
    }
   ],
   "source": [
    "print(hours)\n",
    "print(hours/24)"
   ]
  },
  {
   "cell_type": "code",
   "execution_count": 195,
   "metadata": {},
   "outputs": [
    {
     "data": {
      "text/html": [
       "<div>\n",
       "<style>\n",
       "    .dataframe thead tr:only-child th {\n",
       "        text-align: right;\n",
       "    }\n",
       "\n",
       "    .dataframe thead th {\n",
       "        text-align: left;\n",
       "    }\n",
       "\n",
       "    .dataframe tbody tr th {\n",
       "        vertical-align: top;\n",
       "    }\n",
       "</style>\n",
       "<table border=\"1\" class=\"dataframe\">\n",
       "  <thead>\n",
       "    <tr style=\"text-align: right;\">\n",
       "      <th></th>\n",
       "      <th>dataset</th>\n",
       "      <th>max_time</th>\n",
       "    </tr>\n",
       "  </thead>\n",
       "  <tbody>\n",
       "    <tr>\n",
       "      <th>0</th>\n",
       "      <td>117</td>\n",
       "      <td>3.85833</td>\n",
       "    </tr>\n",
       "    <tr>\n",
       "      <th>1</th>\n",
       "      <td>196_8</td>\n",
       "      <td>4.61667</td>\n",
       "    </tr>\n",
       "    <tr>\n",
       "      <th>2</th>\n",
       "      <td>21</td>\n",
       "      <td>16.2667</td>\n",
       "    </tr>\n",
       "    <tr>\n",
       "      <th>3</th>\n",
       "      <td>28</td>\n",
       "      <td>22.6667</td>\n",
       "    </tr>\n",
       "    <tr>\n",
       "      <th>4</th>\n",
       "      <td>45</td>\n",
       "      <td>5.56667</td>\n",
       "    </tr>\n",
       "    <tr>\n",
       "      <th>5</th>\n",
       "      <td>4_6</td>\n",
       "      <td>11.45</td>\n",
       "    </tr>\n",
       "    <tr>\n",
       "      <th>6</th>\n",
       "      <td>Bloom_2013_fishes</td>\n",
       "      <td>20.6833</td>\n",
       "    </tr>\n",
       "    <tr>\n",
       "      <th>7</th>\n",
       "      <td>Brown_2012</td>\n",
       "      <td>NaN</td>\n",
       "    </tr>\n",
       "    <tr>\n",
       "      <th>8</th>\n",
       "      <td>Cibois_2013_birds</td>\n",
       "      <td>21.9333</td>\n",
       "    </tr>\n",
       "    <tr>\n",
       "      <th>9</th>\n",
       "      <td>Cognato_2001</td>\n",
       "      <td>3.925</td>\n",
       "    </tr>\n",
       "    <tr>\n",
       "      <th>10</th>\n",
       "      <td>Condamine_2012_butterflies</td>\n",
       "      <td>6.06667</td>\n",
       "    </tr>\n",
       "    <tr>\n",
       "      <th>11</th>\n",
       "      <td>Daniels_2015_crabs</td>\n",
       "      <td>37.5833</td>\n",
       "    </tr>\n",
       "    <tr>\n",
       "      <th>12</th>\n",
       "      <td>Day_2013</td>\n",
       "      <td>39.45</td>\n",
       "    </tr>\n",
       "    <tr>\n",
       "      <th>13</th>\n",
       "      <td>DORNBURG_2012</td>\n",
       "      <td>21.275</td>\n",
       "    </tr>\n",
       "    <tr>\n",
       "      <th>14</th>\n",
       "      <td>Ekrem_2010</td>\n",
       "      <td>13.9583</td>\n",
       "    </tr>\n",
       "    <tr>\n",
       "      <th>15</th>\n",
       "      <td>Fishbein_2001</td>\n",
       "      <td>13.9</td>\n",
       "    </tr>\n",
       "    <tr>\n",
       "      <th>16</th>\n",
       "      <td>Garcia-Sandoval_2011_fungus</td>\n",
       "      <td>154.9</td>\n",
       "    </tr>\n",
       "    <tr>\n",
       "      <th>17</th>\n",
       "      <td>Grande_2013</td>\n",
       "      <td>39.9083</td>\n",
       "    </tr>\n",
       "    <tr>\n",
       "      <th>18</th>\n",
       "      <td>Hyde_2007_rockfishes</td>\n",
       "      <td>43.0083</td>\n",
       "    </tr>\n",
       "    <tr>\n",
       "      <th>19</th>\n",
       "      <td>Kaffenberger_2011</td>\n",
       "      <td>39.7833</td>\n",
       "    </tr>\n",
       "    <tr>\n",
       "      <th>20</th>\n",
       "      <td>Kang_2013a</td>\n",
       "      <td>3.15</td>\n",
       "    </tr>\n",
       "    <tr>\n",
       "      <th>21</th>\n",
       "      <td>Korall_2006_tree_ferns</td>\n",
       "      <td>13.925</td>\n",
       "    </tr>\n",
       "    <tr>\n",
       "      <th>22</th>\n",
       "      <td>Lane_2006_kelp</td>\n",
       "      <td>8</td>\n",
       "    </tr>\n",
       "    <tr>\n",
       "      <th>23</th>\n",
       "      <td>Leache_2009_lizards_nuclear</td>\n",
       "      <td>18.225</td>\n",
       "    </tr>\n",
       "    <tr>\n",
       "      <th>24</th>\n",
       "      <td>Li_2008</td>\n",
       "      <td>NaN</td>\n",
       "    </tr>\n",
       "    <tr>\n",
       "      <th>25</th>\n",
       "      <td>Magallon_2010_angiosperms</td>\n",
       "      <td>62.95</td>\n",
       "    </tr>\n",
       "    <tr>\n",
       "      <th>26</th>\n",
       "      <td>Martinkova_2012_rodents</td>\n",
       "      <td>30.825</td>\n",
       "    </tr>\n",
       "    <tr>\n",
       "      <th>27</th>\n",
       "      <td>Matheny_2009_fungus</td>\n",
       "      <td>23.3333</td>\n",
       "    </tr>\n",
       "    <tr>\n",
       "      <th>28</th>\n",
       "      <td>Murienne_2010_arachnids</td>\n",
       "      <td>3.625</td>\n",
       "    </tr>\n",
       "    <tr>\n",
       "      <th>29</th>\n",
       "      <td>Price_2014_ants</td>\n",
       "      <td>30.5083</td>\n",
       "    </tr>\n",
       "    <tr>\n",
       "      <th>30</th>\n",
       "      <td>RIGHTMYER_2013</td>\n",
       "      <td>90.9417</td>\n",
       "    </tr>\n",
       "    <tr>\n",
       "      <th>31</th>\n",
       "      <td>Ronquist_2012_hymenoptera</td>\n",
       "      <td>33.975</td>\n",
       "    </tr>\n",
       "    <tr>\n",
       "      <th>32</th>\n",
       "      <td>Rota_2011_moths</td>\n",
       "      <td>8.03333</td>\n",
       "    </tr>\n",
       "    <tr>\n",
       "      <th>33</th>\n",
       "      <td>Ryberg_2011_fungus</td>\n",
       "      <td>NaN</td>\n",
       "    </tr>\n",
       "    <tr>\n",
       "      <th>34</th>\n",
       "      <td>S10012</td>\n",
       "      <td>36.275</td>\n",
       "    </tr>\n",
       "    <tr>\n",
       "      <th>35</th>\n",
       "      <td>S10163</td>\n",
       "      <td>5.55</td>\n",
       "    </tr>\n",
       "    <tr>\n",
       "      <th>36</th>\n",
       "      <td>S10620</td>\n",
       "      <td>27.05</td>\n",
       "    </tr>\n",
       "    <tr>\n",
       "      <th>37</th>\n",
       "      <td>S1070</td>\n",
       "      <td>6.425</td>\n",
       "    </tr>\n",
       "    <tr>\n",
       "      <th>38</th>\n",
       "      <td>S1115</td>\n",
       "      <td>37.225</td>\n",
       "    </tr>\n",
       "    <tr>\n",
       "      <th>39</th>\n",
       "      <td>S11291</td>\n",
       "      <td>28.3333</td>\n",
       "    </tr>\n",
       "    <tr>\n",
       "      <th>40</th>\n",
       "      <td>S1137</td>\n",
       "      <td>NaN</td>\n",
       "    </tr>\n",
       "    <tr>\n",
       "      <th>41</th>\n",
       "      <td>S11410</td>\n",
       "      <td>NaN</td>\n",
       "    </tr>\n",
       "    <tr>\n",
       "      <th>42</th>\n",
       "      <td>S11849</td>\n",
       "      <td>NaN</td>\n",
       "    </tr>\n",
       "    <tr>\n",
       "      <th>43</th>\n",
       "      <td>S12213</td>\n",
       "      <td>NaN</td>\n",
       "    </tr>\n",
       "  </tbody>\n",
       "</table>\n",
       "</div>"
      ],
      "text/plain": [
       "                        dataset max_time\n",
       "0                           117  3.85833\n",
       "1                         196_8  4.61667\n",
       "2                            21  16.2667\n",
       "3                            28  22.6667\n",
       "4                            45  5.56667\n",
       "5                           4_6    11.45\n",
       "6             Bloom_2013_fishes  20.6833\n",
       "7                    Brown_2012      NaN\n",
       "8             Cibois_2013_birds  21.9333\n",
       "9                  Cognato_2001    3.925\n",
       "10   Condamine_2012_butterflies  6.06667\n",
       "11           Daniels_2015_crabs  37.5833\n",
       "12                     Day_2013    39.45\n",
       "13                DORNBURG_2012   21.275\n",
       "14                   Ekrem_2010  13.9583\n",
       "15                Fishbein_2001     13.9\n",
       "16  Garcia-Sandoval_2011_fungus    154.9\n",
       "17                  Grande_2013  39.9083\n",
       "18         Hyde_2007_rockfishes  43.0083\n",
       "19            Kaffenberger_2011  39.7833\n",
       "20                   Kang_2013a     3.15\n",
       "21       Korall_2006_tree_ferns   13.925\n",
       "22               Lane_2006_kelp        8\n",
       "23  Leache_2009_lizards_nuclear   18.225\n",
       "24                      Li_2008      NaN\n",
       "25    Magallon_2010_angiosperms    62.95\n",
       "26      Martinkova_2012_rodents   30.825\n",
       "27          Matheny_2009_fungus  23.3333\n",
       "28      Murienne_2010_arachnids    3.625\n",
       "29              Price_2014_ants  30.5083\n",
       "30               RIGHTMYER_2013  90.9417\n",
       "31    Ronquist_2012_hymenoptera   33.975\n",
       "32              Rota_2011_moths  8.03333\n",
       "33           Ryberg_2011_fungus      NaN\n",
       "34                       S10012   36.275\n",
       "35                       S10163     5.55\n",
       "36                       S10620    27.05\n",
       "37                        S1070    6.425\n",
       "38                        S1115   37.225\n",
       "39                       S11291  28.3333\n",
       "40                        S1137      NaN\n",
       "41                       S11410      NaN\n",
       "42                       S11849      NaN\n",
       "43                       S12213      NaN"
      ]
     },
     "execution_count": 195,
     "metadata": {},
     "output_type": "execute_result"
    }
   ],
   "source": [
    "pd.DataFrame([iterables, all_hours], [\"dataset\", \"max_time\"]).T"
   ]
  },
  {
   "cell_type": "code",
   "execution_count": null,
   "metadata": {
    "collapsed": true
   },
   "outputs": [],
   "source": []
  }
 ],
 "metadata": {
  "kernelspec": {
   "display_name": "Python 3",
   "language": "python",
   "name": "python3"
  },
  "language_info": {
   "codemirror_mode": {
    "name": "ipython",
    "version": 3
   },
   "file_extension": ".py",
   "mimetype": "text/x-python",
   "name": "python",
   "nbconvert_exporter": "python",
   "pygments_lexer": "ipython3",
   "version": "3.6.2"
  }
 },
 "nbformat": 4,
 "nbformat_minor": 2
}
