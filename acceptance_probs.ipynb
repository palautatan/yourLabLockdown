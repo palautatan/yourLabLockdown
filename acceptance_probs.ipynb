{
 "cells": [
  {
   "cell_type": "markdown",
   "metadata": {},
   "source": [
    "# Acceptance Probabilities\n",
    "First, of course, libraries."
   ]
  },
  {
   "cell_type": "code",
   "execution_count": 1,
   "metadata": {
    "collapsed": true,
    "scrolled": true
   },
   "outputs": [],
   "source": [
    "# LIBRARIES\n",
    "library(stringr)"
   ]
  },
  {
   "cell_type": "markdown",
   "metadata": {},
   "source": [
    "### Check for file existence and matrix existence\n",
    "In the following block, I'm going to find where the log text file exists. If it exists, then I'm going to see if a matrix exists in the file. I am saving this information in the dataframe called ```df```."
   ]
  },
  {
   "cell_type": "code",
   "execution_count": 5,
   "metadata": {
    "scrolled": true
   },
   "outputs": [],
   "source": [
    "# DATA\n",
    "# ds_folder = \"D:/Dropbox/MCMC_diagnosis/1_data/\"\n",
    "ds_folder = \"/Users/treehouse3/Dropbox/MCMC_diagnosis/1_data/\"\n",
    "datasets = list.files(ds_folder)\n",
    "\n",
    "log_exists = rep(0,223)\n",
    "search_exists = rep(0,223)\n",
    "\n",
    "i=1\n",
    "for (ds in datasets){\n",
    "  # CHECK FOR FILE\n",
    "    if (file.exists(paste0(ds_folder,ds,\"/\",ds,\"_log.txt\"))) {\n",
    "      log_exists[i] = log_exists[i] + 1\n",
    "      \n",
    "      this_scan = scan(paste0(ds_folder,ds,\"/\",ds,\"_log.txt\"), what=\"character\", sep=\"\\n\")\n",
    "      search_query = \"Chain swap information for run\"\n",
    "      # CHECK FOR SEARCH\n",
    "      if (any(grepl(search_query, this_scan))) {\n",
    "        search_exists[i] = search_exists[i] + 1\n",
    "      }\n",
    "    }\n",
    "  i = i+1\n",
    "}\n",
    "\n",
    "df = data.frame(cbind(datasets, log_exists, search_exists))"
   ]
  },
  {
   "cell_type": "code",
   "execution_count": 68,
   "metadata": {
    "scrolled": true
   },
   "outputs": [
    {
     "data": {
      "text/html": [
       "223"
      ],
      "text/latex": [
       "223"
      ],
      "text/markdown": [
       "223"
      ],
      "text/plain": [
       "[1] 223"
      ]
     },
     "metadata": {},
     "output_type": "display_data"
    }
   ],
   "source": [
    "# NUMBER OF STUDIES\n",
    "length(datasets)"
   ]
  },
  {
   "cell_type": "code",
   "execution_count": 8,
   "metadata": {
    "scrolled": false
   },
   "outputs": [
    {
     "data": {
      "text/html": [
       "<table>\n",
       "<thead><tr><th scope=col>datasets</th><th scope=col>log_exists</th><th scope=col>search_exists</th></tr></thead>\n",
       "<tbody>\n",
       "\t<tr><td>S10036</td><td>1     </td><td>0     </td></tr>\n",
       "\t<tr><td>S10096</td><td>1     </td><td>0     </td></tr>\n",
       "\t<tr><td>S10116</td><td>1     </td><td>0     </td></tr>\n",
       "\t<tr><td>S10167</td><td>1     </td><td>0     </td></tr>\n",
       "\t<tr><td>S10178</td><td>1     </td><td>0     </td></tr>\n",
       "\t<tr><td>S10254</td><td>1     </td><td>0     </td></tr>\n",
       "\t<tr><td>S1070 </td><td>1     </td><td>0     </td></tr>\n",
       "\t<tr><td>S10908</td><td>1     </td><td>0     </td></tr>\n",
       "\t<tr><td>S1115 </td><td>0     </td><td>0     </td></tr>\n",
       "\t<tr><td>S11161</td><td>1     </td><td>0     </td></tr>\n",
       "\t<tr><td>S11174</td><td>1     </td><td>0     </td></tr>\n",
       "\t<tr><td>S11291</td><td>1     </td><td>1     </td></tr>\n",
       "\t<tr><td>S1134 </td><td>1     </td><td>0     </td></tr>\n",
       "\t<tr><td>S11362</td><td>1     </td><td>0     </td></tr>\n",
       "\t<tr><td>S1137 </td><td>1     </td><td>0     </td></tr>\n",
       "</tbody>\n",
       "</table>\n"
      ],
      "text/latex": [
       "\\begin{tabular}{r|lll}\n",
       " datasets & log\\_exists & search\\_exists\\\\\n",
       "\\hline\n",
       "\t S10036 & 1      & 0     \\\\\n",
       "\t S10096 & 1      & 0     \\\\\n",
       "\t S10116 & 1      & 0     \\\\\n",
       "\t S10167 & 1      & 0     \\\\\n",
       "\t S10178 & 1      & 0     \\\\\n",
       "\t S10254 & 1      & 0     \\\\\n",
       "\t S1070  & 1      & 0     \\\\\n",
       "\t S10908 & 1      & 0     \\\\\n",
       "\t S1115  & 0      & 0     \\\\\n",
       "\t S11161 & 1      & 0     \\\\\n",
       "\t S11174 & 1      & 0     \\\\\n",
       "\t S11291 & 1      & 1     \\\\\n",
       "\t S1134  & 1      & 0     \\\\\n",
       "\t S11362 & 1      & 0     \\\\\n",
       "\t S1137  & 1      & 0     \\\\\n",
       "\\end{tabular}\n"
      ],
      "text/markdown": [
       "\n",
       "datasets | log_exists | search_exists | \n",
       "|---|---|---|---|---|---|---|---|---|---|---|---|---|---|---|\n",
       "| S10036 | 1      | 0      | \n",
       "| S10096 | 1      | 0      | \n",
       "| S10116 | 1      | 0      | \n",
       "| S10167 | 1      | 0      | \n",
       "| S10178 | 1      | 0      | \n",
       "| S10254 | 1      | 0      | \n",
       "| S1070  | 1      | 0      | \n",
       "| S10908 | 1      | 0      | \n",
       "| S1115  | 0      | 0      | \n",
       "| S11161 | 1      | 0      | \n",
       "| S11174 | 1      | 0      | \n",
       "| S11291 | 1      | 1      | \n",
       "| S1134  | 1      | 0      | \n",
       "| S11362 | 1      | 0      | \n",
       "| S1137  | 1      | 0      | \n",
       "\n",
       "\n"
      ],
      "text/plain": [
       "   datasets log_exists search_exists\n",
       "1  S10036   1          0            \n",
       "2  S10096   1          0            \n",
       "3  S10116   1          0            \n",
       "4  S10167   1          0            \n",
       "5  S10178   1          0            \n",
       "6  S10254   1          0            \n",
       "7  S1070    1          0            \n",
       "8  S10908   1          0            \n",
       "9  S1115    0          0            \n",
       "10 S11161   1          0            \n",
       "11 S11174   1          0            \n",
       "12 S11291   1          1            \n",
       "13 S1134    1          0            \n",
       "14 S11362   1          0            \n",
       "15 S1137    1          0            "
      ]
     },
     "metadata": {},
     "output_type": "display_data"
    }
   ],
   "source": [
    "# PREVIEW\n",
    "head(df, 15)"
   ]
  },
  {
   "cell_type": "code",
   "execution_count": 30,
   "metadata": {
    "scrolled": true
   },
   "outputs": [
    {
     "name": "stdout",
     "output_type": "stream",
     "text": [
      "0.9775785 and 0.7264574"
     ]
    }
   ],
   "source": [
    "cat(length(which(df[,2]==1)) / 223, \"and\", length(which(df[,3]==1)) / 223)"
   ]
  },
  {
   "cell_type": "markdown",
   "metadata": {},
   "source": [
    "We have found that 97.7% of all the studies have the log file, and 72.6% of all the studies have matrices in those log files.\n",
    "\n",
    "### Collect acceptance probabilities from matrices\n",
    "In the next code block, I am going to collect the acceptances probabilities in a loop. I'm saving the information to list, then I'm going to convert the list into a dataframe."
   ]
  },
  {
   "cell_type": "code",
   "execution_count": 22,
   "metadata": {
    "collapsed": true,
    "scrolled": true
   },
   "outputs": [],
   "source": [
    "# FOR ONLY THE ONES THAT HAVE THE FILE\n",
    "save_data = list()\n",
    "for (ds in datasets[which(df[,3]==1)]) {\n",
    "  # SCAN IN THE TEXT\n",
    "  this = scan(paste0(ds_folder,ds,\"/\",ds,\"_log.txt\"), what=\"character\", sep=\"\\n\")\n",
    "  start_lines = which(grepl(\"Chain swap information\", this))\n",
    "  \n",
    "  i = 1\n",
    "  for (starting_point in start_lines) {\n",
    "    m = this[(starting_point+3):(starting_point+6)]\n",
    "    acceptances = unlist(lapply(str_extract_all(m, \"\\\\.[0-9]{2}\"), as.double))\n",
    "    save_data[[paste0(ds,\"-\",i)]] = acceptances\n",
    "    i = i + 1\n",
    "  }\n",
    "}"
   ]
  },
  {
   "cell_type": "code",
   "execution_count": 23,
   "metadata": {
    "scrolled": true
   },
   "outputs": [
    {
     "data": {
      "text/html": [
       "<ol class=list-inline>\n",
       "\t<li>0.18</li>\n",
       "\t<li>0.01</li>\n",
       "\t<li>0</li>\n",
       "\t<li>0.27</li>\n",
       "\t<li>0.04</li>\n",
       "\t<li>0.32</li>\n",
       "</ol>\n"
      ],
      "text/latex": [
       "\\begin{enumerate*}\n",
       "\\item 0.18\n",
       "\\item 0.01\n",
       "\\item 0\n",
       "\\item 0.27\n",
       "\\item 0.04\n",
       "\\item 0.32\n",
       "\\end{enumerate*}\n"
      ],
      "text/markdown": [
       "1. 0.18\n",
       "2. 0.01\n",
       "3. 0\n",
       "4. 0.27\n",
       "5. 0.04\n",
       "6. 0.32\n",
       "\n",
       "\n"
      ],
      "text/plain": [
       "[1] 0.18 0.01 0.00 0.27 0.04 0.32"
      ]
     },
     "metadata": {},
     "output_type": "display_data"
    },
    {
     "data": {
      "text/html": [
       "<ol class=list-inline>\n",
       "\t<li>0.18</li>\n",
       "\t<li>0.01</li>\n",
       "\t<li>0</li>\n",
       "\t<li>0.23</li>\n",
       "\t<li>0.03</li>\n",
       "\t<li>0.31</li>\n",
       "</ol>\n"
      ],
      "text/latex": [
       "\\begin{enumerate*}\n",
       "\\item 0.18\n",
       "\\item 0.01\n",
       "\\item 0\n",
       "\\item 0.23\n",
       "\\item 0.03\n",
       "\\item 0.31\n",
       "\\end{enumerate*}\n"
      ],
      "text/markdown": [
       "1. 0.18\n",
       "2. 0.01\n",
       "3. 0\n",
       "4. 0.23\n",
       "5. 0.03\n",
       "6. 0.31\n",
       "\n",
       "\n"
      ],
      "text/plain": [
       "[1] 0.18 0.01 0.00 0.23 0.03 0.31"
      ]
     },
     "metadata": {},
     "output_type": "display_data"
    },
    {
     "data": {
      "text/html": [
       "<ol class=list-inline>\n",
       "\t<li>0.19</li>\n",
       "\t<li>0.01</li>\n",
       "\t<li>0</li>\n",
       "\t<li>0.22</li>\n",
       "\t<li>0.03</li>\n",
       "\t<li>0.27</li>\n",
       "</ol>\n"
      ],
      "text/latex": [
       "\\begin{enumerate*}\n",
       "\\item 0.19\n",
       "\\item 0.01\n",
       "\\item 0\n",
       "\\item 0.22\n",
       "\\item 0.03\n",
       "\\item 0.27\n",
       "\\end{enumerate*}\n"
      ],
      "text/markdown": [
       "1. 0.19\n",
       "2. 0.01\n",
       "3. 0\n",
       "4. 0.22\n",
       "5. 0.03\n",
       "6. 0.27\n",
       "\n",
       "\n"
      ],
      "text/plain": [
       "[1] 0.19 0.01 0.00 0.22 0.03 0.27"
      ]
     },
     "metadata": {},
     "output_type": "display_data"
    }
   ],
   "source": [
    "# PREVIEW\n",
    "save_data[[1]]\n",
    "save_data[[2]]\n",
    "save_data[[3]]"
   ]
  },
  {
   "cell_type": "code",
   "execution_count": 24,
   "metadata": {
    "collapsed": true,
    "scrolled": true
   },
   "outputs": [],
   "source": [
    "# WRITE THE CSV\n",
    "acceptance_rate_df = data.frame(t(data.frame(save_data)))\n",
    "# write.csv(acceptance_rate_df, file=\"/Users/treehouse3/Dropbox/acceptance_rates.csv\")"
   ]
  },
  {
   "cell_type": "code",
   "execution_count": 25,
   "metadata": {
    "scrolled": false
   },
   "outputs": [
    {
     "data": {
      "text/html": [
       "<table>\n",
       "<thead><tr><th></th><th scope=col>X1</th><th scope=col>X2</th><th scope=col>X3</th><th scope=col>X4</th><th scope=col>X5</th><th scope=col>X6</th></tr></thead>\n",
       "<tbody>\n",
       "\t<tr><th scope=row>S11291.1</th><td>0.18</td><td>0.01</td><td>0.00</td><td>0.27</td><td>0.04</td><td>0.32</td></tr>\n",
       "\t<tr><th scope=row>S11291.2</th><td>0.18</td><td>0.01</td><td>0.00</td><td>0.23</td><td>0.03</td><td>0.31</td></tr>\n",
       "\t<tr><th scope=row>S11291.3</th><td>0.19</td><td>0.01</td><td>0.00</td><td>0.22</td><td>0.03</td><td>0.27</td></tr>\n",
       "\t<tr><th scope=row>S11291.4</th><td>0.18</td><td>0.02</td><td>0.00</td><td>0.27</td><td>0.04</td><td>0.31</td></tr>\n",
       "\t<tr><th scope=row>S12213.1</th><td>0.24</td><td>0.03</td><td>0.00</td><td>0.31</td><td>0.05</td><td>0.37</td></tr>\n",
       "\t<tr><th scope=row>S12213.2</th><td>0.24</td><td>0.03</td><td>0.00</td><td>0.31</td><td>0.05</td><td>0.36</td></tr>\n",
       "\t<tr><th scope=row>S12213.3</th><td>0.25</td><td>0.03</td><td>0.00</td><td>0.31</td><td>0.06</td><td>0.36</td></tr>\n",
       "\t<tr><th scope=row>S12213.4</th><td>0.23</td><td>0.03</td><td>0.00</td><td>0.31</td><td>0.06</td><td>0.36</td></tr>\n",
       "\t<tr><th scope=row>S1251.1</th><td>0.00</td><td>0.00</td><td>0.00</td><td>0.30</td><td>0.05</td><td>0.34</td></tr>\n",
       "\t<tr><th scope=row>S1251.2</th><td>0.23</td><td>0.03</td><td>0.00</td><td>0.28</td><td>0.05</td><td>0.36</td></tr>\n",
       "\t<tr><th scope=row>S1251.3</th><td>0.43</td><td>0.12</td><td>0.00</td><td>0.44</td><td>0.00</td><td>0.00</td></tr>\n",
       "\t<tr><th scope=row>S1251.4</th><td>0.25</td><td>0.02</td><td>0.00</td><td>0.27</td><td>0.05</td><td>0.37</td></tr>\n",
       "\t<tr><th scope=row>S12669_1_1.1</th><td>0.68</td><td>0.47</td><td>0.32</td><td>0.74</td><td>0.53</td><td>0.76</td></tr>\n",
       "\t<tr><th scope=row>S12669_1_1.2</th><td>0.68</td><td>0.44</td><td>0.29</td><td>0.70</td><td>0.50</td><td>0.75</td></tr>\n",
       "\t<tr><th scope=row>S12669_1_10.1</th><td>0.71</td><td>0.51</td><td>0.34</td><td>0.74</td><td>0.57</td><td>0.79</td></tr>\n",
       "</tbody>\n",
       "</table>\n"
      ],
      "text/latex": [
       "\\begin{tabular}{r|llllll}\n",
       "  & X1 & X2 & X3 & X4 & X5 & X6\\\\\n",
       "\\hline\n",
       "\tS11291.1 & 0.18 & 0.01 & 0.00 & 0.27 & 0.04 & 0.32\\\\\n",
       "\tS11291.2 & 0.18 & 0.01 & 0.00 & 0.23 & 0.03 & 0.31\\\\\n",
       "\tS11291.3 & 0.19 & 0.01 & 0.00 & 0.22 & 0.03 & 0.27\\\\\n",
       "\tS11291.4 & 0.18 & 0.02 & 0.00 & 0.27 & 0.04 & 0.31\\\\\n",
       "\tS12213.1 & 0.24 & 0.03 & 0.00 & 0.31 & 0.05 & 0.37\\\\\n",
       "\tS12213.2 & 0.24 & 0.03 & 0.00 & 0.31 & 0.05 & 0.36\\\\\n",
       "\tS12213.3 & 0.25 & 0.03 & 0.00 & 0.31 & 0.06 & 0.36\\\\\n",
       "\tS12213.4 & 0.23 & 0.03 & 0.00 & 0.31 & 0.06 & 0.36\\\\\n",
       "\tS1251.1 & 0.00 & 0.00 & 0.00 & 0.30 & 0.05 & 0.34\\\\\n",
       "\tS1251.2 & 0.23 & 0.03 & 0.00 & 0.28 & 0.05 & 0.36\\\\\n",
       "\tS1251.3 & 0.43 & 0.12 & 0.00 & 0.44 & 0.00 & 0.00\\\\\n",
       "\tS1251.4 & 0.25 & 0.02 & 0.00 & 0.27 & 0.05 & 0.37\\\\\n",
       "\tS12669\\_1\\_1.1 & 0.68 & 0.47 & 0.32 & 0.74 & 0.53 & 0.76\\\\\n",
       "\tS12669\\_1\\_1.2 & 0.68 & 0.44 & 0.29 & 0.70 & 0.50 & 0.75\\\\\n",
       "\tS12669\\_1\\_10.1 & 0.71 & 0.51 & 0.34 & 0.74 & 0.57 & 0.79\\\\\n",
       "\\end{tabular}\n"
      ],
      "text/markdown": [
       "\n",
       "| <!--/--> | X1 | X2 | X3 | X4 | X5 | X6 | \n",
       "|---|---|---|---|---|---|---|---|---|---|---|---|---|---|---|\n",
       "| S11291.1 | 0.18 | 0.01 | 0.00 | 0.27 | 0.04 | 0.32 | \n",
       "| S11291.2 | 0.18 | 0.01 | 0.00 | 0.23 | 0.03 | 0.31 | \n",
       "| S11291.3 | 0.19 | 0.01 | 0.00 | 0.22 | 0.03 | 0.27 | \n",
       "| S11291.4 | 0.18 | 0.02 | 0.00 | 0.27 | 0.04 | 0.31 | \n",
       "| S12213.1 | 0.24 | 0.03 | 0.00 | 0.31 | 0.05 | 0.37 | \n",
       "| S12213.2 | 0.24 | 0.03 | 0.00 | 0.31 | 0.05 | 0.36 | \n",
       "| S12213.3 | 0.25 | 0.03 | 0.00 | 0.31 | 0.06 | 0.36 | \n",
       "| S12213.4 | 0.23 | 0.03 | 0.00 | 0.31 | 0.06 | 0.36 | \n",
       "| S1251.1 | 0.00 | 0.00 | 0.00 | 0.30 | 0.05 | 0.34 | \n",
       "| S1251.2 | 0.23 | 0.03 | 0.00 | 0.28 | 0.05 | 0.36 | \n",
       "| S1251.3 | 0.43 | 0.12 | 0.00 | 0.44 | 0.00 | 0.00 | \n",
       "| S1251.4 | 0.25 | 0.02 | 0.00 | 0.27 | 0.05 | 0.37 | \n",
       "| S12669_1_1.1 | 0.68 | 0.47 | 0.32 | 0.74 | 0.53 | 0.76 | \n",
       "| S12669_1_1.2 | 0.68 | 0.44 | 0.29 | 0.70 | 0.50 | 0.75 | \n",
       "| S12669_1_10.1 | 0.71 | 0.51 | 0.34 | 0.74 | 0.57 | 0.79 | \n",
       "\n",
       "\n"
      ],
      "text/plain": [
       "              X1   X2   X3   X4   X5   X6  \n",
       "S11291.1      0.18 0.01 0.00 0.27 0.04 0.32\n",
       "S11291.2      0.18 0.01 0.00 0.23 0.03 0.31\n",
       "S11291.3      0.19 0.01 0.00 0.22 0.03 0.27\n",
       "S11291.4      0.18 0.02 0.00 0.27 0.04 0.31\n",
       "S12213.1      0.24 0.03 0.00 0.31 0.05 0.37\n",
       "S12213.2      0.24 0.03 0.00 0.31 0.05 0.36\n",
       "S12213.3      0.25 0.03 0.00 0.31 0.06 0.36\n",
       "S12213.4      0.23 0.03 0.00 0.31 0.06 0.36\n",
       "S1251.1       0.00 0.00 0.00 0.30 0.05 0.34\n",
       "S1251.2       0.23 0.03 0.00 0.28 0.05 0.36\n",
       "S1251.3       0.43 0.12 0.00 0.44 0.00 0.00\n",
       "S1251.4       0.25 0.02 0.00 0.27 0.05 0.37\n",
       "S12669_1_1.1  0.68 0.47 0.32 0.74 0.53 0.76\n",
       "S12669_1_1.2  0.68 0.44 0.29 0.70 0.50 0.75\n",
       "S12669_1_10.1 0.71 0.51 0.34 0.74 0.57 0.79"
      ]
     },
     "metadata": {},
     "output_type": "display_data"
    }
   ],
   "source": [
    "# PREVIEW\n",
    "head(acceptance_rate_df, 15)"
   ]
  },
  {
   "cell_type": "markdown",
   "metadata": {},
   "source": [
    "### Histogram and summary statistics\n",
    "We have that 5.81% of all acceptance probabilities within these datasets fall below 20% and 44.67% of them fall above 60%."
   ]
  },
  {
   "cell_type": "code",
   "execution_count": 41,
   "metadata": {
    "scrolled": true
   },
   "outputs": [
    {
     "data": {
      "text/plain": [
       "   Min. 1st Qu.  Median    Mean 3rd Qu.    Max. \n",
       " 0.0000  0.3700  0.5150  0.5114  0.6900  0.8100 "
      ]
     },
     "metadata": {},
     "output_type": "display_data"
    },
    {
     "name": "stdout",
     "output_type": "stream",
     "text": [
      "5.81854 and 44.67456"
     ]
    }
   ],
   "source": [
    "summary(unlist(save_data))\n",
    "cat(100*(length(which(unlist(save_data)<0.2)) / length(unlist(save_data))), \"and\", 100*(length(which(unlist(save_data)>0.6)) / length(unlist(save_data))))"
   ]
  },
  {
   "cell_type": "code",
   "execution_count": 73,
   "metadata": {},
   "outputs": [],
   "source": [
    "# GET VIOLATING STUDIES\n",
    "violating_studies = c()\n",
    "for (i in 1:length(acceptance_rate_df[,1])) {\n",
    "  if(any((acceptance_rate_df[i,]<0.2) | (acceptance_rate_df[i,]>0.6))) {\n",
    "    violating_studies = c(violating_studies, rownames(acceptance_rate_df)[i])\n",
    "  }\n",
    "}\n",
    "violating_studies = unique(unlist(lapply(violating_studies, function(x) gsub(\"\\\\.[0-9]{1}\", \"\", x))))"
   ]
  },
  {
   "cell_type": "code",
   "execution_count": 74,
   "metadata": {},
   "outputs": [
    {
     "data": {
      "text/html": [
       "<ol class=list-inline>\n",
       "\t<li>'S11291'</li>\n",
       "\t<li>'S12213'</li>\n",
       "\t<li>'S1251'</li>\n",
       "\t<li>'S12669_1_1'</li>\n",
       "\t<li>'S12669_1_10'</li>\n",
       "\t<li>'S12669_1_100'</li>\n",
       "\t<li>'S12669_1_101'</li>\n",
       "\t<li>'S12669_1_102'</li>\n",
       "\t<li>'S12669_1_103'</li>\n",
       "\t<li>'S12669_1_104'</li>\n",
       "\t<li>'S12669_1_105'</li>\n",
       "\t<li>'S12669_1_106'</li>\n",
       "\t<li>'S12669_1_107'</li>\n",
       "\t<li>'S12669_1_108'</li>\n",
       "\t<li>'S12669_1_109'</li>\n",
       "</ol>\n"
      ],
      "text/latex": [
       "\\begin{enumerate*}\n",
       "\\item 'S11291'\n",
       "\\item 'S12213'\n",
       "\\item 'S1251'\n",
       "\\item 'S12669\\_1\\_1'\n",
       "\\item 'S12669\\_1\\_10'\n",
       "\\item 'S12669\\_1\\_100'\n",
       "\\item 'S12669\\_1\\_101'\n",
       "\\item 'S12669\\_1\\_102'\n",
       "\\item 'S12669\\_1\\_103'\n",
       "\\item 'S12669\\_1\\_104'\n",
       "\\item 'S12669\\_1\\_105'\n",
       "\\item 'S12669\\_1\\_106'\n",
       "\\item 'S12669\\_1\\_107'\n",
       "\\item 'S12669\\_1\\_108'\n",
       "\\item 'S12669\\_1\\_109'\n",
       "\\end{enumerate*}\n"
      ],
      "text/markdown": [
       "1. 'S11291'\n",
       "2. 'S12213'\n",
       "3. 'S1251'\n",
       "4. 'S12669_1_1'\n",
       "5. 'S12669_1_10'\n",
       "6. 'S12669_1_100'\n",
       "7. 'S12669_1_101'\n",
       "8. 'S12669_1_102'\n",
       "9. 'S12669_1_103'\n",
       "10. 'S12669_1_104'\n",
       "11. 'S12669_1_105'\n",
       "12. 'S12669_1_106'\n",
       "13. 'S12669_1_107'\n",
       "14. 'S12669_1_108'\n",
       "15. 'S12669_1_109'\n",
       "\n",
       "\n"
      ],
      "text/plain": [
       " [1] \"S11291\"       \"S12213\"       \"S1251\"        \"S12669_1_1\"   \"S12669_1_10\" \n",
       " [6] \"S12669_1_100\" \"S12669_1_101\" \"S12669_1_102\" \"S12669_1_103\" \"S12669_1_104\"\n",
       "[11] \"S12669_1_105\" \"S12669_1_106\" \"S12669_1_107\" \"S12669_1_108\" \"S12669_1_109\""
      ]
     },
     "metadata": {},
     "output_type": "display_data"
    }
   ],
   "source": [
    "# PREVIEW\n",
    "violating_studies[1:15]"
   ]
  },
  {
   "cell_type": "code",
   "execution_count": 75,
   "metadata": {
    "scrolled": true
   },
   "outputs": [
    {
     "data": {
      "text/html": [
       "0.726457399103139"
      ],
      "text/latex": [
       "0.726457399103139"
      ],
      "text/markdown": [
       "0.726457399103139"
      ],
      "text/plain": [
       "[1] 0.7264574"
      ]
     },
     "metadata": {},
     "output_type": "display_data"
    }
   ],
   "source": [
    "length(violating_studies) / 223"
   ]
  },
  {
   "cell_type": "markdown",
   "metadata": {},
   "source": [
    "72.65% of all of these included studies have acceptance ratios outside of the range of 20-60%."
   ]
  },
  {
   "cell_type": "code",
   "execution_count": 38,
   "metadata": {},
   "outputs": [],
   "source": [
    "# # VISUALS .. UNCOMMENT THIS IF RERUNNING\n",
    "# h = hist(unlist(save_data),\n",
    "#      breaks = 20)"
   ]
  },
  {
   "cell_type": "code",
   "execution_count": 42,
   "metadata": {
    "scrolled": false
   },
   "outputs": [
    {
     "data": {
      "image/png": "[encoded data removed]",
      "text/plain": [
       "Plot with title “Acceptance Probabilities in Datasets”"
      ]
     },
     "metadata": {},
     "output_type": "display_data"
    }
   ],
   "source": [
    "kulay = ifelse((h$breaks < 0.2) | (h$breaks > 0.6), \"snow4\", \"lightseagreen\")[-length(h$breaks)]\n",
    "plot(h, \n",
    "     col=kulay, \n",
    "     xlab=\"Acceptance Probabilities\", \n",
    "     main=\"Acceptance Probabilities in Datasets\")"
   ]
  }
 ],
 "metadata": {
  "kernelspec": {
   "display_name": "R",
   "language": "R",
   "name": "ir"
  },
  "language_info": {
   "codemirror_mode": "r",
   "file_extension": ".r",
   "mimetype": "text/x-r-source",
   "name": "R",
   "pygments_lexer": "r",
   "version": "3.4.2"
  }
 },
 "nbformat": 4,
 "nbformat_minor": 2
}
