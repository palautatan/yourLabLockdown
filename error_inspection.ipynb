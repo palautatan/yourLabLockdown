{
 "cells": [
  {
   "cell_type": "markdown",
   "metadata": {},
   "source": [
    "# Inpsect Errors\n",
    "This script just identifies which were errors."
   ]
  },
  {
   "cell_type": "code",
   "execution_count": 1,
   "metadata": {
    "collapsed": true
   },
   "outputs": [],
   "source": [
    "# LIBRARIES\n",
    "import pandas as pd\n",
    "import numpy as np"
   ]
  },
  {
   "cell_type": "code",
   "execution_count": 2,
   "metadata": {
    "collapsed": true
   },
   "outputs": [],
   "source": [
    "# READ IN DATA\n",
    "table = pd.read_csv(\"/Users/treehouse3/Dropbox/Effect_of_partitioning/step_2_shakedown_runs/output/Python/shakedown_runs_outcomes.csv\")"
   ]
  },
  {
   "cell_type": "code",
   "execution_count": 4,
   "metadata": {},
   "outputs": [
    {
     "data": {
      "text/html": [
       "<div>\n",
       "<style>\n",
       "    .dataframe thead tr:only-child th {\n",
       "        text-align: right;\n",
       "    }\n",
       "\n",
       "    .dataframe thead th {\n",
       "        text-align: left;\n",
       "    }\n",
       "\n",
       "    .dataframe tbody tr th {\n",
       "        vertical-align: top;\n",
       "    }\n",
       "</style>\n",
       "<table border=\"1\" class=\"dataframe\">\n",
       "  <thead>\n",
       "    <tr style=\"text-align: right;\">\n",
       "      <th></th>\n",
       "      <th>dataset</th>\n",
       "      <th>script</th>\n",
       "      <th>hh:mm:ss</th>\n",
       "      <th>outcome</th>\n",
       "    </tr>\n",
       "  </thead>\n",
       "  <tbody>\n",
       "    <tr>\n",
       "      <th>0</th>\n",
       "      <td>117</td>\n",
       "      <td>117_aic.Rev</td>\n",
       "      <td>03:27:09</td>\n",
       "      <td>NaN</td>\n",
       "    </tr>\n",
       "    <tr>\n",
       "      <th>1</th>\n",
       "      <td>117</td>\n",
       "      <td>117_all_apart.Rev</td>\n",
       "      <td>03:16:56</td>\n",
       "      <td>NaN</td>\n",
       "    </tr>\n",
       "    <tr>\n",
       "      <th>2</th>\n",
       "      <td>117</td>\n",
       "      <td>117_bic.Rev</td>\n",
       "      <td>03:08:16</td>\n",
       "      <td>NaN</td>\n",
       "    </tr>\n",
       "    <tr>\n",
       "      <th>3</th>\n",
       "      <td>117</td>\n",
       "      <td>117_gene.Rev</td>\n",
       "      <td>03:31:41</td>\n",
       "      <td>NaN</td>\n",
       "    </tr>\n",
       "    <tr>\n",
       "      <th>4</th>\n",
       "      <td>117</td>\n",
       "      <td>117_together.Rev</td>\n",
       "      <td>03:34:02</td>\n",
       "      <td>NaN</td>\n",
       "    </tr>\n",
       "  </tbody>\n",
       "</table>\n",
       "</div>"
      ],
      "text/plain": [
       "  dataset             script  hh:mm:ss outcome\n",
       "0     117        117_aic.Rev  03:27:09     NaN\n",
       "1     117  117_all_apart.Rev  03:16:56     NaN\n",
       "2     117        117_bic.Rev  03:08:16     NaN\n",
       "3     117       117_gene.Rev  03:31:41     NaN\n",
       "4     117   117_together.Rev  03:34:02     NaN"
      ]
     },
     "execution_count": 4,
     "metadata": {},
     "output_type": "execute_result"
    }
   ],
   "source": [
    "table.head()"
   ]
  },
  {
   "cell_type": "markdown",
   "metadata": {},
   "source": [
    "# .phy file type unknown\n",
    "The error that was bouncing in RevBayes was that the .phy files were not being recognized."
   ]
  },
  {
   "cell_type": "code",
   "execution_count": 5,
   "metadata": {
    "scrolled": true
   },
   "outputs": [
    {
     "data": {
      "text/html": [
       "<div>\n",
       "<style>\n",
       "    .dataframe thead tr:only-child th {\n",
       "        text-align: right;\n",
       "    }\n",
       "\n",
       "    .dataframe thead th {\n",
       "        text-align: left;\n",
       "    }\n",
       "\n",
       "    .dataframe tbody tr th {\n",
       "        vertical-align: top;\n",
       "    }\n",
       "</style>\n",
       "<table border=\"1\" class=\"dataframe\">\n",
       "  <thead>\n",
       "    <tr style=\"text-align: right;\">\n",
       "      <th></th>\n",
       "      <th>dataset</th>\n",
       "      <th>script</th>\n",
       "      <th>hh:mm:ss</th>\n",
       "      <th>outcome</th>\n",
       "    </tr>\n",
       "  </thead>\n",
       "  <tbody>\n",
       "    <tr>\n",
       "      <th>35</th>\n",
       "      <td>Brown_2012</td>\n",
       "      <td>Brown_2012_aic.Rev</td>\n",
       "      <td>00:00:00</td>\n",
       "      <td>Error</td>\n",
       "    </tr>\n",
       "    <tr>\n",
       "      <th>36</th>\n",
       "      <td>Brown_2012</td>\n",
       "      <td>Brown_2012_all_apart.Rev</td>\n",
       "      <td>00:00:00</td>\n",
       "      <td>Error</td>\n",
       "    </tr>\n",
       "    <tr>\n",
       "      <th>37</th>\n",
       "      <td>Brown_2012</td>\n",
       "      <td>Brown_2012_bic.Rev</td>\n",
       "      <td>00:00:00</td>\n",
       "      <td>Error</td>\n",
       "    </tr>\n",
       "    <tr>\n",
       "      <th>38</th>\n",
       "      <td>Brown_2012</td>\n",
       "      <td>Brown_2012_gene.Rev</td>\n",
       "      <td>00:00:00</td>\n",
       "      <td>Error</td>\n",
       "    </tr>\n",
       "    <tr>\n",
       "      <th>39</th>\n",
       "      <td>Brown_2012</td>\n",
       "      <td>Brown_2012_together.Rev</td>\n",
       "      <td>00:00:00</td>\n",
       "      <td>Error</td>\n",
       "    </tr>\n",
       "    <tr>\n",
       "      <th>120</th>\n",
       "      <td>Li_2008</td>\n",
       "      <td>Li_2008_aic.Rev</td>\n",
       "      <td>00:00:00</td>\n",
       "      <td>Error</td>\n",
       "    </tr>\n",
       "    <tr>\n",
       "      <th>121</th>\n",
       "      <td>Li_2008</td>\n",
       "      <td>Li_2008_all_apart.Rev</td>\n",
       "      <td>00:00:00</td>\n",
       "      <td>Error</td>\n",
       "    </tr>\n",
       "    <tr>\n",
       "      <th>122</th>\n",
       "      <td>Li_2008</td>\n",
       "      <td>Li_2008_bic.Rev</td>\n",
       "      <td>00:00:00</td>\n",
       "      <td>Error</td>\n",
       "    </tr>\n",
       "    <tr>\n",
       "      <th>123</th>\n",
       "      <td>Li_2008</td>\n",
       "      <td>Li_2008_gene.Rev</td>\n",
       "      <td>00:00:01</td>\n",
       "      <td>Error</td>\n",
       "    </tr>\n",
       "    <tr>\n",
       "      <th>124</th>\n",
       "      <td>Li_2008</td>\n",
       "      <td>Li_2008_together.Rev</td>\n",
       "      <td>00:00:00</td>\n",
       "      <td>Error</td>\n",
       "    </tr>\n",
       "  </tbody>\n",
       "</table>\n",
       "</div>"
      ],
      "text/plain": [
       "        dataset                    script  hh:mm:ss outcome\n",
       "35   Brown_2012        Brown_2012_aic.Rev  00:00:00   Error\n",
       "36   Brown_2012  Brown_2012_all_apart.Rev  00:00:00   Error\n",
       "37   Brown_2012        Brown_2012_bic.Rev  00:00:00   Error\n",
       "38   Brown_2012       Brown_2012_gene.Rev  00:00:00   Error\n",
       "39   Brown_2012   Brown_2012_together.Rev  00:00:00   Error\n",
       "120     Li_2008           Li_2008_aic.Rev  00:00:00   Error\n",
       "121     Li_2008     Li_2008_all_apart.Rev  00:00:00   Error\n",
       "122     Li_2008           Li_2008_bic.Rev  00:00:00   Error\n",
       "123     Li_2008          Li_2008_gene.Rev  00:00:01   Error\n",
       "124     Li_2008      Li_2008_together.Rev  00:00:00   Error"
      ]
     },
     "execution_count": 5,
     "metadata": {},
     "output_type": "execute_result"
    }
   ],
   "source": [
    "table.loc[table[\"outcome\"] == \"Error\"]"
   ]
  },
  {
   "cell_type": "markdown",
   "metadata": {},
   "source": [
    "# .phy file type works\n",
    "I found that Cognato_2001 and Daniels_2015_crabs had .phy subset files as well, and they were accepted by RevBayes."
   ]
  },
  {
   "cell_type": "code",
   "execution_count": 7,
   "metadata": {},
   "outputs": [
    {
     "data": {
      "text/html": [
       "<div>\n",
       "<style>\n",
       "    .dataframe thead tr:only-child th {\n",
       "        text-align: right;\n",
       "    }\n",
       "\n",
       "    .dataframe thead th {\n",
       "        text-align: left;\n",
       "    }\n",
       "\n",
       "    .dataframe tbody tr th {\n",
       "        vertical-align: top;\n",
       "    }\n",
       "</style>\n",
       "<table border=\"1\" class=\"dataframe\">\n",
       "  <thead>\n",
       "    <tr style=\"text-align: right;\">\n",
       "      <th></th>\n",
       "      <th>dataset</th>\n",
       "      <th>script</th>\n",
       "      <th>hh:mm:ss</th>\n",
       "      <th>outcome</th>\n",
       "    </tr>\n",
       "  </thead>\n",
       "  <tbody>\n",
       "    <tr>\n",
       "      <th>45</th>\n",
       "      <td>Cognato_2001</td>\n",
       "      <td>Cognato_2001_aic.Rev</td>\n",
       "      <td>03:22:40</td>\n",
       "      <td>NaN</td>\n",
       "    </tr>\n",
       "    <tr>\n",
       "      <th>46</th>\n",
       "      <td>Cognato_2001</td>\n",
       "      <td>Cognato_2001_all_apart.Rev</td>\n",
       "      <td>03:31:49</td>\n",
       "      <td>NaN</td>\n",
       "    </tr>\n",
       "    <tr>\n",
       "      <th>47</th>\n",
       "      <td>Cognato_2001</td>\n",
       "      <td>Cognato_2001_bic.Rev</td>\n",
       "      <td>00:00:00</td>\n",
       "      <td>Failure</td>\n",
       "    </tr>\n",
       "    <tr>\n",
       "      <th>48</th>\n",
       "      <td>Cognato_2001</td>\n",
       "      <td>Cognato_2001_gene.Rev</td>\n",
       "      <td>03:36:24</td>\n",
       "      <td>NaN</td>\n",
       "    </tr>\n",
       "    <tr>\n",
       "      <th>49</th>\n",
       "      <td>Cognato_2001</td>\n",
       "      <td>Cognato_2001_together.Rev</td>\n",
       "      <td>03:31:34</td>\n",
       "      <td>NaN</td>\n",
       "    </tr>\n",
       "  </tbody>\n",
       "</table>\n",
       "</div>"
      ],
      "text/plain": [
       "         dataset                      script  hh:mm:ss  outcome\n",
       "45  Cognato_2001        Cognato_2001_aic.Rev  03:22:40      NaN\n",
       "46  Cognato_2001  Cognato_2001_all_apart.Rev  03:31:49      NaN\n",
       "47  Cognato_2001        Cognato_2001_bic.Rev  00:00:00  Failure\n",
       "48  Cognato_2001       Cognato_2001_gene.Rev  03:36:24      NaN\n",
       "49  Cognato_2001   Cognato_2001_together.Rev  03:31:34      NaN"
      ]
     },
     "execution_count": 7,
     "metadata": {},
     "output_type": "execute_result"
    }
   ],
   "source": [
    "table.loc[table[\"dataset\"] == \"Cognato_2001\"]"
   ]
  },
  {
   "cell_type": "code",
   "execution_count": 8,
   "metadata": {},
   "outputs": [
    {
     "data": {
      "text/html": [
       "<div>\n",
       "<style>\n",
       "    .dataframe thead tr:only-child th {\n",
       "        text-align: right;\n",
       "    }\n",
       "\n",
       "    .dataframe thead th {\n",
       "        text-align: left;\n",
       "    }\n",
       "\n",
       "    .dataframe tbody tr th {\n",
       "        vertical-align: top;\n",
       "    }\n",
       "</style>\n",
       "<table border=\"1\" class=\"dataframe\">\n",
       "  <thead>\n",
       "    <tr style=\"text-align: right;\">\n",
       "      <th></th>\n",
       "      <th>dataset</th>\n",
       "      <th>script</th>\n",
       "      <th>hh:mm:ss</th>\n",
       "      <th>outcome</th>\n",
       "    </tr>\n",
       "  </thead>\n",
       "  <tbody>\n",
       "    <tr>\n",
       "      <th>55</th>\n",
       "      <td>Daniels_2015_crabs</td>\n",
       "      <td>Daniels_2015_crabs_aic.Rev</td>\n",
       "      <td>36:41:39</td>\n",
       "      <td>NaN</td>\n",
       "    </tr>\n",
       "    <tr>\n",
       "      <th>56</th>\n",
       "      <td>Daniels_2015_crabs</td>\n",
       "      <td>Daniels_2015_crabs_all_apart.Rev</td>\n",
       "      <td>37:10:46</td>\n",
       "      <td>NaN</td>\n",
       "    </tr>\n",
       "    <tr>\n",
       "      <th>57</th>\n",
       "      <td>Daniels_2015_crabs</td>\n",
       "      <td>Daniels_2015_crabs_bic.Rev</td>\n",
       "      <td>00:00:00</td>\n",
       "      <td>Failure</td>\n",
       "    </tr>\n",
       "    <tr>\n",
       "      <th>58</th>\n",
       "      <td>Daniels_2015_crabs</td>\n",
       "      <td>Daniels_2015_crabs_gene.Rev</td>\n",
       "      <td>37:20:30</td>\n",
       "      <td>NaN</td>\n",
       "    </tr>\n",
       "    <tr>\n",
       "      <th>59</th>\n",
       "      <td>Daniels_2015_crabs</td>\n",
       "      <td>Daniels_2015_crabs_together.Rev</td>\n",
       "      <td>37:03:00</td>\n",
       "      <td>NaN</td>\n",
       "    </tr>\n",
       "  </tbody>\n",
       "</table>\n",
       "</div>"
      ],
      "text/plain": [
       "               dataset                            script  hh:mm:ss  outcome\n",
       "55  Daniels_2015_crabs        Daniels_2015_crabs_aic.Rev  36:41:39      NaN\n",
       "56  Daniels_2015_crabs  Daniels_2015_crabs_all_apart.Rev  37:10:46      NaN\n",
       "57  Daniels_2015_crabs        Daniels_2015_crabs_bic.Rev  00:00:00  Failure\n",
       "58  Daniels_2015_crabs       Daniels_2015_crabs_gene.Rev  37:20:30      NaN\n",
       "59  Daniels_2015_crabs   Daniels_2015_crabs_together.Rev  37:03:00      NaN"
      ]
     },
     "execution_count": 8,
     "metadata": {},
     "output_type": "execute_result"
    }
   ],
   "source": [
    "table.loc[table[\"dataset\"] == \"Daniels_2015_crabs\"]"
   ]
  },
  {
   "cell_type": "markdown",
   "metadata": {
    "collapsed": true
   },
   "source": [
    "There was no outcome to this script. I inspected the .phy files to find out that there was no apparent reason why they were not being able to be read into RevBayes. To circumvent this issue, I converted the .phy file types for Brown_2012 and Li_2008 into .nex files with the script called __phy_to_nex.ipynb__."
   ]
  }
 ],
 "metadata": {
  "kernelspec": {
   "display_name": "Python 3",
   "language": "python",
   "name": "python3"
  },
  "language_info": {
   "codemirror_mode": {
    "name": "ipython",
    "version": 3
   },
   "file_extension": ".py",
   "mimetype": "text/x-python",
   "name": "python",
   "nbconvert_exporter": "python",
   "pygments_lexer": "ipython3",
   "version": "3.6.2"
  }
 },
 "nbformat": 4,
 "nbformat_minor": 2
}
